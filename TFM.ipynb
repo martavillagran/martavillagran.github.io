{
  "nbformat": 4,
  "nbformat_minor": 0,
  "metadata": {
    "accelerator": "GPU",
    "colab": {
      "name": "TFM.ipynb",
      "provenance": [],
      "collapsed_sections": [
        "CsgYxvzHCb2J"
      ],
      "toc_visible": true,
      "authorship_tag": "ABX9TyOmXr/0cEQ8Sa2+VqKB7SpO",
      "include_colab_link": true
    },
    "kernelspec": {
      "display_name": "Python 3",
      "name": "python3"
    },
    "language_info": {
      "name": "python"
    }
  },
  "cells": [
    {
      "cell_type": "markdown",
      "metadata": {
        "id": "view-in-github",
        "colab_type": "text"
      },
      "source": [
        "<a href=\"https://colab.research.google.com/github/martavillagran/martavillagran.github.io/blob/main/TFM.ipynb\" target=\"_parent\"><img src=\"https://colab.research.google.com/assets/colab-badge.svg\" alt=\"Open In Colab\"/></a>"
      ]
    },
    {
      "cell_type": "markdown",
      "metadata": {
        "id": "hbe7etjox_im"
      },
      "source": [
        "# Pruebas\n"
      ]
    },
    {
      "cell_type": "markdown",
      "metadata": {
        "id": "_3hpVQVUIB1n"
      },
      "source": [
        "### **Prueba para comprobar el truco de la matriz identidad**"
      ]
    },
    {
      "cell_type": "code",
      "metadata": {
        "id": "AgZItwfEDZx8"
      },
      "source": [
        "import tensorflow as tf\n",
        "from tensorflow import keras"
      ],
      "execution_count": null,
      "outputs": []
    },
    {
      "cell_type": "code",
      "metadata": {
        "colab": {
          "base_uri": "https://localhost:8080/"
        },
        "id": "8yDMU6kCDYpL",
        "outputId": "d3a89df3-a5a6-48a0-a7ed-4fe28149e7f1"
      },
      "source": [
        "# Datos del mnist\n",
        "(train_images, train_labels), (test_images, test_labels) = tf.keras.datasets.mnist.load_data()"
      ],
      "execution_count": null,
      "outputs": [
        {
          "name": "stdout",
          "output_type": "stream",
          "text": [
            "Downloading data from https://storage.googleapis.com/tensorflow/tf-keras-datasets/mnist.npz\n",
            "11493376/11490434 [==============================] - 0s 0us/step\n",
            "11501568/11490434 [==============================] - 0s 0us/step\n"
          ]
        }
      ]
    },
    {
      "cell_type": "code",
      "metadata": {
        "id": "mVs0tZMnDWHR"
      },
      "source": [
        "# Parameters\n",
        "max_layers = 7\n",
        "max_layers_2train = 3\n",
        "num_max_units = 54\n",
        "input_dim = 28"
      ],
      "execution_count": null,
      "outputs": []
    },
    {
      "cell_type": "code",
      "metadata": {
        "id": "g_uxhqZktrlF"
      },
      "source": [
        "def build_model(max_layers):\n",
        "  # Comprobaciones de la identidad tipo resnet (fijo las tres primeras capas y el resto no las entreno)\n",
        "  inputs = keras.Input(shape=(input_dim, input_dim), name=\"digits\")\n",
        "\n",
        "  for layers in range(max_layers):\n",
        "    if layers == 0:\n",
        "      x = keras.layers.Flatten()(inputs)\n",
        "    else:\n",
        "      if layers > 3:  \n",
        "        x = keras.layers.Dense(num_max_units, trainable=False, kernel_initializer=tf.keras.initializers.Identity())(x)\n",
        "      else:\n",
        "        x = keras.layers.Dense(num_max_units, activation=\"sigmoid\")(x)\n",
        "\n",
        "  outputs = keras.layers.Dense(len(np.unique(train_labels)), activation=\"softmax\", name=\"classification\")(x)\n",
        "  return  keras.Model(inputs=inputs, outputs=outputs)"
      ],
      "execution_count": null,
      "outputs": []
    },
    {
      "cell_type": "code",
      "metadata": {
        "colab": {
          "base_uri": "https://localhost:8080/",
          "height": 262
        },
        "id": "vs5o5_FRD1Ko",
        "outputId": "3c5ec3c0-fa9b-4de9-c12c-fabe44839347"
      },
      "source": [
        "model1 = build_model(7)"
      ],
      "execution_count": null,
      "outputs": [
        {
          "ename": "NameError",
          "evalue": "ignored",
          "output_type": "error",
          "traceback": [
            "\u001b[0;31m---------------------------------------------------------------------------\u001b[0m",
            "\u001b[0;31mNameError\u001b[0m                                 Traceback (most recent call last)",
            "\u001b[0;32m<ipython-input-5-32d15d7b164a>\u001b[0m in \u001b[0;36m<module>\u001b[0;34m()\u001b[0m\n\u001b[0;32m----> 1\u001b[0;31m \u001b[0mmodel1\u001b[0m \u001b[0;34m=\u001b[0m \u001b[0mbuild_model\u001b[0m\u001b[0;34m(\u001b[0m\u001b[0;36m7\u001b[0m\u001b[0;34m)\u001b[0m\u001b[0;34m\u001b[0m\u001b[0;34m\u001b[0m\u001b[0m\n\u001b[0m",
            "\u001b[0;32m<ipython-input-4-ecbdeee82ffc>\u001b[0m in \u001b[0;36mbuild_model\u001b[0;34m(max_layers)\u001b[0m\n\u001b[1;32m     12\u001b[0m         \u001b[0mx\u001b[0m \u001b[0;34m=\u001b[0m \u001b[0mkeras\u001b[0m\u001b[0;34m.\u001b[0m\u001b[0mlayers\u001b[0m\u001b[0;34m.\u001b[0m\u001b[0mDense\u001b[0m\u001b[0;34m(\u001b[0m\u001b[0mnum_max_units\u001b[0m\u001b[0;34m,\u001b[0m \u001b[0mactivation\u001b[0m\u001b[0;34m=\u001b[0m\u001b[0;34m\"sigmoid\"\u001b[0m\u001b[0;34m)\u001b[0m\u001b[0;34m(\u001b[0m\u001b[0mx\u001b[0m\u001b[0;34m)\u001b[0m\u001b[0;34m\u001b[0m\u001b[0;34m\u001b[0m\u001b[0m\n\u001b[1;32m     13\u001b[0m \u001b[0;34m\u001b[0m\u001b[0m\n\u001b[0;32m---> 14\u001b[0;31m   \u001b[0moutputs\u001b[0m \u001b[0;34m=\u001b[0m \u001b[0mkeras\u001b[0m\u001b[0;34m.\u001b[0m\u001b[0mlayers\u001b[0m\u001b[0;34m.\u001b[0m\u001b[0mDense\u001b[0m\u001b[0;34m(\u001b[0m\u001b[0mlen\u001b[0m\u001b[0;34m(\u001b[0m\u001b[0mnp\u001b[0m\u001b[0;34m.\u001b[0m\u001b[0munique\u001b[0m\u001b[0;34m(\u001b[0m\u001b[0mtrain_labels\u001b[0m\u001b[0;34m)\u001b[0m\u001b[0;34m)\u001b[0m\u001b[0;34m,\u001b[0m \u001b[0mactivation\u001b[0m\u001b[0;34m=\u001b[0m\u001b[0;34m\"softmax\"\u001b[0m\u001b[0;34m,\u001b[0m \u001b[0mname\u001b[0m\u001b[0;34m=\u001b[0m\u001b[0;34m\"classification\"\u001b[0m\u001b[0;34m)\u001b[0m\u001b[0;34m(\u001b[0m\u001b[0mx\u001b[0m\u001b[0;34m)\u001b[0m\u001b[0;34m\u001b[0m\u001b[0;34m\u001b[0m\u001b[0m\n\u001b[0m\u001b[1;32m     15\u001b[0m   \u001b[0;32mreturn\u001b[0m  \u001b[0mkeras\u001b[0m\u001b[0;34m.\u001b[0m\u001b[0mModel\u001b[0m\u001b[0;34m(\u001b[0m\u001b[0minputs\u001b[0m\u001b[0;34m=\u001b[0m\u001b[0minputs\u001b[0m\u001b[0;34m,\u001b[0m \u001b[0moutputs\u001b[0m\u001b[0;34m=\u001b[0m\u001b[0moutputs\u001b[0m\u001b[0;34m)\u001b[0m\u001b[0;34m\u001b[0m\u001b[0;34m\u001b[0m\u001b[0m\n",
            "\u001b[0;31mNameError\u001b[0m: name 'np' is not defined"
          ]
        }
      ]
    },
    {
      "cell_type": "code",
      "metadata": {
        "id": "WRV9OJCpD46w"
      },
      "source": [
        "model1.summary()"
      ],
      "execution_count": null,
      "outputs": []
    },
    {
      "cell_type": "code",
      "metadata": {
        "id": "hXOQFVR5nghy"
      },
      "source": [
        "model2 = build_model(4)"
      ],
      "execution_count": null,
      "outputs": []
    },
    {
      "cell_type": "code",
      "metadata": {
        "id": "u04kj0s5D_EE"
      },
      "source": [
        "model2.summary()"
      ],
      "execution_count": null,
      "outputs": []
    },
    {
      "cell_type": "code",
      "metadata": {
        "id": "hfgW8Qw22xOD"
      },
      "source": [
        "model1.compile(optimizer=keras.optimizers.SGD(learning_rate=0.01), \n",
        "              loss='sparse_categorical_crossentropy', metrics=['accuracy'])"
      ],
      "execution_count": null,
      "outputs": []
    },
    {
      "cell_type": "code",
      "metadata": {
        "id": "oNtG0Pfl2zLM"
      },
      "source": [
        "np.random.seed(19)\n",
        "tf.random.set_seed(41)\n",
        "history = model1.fit(train_images, train_labels, epochs=100, batch_size=512, shuffle=False)"
      ],
      "execution_count": null,
      "outputs": []
    },
    {
      "cell_type": "code",
      "metadata": {
        "id": "Vd6r5iHC3Bxf"
      },
      "source": [
        "model1.predict(test_images[0:1])"
      ],
      "execution_count": null,
      "outputs": []
    },
    {
      "cell_type": "markdown",
      "metadata": {
        "id": "07Yy9LT5H2sy"
      },
      "source": [
        "# Planteamiento"
      ]
    },
    {
      "cell_type": "markdown",
      "metadata": {
        "id": "wEOWCHLixfOt"
      },
      "source": [
        "#### Con Keras"
      ]
    },
    {
      "cell_type": "code",
      "metadata": {
        "id": "0uJlpon8H4gn"
      },
      "source": [
        "import tensorflow as tf\n",
        "from tensorflow import keras\n",
        "import numpy as np"
      ],
      "execution_count": null,
      "outputs": []
    },
    {
      "cell_type": "code",
      "metadata": {
        "id": "68LLfOXYIAo6",
        "colab": {
          "base_uri": "https://localhost:8080/"
        },
        "outputId": "3cef8de5-6039-4073-ae7c-5bdc6ae35817"
      },
      "source": [
        "# Datos del mnist\n",
        "(train_images, train_labels), (test_images, test_labels) = tf.keras.datasets.mnist.load_data()"
      ],
      "execution_count": null,
      "outputs": [
        {
          "output_type": "stream",
          "name": "stdout",
          "text": [
            "Downloading data from https://storage.googleapis.com/tensorflow/tf-keras-datasets/mnist.npz\n",
            "11493376/11490434 [==============================] - 0s 0us/step\n"
          ]
        }
      ]
    },
    {
      "cell_type": "code",
      "metadata": {
        "id": "s2xm5wveH8h5"
      },
      "source": [
        "# Parameters\n",
        "max_layers = 6\n",
        "max_layers_2train = 2\n",
        "num_max_units = 54\n",
        "input_dim = 28\n",
        "trigger_thr = 0.025"
      ],
      "execution_count": null,
      "outputs": []
    },
    {
      "cell_type": "code",
      "metadata": {
        "id": "NDgkjORZISpC"
      },
      "source": [
        "def build_model(max_layers, max_layers2train):\n",
        "  # Comprobaciones de la identidad tipo resnet (fijo las tres primeras capas y el resto no las entreno)\n",
        "  inputs = keras.Input(shape=(input_dim**2,), name=\"digits\")\n",
        "\n",
        "  for layers in range(max_layers):\n",
        "    if layers == 0:\n",
        "      x = keras.layers.Dense(num_max_units, activation=\"relu\", name=\"layer%s\" %layers, kernel_constraint=FreezeSlice([1],np.s_[0]))(inputs)\n",
        "    else:\n",
        "      if layers > max_layers2train:  \n",
        "        x = keras.layers.Dense(num_max_units, trainable=False,  name=\"layer%s\" %layers, \n",
        "                               kernel_initializer=tf.keras.initializers.Identity())(x)\n",
        "      else:\n",
        "        x = keras.layers.Dense(num_max_units,  name=\"layer%s\" %layers, activation=\"relu\")(x)\n",
        "\n",
        "  outputs = keras.layers.Dense(len(np.unique(train_labels)), activation=\"softmax\", name=\"classification\")(x)\n",
        "  return  keras.Model(inputs=inputs, outputs=outputs)"
      ],
      "execution_count": null,
      "outputs": []
    },
    {
      "cell_type": "code",
      "metadata": {
        "id": "5mVLYDeiIj3J",
        "colab": {
          "base_uri": "https://localhost:8080/",
          "height": 310
        },
        "outputId": "8371401c-0002-4599-815e-0e15b3aeb6dc"
      },
      "source": [
        "model = build_model(max_layers, max_layers_2train)"
      ],
      "execution_count": null,
      "outputs": [
        {
          "output_type": "error",
          "ename": "NameError",
          "evalue": "ignored",
          "traceback": [
            "\u001b[1;31m---------------------------------------------------------------------------\u001b[0m",
            "\u001b[1;31mNameError\u001b[0m                                 Traceback (most recent call last)",
            "\u001b[1;32m<ipython-input-6-05dd31fc2331>\u001b[0m in \u001b[0;36m<module>\u001b[1;34m\u001b[0m\n\u001b[1;32m----> 1\u001b[1;33m \u001b[0mmodel\u001b[0m \u001b[1;33m=\u001b[0m \u001b[0mbuild_model\u001b[0m\u001b[1;33m(\u001b[0m\u001b[0mmax_layers\u001b[0m\u001b[1;33m,\u001b[0m \u001b[0mmax_layers_2train\u001b[0m\u001b[1;33m)\u001b[0m\u001b[1;33m\u001b[0m\u001b[1;33m\u001b[0m\u001b[0m\n\u001b[0m",
            "\u001b[1;32m<ipython-input-5-182729a65b6c>\u001b[0m in \u001b[0;36mbuild_model\u001b[1;34m(max_layers, max_layers2train)\u001b[0m\n\u001b[0;32m      5\u001b[0m   \u001b[1;32mfor\u001b[0m \u001b[0mlayers\u001b[0m \u001b[1;32min\u001b[0m \u001b[0mrange\u001b[0m\u001b[1;33m(\u001b[0m\u001b[0mmax_layers\u001b[0m\u001b[1;33m)\u001b[0m\u001b[1;33m:\u001b[0m\u001b[1;33m\u001b[0m\u001b[1;33m\u001b[0m\u001b[0m\n\u001b[0;32m      6\u001b[0m     \u001b[1;32mif\u001b[0m \u001b[0mlayers\u001b[0m \u001b[1;33m==\u001b[0m \u001b[1;36m0\u001b[0m\u001b[1;33m:\u001b[0m\u001b[1;33m\u001b[0m\u001b[1;33m\u001b[0m\u001b[0m\n\u001b[1;32m----> 7\u001b[1;33m       \u001b[0mx\u001b[0m \u001b[1;33m=\u001b[0m \u001b[0mkeras\u001b[0m\u001b[1;33m.\u001b[0m\u001b[0mlayers\u001b[0m\u001b[1;33m.\u001b[0m\u001b[0mDense\u001b[0m\u001b[1;33m(\u001b[0m\u001b[0mnum_max_units\u001b[0m\u001b[1;33m,\u001b[0m \u001b[0mactivation\u001b[0m\u001b[1;33m=\u001b[0m\u001b[1;34m\"relu\"\u001b[0m\u001b[1;33m,\u001b[0m \u001b[0mname\u001b[0m\u001b[1;33m=\u001b[0m\u001b[1;34m\"layer%s\"\u001b[0m \u001b[1;33m%\u001b[0m\u001b[0mlayers\u001b[0m\u001b[1;33m,\u001b[0m \u001b[0mkernel_constraint\u001b[0m\u001b[1;33m=\u001b[0m\u001b[0mFreezeSlice\u001b[0m\u001b[1;33m(\u001b[0m\u001b[1;33m[\u001b[0m\u001b[1;36m1\u001b[0m\u001b[1;33m]\u001b[0m\u001b[1;33m,\u001b[0m\u001b[0mnp\u001b[0m\u001b[1;33m.\u001b[0m\u001b[0ms_\u001b[0m\u001b[1;33m[\u001b[0m\u001b[1;36m0\u001b[0m\u001b[1;33m]\u001b[0m\u001b[1;33m)\u001b[0m\u001b[1;33m)\u001b[0m\u001b[1;33m(\u001b[0m\u001b[0minputs\u001b[0m\u001b[1;33m)\u001b[0m\u001b[1;33m\u001b[0m\u001b[1;33m\u001b[0m\u001b[0m\n\u001b[0m\u001b[0;32m      8\u001b[0m     \u001b[1;32melse\u001b[0m\u001b[1;33m:\u001b[0m\u001b[1;33m\u001b[0m\u001b[1;33m\u001b[0m\u001b[0m\n\u001b[0;32m      9\u001b[0m       \u001b[1;32mif\u001b[0m \u001b[0mlayers\u001b[0m \u001b[1;33m>\u001b[0m \u001b[0mmax_layers2train\u001b[0m\u001b[1;33m:\u001b[0m\u001b[1;33m\u001b[0m\u001b[1;33m\u001b[0m\u001b[0m\n",
            "\u001b[1;31mNameError\u001b[0m: name 'FreezeSlice' is not defined"
          ]
        }
      ]
    },
    {
      "cell_type": "code",
      "metadata": {
        "colab": {
          "base_uri": "https://localhost:8080/"
        },
        "id": "Bx4G81owMk4Q",
        "outputId": "67bb1eac-d5c3-4fd0-e083-702c0f8cdbaa"
      },
      "source": [
        "model.summary()"
      ],
      "execution_count": null,
      "outputs": [
        {
          "name": "stdout",
          "output_type": "stream",
          "text": [
            "Model: \"model_3\"\n",
            "_________________________________________________________________\n",
            "Layer (type)                 Output Shape              Param #   \n",
            "=================================================================\n",
            "digits (InputLayer)          [(None, 784)]             0         \n",
            "_________________________________________________________________\n",
            "layer0 (Dense)               (None, 54)                42390     \n",
            "_________________________________________________________________\n",
            "layer1 (Dense)               (None, 54)                2970      \n",
            "_________________________________________________________________\n",
            "layer2 (Dense)               (None, 54)                2970      \n",
            "_________________________________________________________________\n",
            "layer3 (Dense)               (None, 54)                2970      \n",
            "_________________________________________________________________\n",
            "layer4 (Dense)               (None, 54)                2970      \n",
            "_________________________________________________________________\n",
            "layer5 (Dense)               (None, 54)                2970      \n",
            "_________________________________________________________________\n",
            "classification (Dense)       (None, 10)                550       \n",
            "=================================================================\n",
            "Total params: 57,790\n",
            "Trainable params: 48,880\n",
            "Non-trainable params: 8,910\n",
            "_________________________________________________________________\n"
          ]
        }
      ]
    },
    {
      "cell_type": "code",
      "metadata": {
        "id": "nbd5yBCQIqHy"
      },
      "source": [
        "model.compile(optimizer='adam', loss='sparse_categorical_crossentropy', metrics='accuracy')"
      ],
      "execution_count": null,
      "outputs": []
    },
    {
      "cell_type": "code",
      "metadata": {
        "id": "h5rM0sfLJ24m"
      },
      "source": [
        "# Prepare the training dataset\n",
        "batch_size = 512\n",
        "(x_train, y_train), (x_test, y_test) = keras.datasets.mnist.load_data()\n",
        "x_train = np.reshape(x_train, (-1, 784))\n",
        "x_test = np.reshape(x_test, (-1, 784))\n",
        "train_dataset = tf.data.Dataset.from_tensor_slices((x_train, y_train))\n",
        "train_dataset = train_dataset.shuffle(buffer_size=1024).batch(batch_size)"
      ],
      "execution_count": null,
      "outputs": []
    },
    {
      "cell_type": "code",
      "metadata": {
        "id": "eAXmGg6xMDqy"
      },
      "source": [
        "# Prepare the metrics.\n",
        "train_acc_metric = keras.metrics.SparseCategoricalAccuracy()\n",
        "val_acc_metric = keras.metrics.SparseCategoricalAccuracy()"
      ],
      "execution_count": null,
      "outputs": []
    },
    {
      "cell_type": "code",
      "metadata": {
        "id": "ONcqygmHME64"
      },
      "source": [
        "# Instantiate an optimizer.\n",
        "optimizer = keras.optimizers.SGD(learning_rate=1e-3)\n",
        "# Instantiate a loss function.\n",
        "loss_fn = keras.losses.SparseCategoricalCrossentropy(from_logits=True)"
      ],
      "execution_count": null,
      "outputs": []
    },
    {
      "cell_type": "code",
      "metadata": {
        "id": "Hjqe-lwlKnfV"
      },
      "source": [
        "@tf.function\n",
        "def train_step(x, y):\n",
        "    with tf.GradientTape() as tape:\n",
        "        logits = model(x, training=True)\n",
        "        loss_value = loss_fn(y, logits)\n",
        "    grads = tape.gradient(loss_value, model.trainable_weights)\n",
        "    optimizer.apply_gradients(zip(grads, model.trainable_weights))\n",
        "    train_acc_metric.update_state(y, logits)\n",
        "    return loss_value"
      ],
      "execution_count": null,
      "outputs": []
    },
    {
      "cell_type": "code",
      "metadata": {
        "id": "L1JQudrAQimG"
      },
      "source": [
        "trigger_thr = 0.25"
      ],
      "execution_count": null,
      "outputs": []
    },
    {
      "cell_type": "code",
      "metadata": {
        "id": "Bo0DiUCJRYle"
      },
      "source": [
        "def get_non_trainable_layers(model, max_layers):\n",
        "  non_trainable = np.zeros(max_layers)\n",
        "  for i in range(max_layers):\n",
        "    if model.get_layer(\"layer%s\" %i).trainable == 0:\n",
        "      non_trainable[i] = 1\n",
        "  return non_trainable"
      ],
      "execution_count": null,
      "outputs": []
    },
    {
      "cell_type": "code",
      "metadata": {
        "id": "nv-7xrahvpz6"
      },
      "source": [
        "non_trainabale_layers = get_non_trainable_layers(model, max_layers)"
      ],
      "execution_count": null,
      "outputs": []
    },
    {
      "cell_type": "code",
      "metadata": {
        "colab": {
          "base_uri": "https://localhost:8080/"
        },
        "id": "P8wQaMWPwOIN",
        "outputId": "c71e1061-40df-407b-fc8b-fea9798b4741"
      },
      "source": [
        "# Trainable weigths para hacer la mascara y el dropout\n",
        "# No sirve lo anterior, el modelo no se compila, hacerlo con early stopping\n",
        "# https://github.com/keras-team/keras/issues/2880 - para darle freeze"
      ],
      "execution_count": null,
      "outputs": [
        {
          "data": {
            "text/plain": [
              "array([0., 0., 0., 1., 1., 1.])"
            ]
          },
          "execution_count": 21,
          "metadata": {},
          "output_type": "execute_result"
        }
      ]
    },
    {
      "cell_type": "code",
      "metadata": {
        "colab": {
          "base_uri": "https://localhost:8080/",
          "height": 162
        },
        "id": "jK-H0y0A1tf6",
        "outputId": "22b96861-1538-49e9-9b5f-0ff4621d30bd"
      },
      "source": [
        "w1 = model.get_layer('layer0').get_weigths()[0]"
      ],
      "execution_count": null,
      "outputs": [
        {
          "ename": "AttributeError",
          "evalue": "ignored",
          "output_type": "error",
          "traceback": [
            "\u001b[0;31m---------------------------------------------------------------------------\u001b[0m",
            "\u001b[0;31mAttributeError\u001b[0m                            Traceback (most recent call last)",
            "\u001b[0;32m<ipython-input-78-802a5550fc0f>\u001b[0m in \u001b[0;36m<module>\u001b[0;34m()\u001b[0m\n\u001b[0;32m----> 1\u001b[0;31m \u001b[0mw1\u001b[0m \u001b[0;34m=\u001b[0m \u001b[0mmodel\u001b[0m\u001b[0;34m.\u001b[0m\u001b[0mget_layer\u001b[0m\u001b[0;34m(\u001b[0m\u001b[0;34m'layer0'\u001b[0m\u001b[0;34m)\u001b[0m\u001b[0;34m.\u001b[0m\u001b[0mget_weigth\u001b[0m\u001b[0;34m(\u001b[0m\u001b[0;34m)\u001b[0m\u001b[0;34m[\u001b[0m\u001b[0;36m0\u001b[0m\u001b[0;34m]\u001b[0m\u001b[0;34m\u001b[0m\u001b[0;34m\u001b[0m\u001b[0m\n\u001b[0m",
            "\u001b[0;31mAttributeError\u001b[0m: 'Dense' object has no attribute 'get_weigth'"
          ]
        }
      ]
    },
    {
      "cell_type": "code",
      "metadata": {
        "colab": {
          "base_uri": "https://localhost:8080/"
        },
        "id": "ztoxMQZNJnqo",
        "outputId": "a210c920-d7bf-43d2-d0c4-e92ff088251c"
      },
      "source": [
        "# Custom training loop\n",
        "epochs = 10\n",
        "\n",
        "for epoch in range(epochs):\n",
        "  # Iterate over the batches of the dataset.\n",
        "    loss_prev = loss_value\n",
        "    for step, (x_batch_train, y_batch_train) in enumerate(train_dataset):\n",
        "        loss_value = train_step(x_batch_train, y_batch_train)\n",
        "    \n",
        "    if epoch == 0:\n",
        "      loss_prev = loss_value\n",
        "    if np.abs((loss_prev - loss_value)/loss_prev) > trigger_thr:\n",
        "      # GA optimization ex\n",
        "      hidden_layers = 4\n",
        "      non_trainabale_layers = get_non_trainable_layers(model, max_layers)\n",
        "      while (max_layers - np.sum(non_trainabale_layers)) < hidden_layers:\n",
        "        print('Trigger')\n",
        "        idx = np.where(non_trainabale_layers>0)[0]\n",
        "        non_trainabale_layers[idx[0]] = 0\n",
        "        model.get_layer(\"layer%s\" %idx[0]).trainable = True\n",
        "        model.compile(optimizer='adam', loss='sparse_categorical_crossentropy', metrics='accuracy') # ojo que sino no hace nada\n",
        "        \n",
        "   \n",
        "    # Display metrics at the end of each epoch.\n",
        "    train_acc = train_acc_metric.result()\n",
        "    print(\"Training acc over epoch: %.4f\" % (float(train_acc),))\n",
        "     # Reset training metrics at the end of each epoch\n",
        "    train_acc_metric.reset_states()"
      ],
      "execution_count": null,
      "outputs": [
        {
          "name": "stdout",
          "output_type": "stream",
          "text": [
            "Training acc over epoch: 0.8779\n",
            "Training acc over epoch: 0.8813\n",
            "Training acc over epoch: 0.8869\n",
            "Training acc over epoch: 0.8920\n",
            "Training acc over epoch: 0.8947\n",
            "Training acc over epoch: 0.8969\n",
            "Training acc over epoch: 0.8993\n",
            "Training acc over epoch: 0.9020\n",
            "Training acc over epoch: 0.9039\n",
            "Training acc over epoch: 0.9062\n"
          ]
        }
      ]
    },
    {
      "cell_type": "code",
      "metadata": {
        "colab": {
          "base_uri": "https://localhost:8080/"
        },
        "id": "4u0iUp3yyPl8",
        "outputId": "f45114fa-5e0e-45b6-92c8-1cc52c1b6e94"
      },
      "source": [
        "non_trainabale_layers = get_non_trainable_layers(model, max_layers)\n",
        "non_trainabale_layers"
      ],
      "execution_count": null,
      "outputs": [
        {
          "data": {
            "text/plain": [
              "array([0., 0., 0., 0., 1., 1.])"
            ]
          },
          "execution_count": 57,
          "metadata": {},
          "output_type": "execute_result"
        }
      ]
    },
    {
      "cell_type": "code",
      "metadata": {
        "id": "BvLIGknvzRFR"
      },
      "source": [
        "w3 = model.get_layer('layer0')\n"
      ],
      "execution_count": null,
      "outputs": []
    },
    {
      "cell_type": "code",
      "metadata": {
        "id": "fv_hXYu4_pHQ"
      },
      "source": [
        "import pandas as pd"
      ],
      "execution_count": null,
      "outputs": []
    },
    {
      "cell_type": "code",
      "metadata": {
        "colab": {
          "base_uri": "https://localhost:8080/",
          "height": 437
        },
        "id": "Ckn16TWc_Zzu",
        "outputId": "3a9ddc72-5064-4922-b10d-d2a5ba8fc1fd"
      },
      "source": [
        "pd.DataFrame(w3.get_weights()[0])"
      ],
      "execution_count": null,
      "outputs": [
        {
          "data": {
            "text/html": [
              "<div>\n",
              "<style scoped>\n",
              "    .dataframe tbody tr th:only-of-type {\n",
              "        vertical-align: middle;\n",
              "    }\n",
              "\n",
              "    .dataframe tbody tr th {\n",
              "        vertical-align: top;\n",
              "    }\n",
              "\n",
              "    .dataframe thead th {\n",
              "        text-align: right;\n",
              "    }\n",
              "</style>\n",
              "<table border=\"1\" class=\"dataframe\">\n",
              "  <thead>\n",
              "    <tr style=\"text-align: right;\">\n",
              "      <th></th>\n",
              "      <th>0</th>\n",
              "      <th>1</th>\n",
              "      <th>2</th>\n",
              "      <th>3</th>\n",
              "      <th>4</th>\n",
              "      <th>5</th>\n",
              "      <th>6</th>\n",
              "      <th>7</th>\n",
              "      <th>8</th>\n",
              "      <th>9</th>\n",
              "      <th>10</th>\n",
              "      <th>11</th>\n",
              "      <th>12</th>\n",
              "      <th>13</th>\n",
              "      <th>14</th>\n",
              "      <th>15</th>\n",
              "      <th>16</th>\n",
              "      <th>17</th>\n",
              "      <th>18</th>\n",
              "      <th>19</th>\n",
              "      <th>20</th>\n",
              "      <th>21</th>\n",
              "      <th>22</th>\n",
              "      <th>23</th>\n",
              "      <th>24</th>\n",
              "      <th>25</th>\n",
              "      <th>26</th>\n",
              "      <th>27</th>\n",
              "      <th>28</th>\n",
              "      <th>29</th>\n",
              "      <th>30</th>\n",
              "      <th>31</th>\n",
              "      <th>32</th>\n",
              "      <th>33</th>\n",
              "      <th>34</th>\n",
              "      <th>35</th>\n",
              "      <th>36</th>\n",
              "      <th>37</th>\n",
              "      <th>38</th>\n",
              "      <th>39</th>\n",
              "      <th>40</th>\n",
              "      <th>41</th>\n",
              "      <th>42</th>\n",
              "      <th>43</th>\n",
              "      <th>44</th>\n",
              "      <th>45</th>\n",
              "      <th>46</th>\n",
              "      <th>47</th>\n",
              "      <th>48</th>\n",
              "      <th>49</th>\n",
              "      <th>50</th>\n",
              "      <th>51</th>\n",
              "      <th>52</th>\n",
              "      <th>53</th>\n",
              "    </tr>\n",
              "  </thead>\n",
              "  <tbody>\n",
              "    <tr>\n",
              "      <th>0</th>\n",
              "      <td>-0.040816</td>\n",
              "      <td>0.034933</td>\n",
              "      <td>0.071282</td>\n",
              "      <td>-0.005608</td>\n",
              "      <td>0.012143</td>\n",
              "      <td>0.036048</td>\n",
              "      <td>0.077783</td>\n",
              "      <td>0.037841</td>\n",
              "      <td>0.014904</td>\n",
              "      <td>0.082379</td>\n",
              "      <td>-0.000381</td>\n",
              "      <td>0.069258</td>\n",
              "      <td>-0.020570</td>\n",
              "      <td>0.000968</td>\n",
              "      <td>0.015307</td>\n",
              "      <td>0.064013</td>\n",
              "      <td>-0.077571</td>\n",
              "      <td>-0.006489</td>\n",
              "      <td>-0.019111</td>\n",
              "      <td>0.037761</td>\n",
              "      <td>-0.032844</td>\n",
              "      <td>-0.041544</td>\n",
              "      <td>-0.055568</td>\n",
              "      <td>-0.074368</td>\n",
              "      <td>0.023561</td>\n",
              "      <td>-0.081544</td>\n",
              "      <td>0.018014</td>\n",
              "      <td>0.064763</td>\n",
              "      <td>0.045914</td>\n",
              "      <td>0.038636</td>\n",
              "      <td>-0.079743</td>\n",
              "      <td>0.036667</td>\n",
              "      <td>0.015317</td>\n",
              "      <td>-0.021623</td>\n",
              "      <td>0.083662</td>\n",
              "      <td>0.055733</td>\n",
              "      <td>0.048132</td>\n",
              "      <td>-0.025575</td>\n",
              "      <td>-0.014567</td>\n",
              "      <td>0.038181</td>\n",
              "      <td>-0.047241</td>\n",
              "      <td>0.014633</td>\n",
              "      <td>0.082796</td>\n",
              "      <td>-0.013425</td>\n",
              "      <td>-0.050871</td>\n",
              "      <td>0.001069</td>\n",
              "      <td>-0.042327</td>\n",
              "      <td>-0.073835</td>\n",
              "      <td>0.035631</td>\n",
              "      <td>0.064500</td>\n",
              "      <td>0.065276</td>\n",
              "      <td>0.068856</td>\n",
              "      <td>-0.064112</td>\n",
              "      <td>0.065959</td>\n",
              "    </tr>\n",
              "    <tr>\n",
              "      <th>1</th>\n",
              "      <td>0.050813</td>\n",
              "      <td>0.004208</td>\n",
              "      <td>-0.083369</td>\n",
              "      <td>-0.072771</td>\n",
              "      <td>0.040086</td>\n",
              "      <td>0.053143</td>\n",
              "      <td>0.023650</td>\n",
              "      <td>-0.017038</td>\n",
              "      <td>0.021519</td>\n",
              "      <td>-0.023179</td>\n",
              "      <td>-0.054561</td>\n",
              "      <td>0.043894</td>\n",
              "      <td>-0.082774</td>\n",
              "      <td>-0.002985</td>\n",
              "      <td>-0.027646</td>\n",
              "      <td>-0.010465</td>\n",
              "      <td>-0.024704</td>\n",
              "      <td>0.077425</td>\n",
              "      <td>0.069002</td>\n",
              "      <td>0.033896</td>\n",
              "      <td>0.068864</td>\n",
              "      <td>-0.002189</td>\n",
              "      <td>0.008090</td>\n",
              "      <td>0.043587</td>\n",
              "      <td>0.069004</td>\n",
              "      <td>-0.058721</td>\n",
              "      <td>-0.058498</td>\n",
              "      <td>0.056573</td>\n",
              "      <td>-0.022667</td>\n",
              "      <td>0.040349</td>\n",
              "      <td>-0.034662</td>\n",
              "      <td>-0.027642</td>\n",
              "      <td>-0.050791</td>\n",
              "      <td>-0.013329</td>\n",
              "      <td>-0.019086</td>\n",
              "      <td>-0.051741</td>\n",
              "      <td>0.036200</td>\n",
              "      <td>-0.003845</td>\n",
              "      <td>0.077286</td>\n",
              "      <td>0.038562</td>\n",
              "      <td>-0.074627</td>\n",
              "      <td>-0.074661</td>\n",
              "      <td>0.018292</td>\n",
              "      <td>-0.049099</td>\n",
              "      <td>-0.049046</td>\n",
              "      <td>-0.011546</td>\n",
              "      <td>-0.023001</td>\n",
              "      <td>-0.014542</td>\n",
              "      <td>0.014810</td>\n",
              "      <td>0.071854</td>\n",
              "      <td>0.028379</td>\n",
              "      <td>-0.014995</td>\n",
              "      <td>-0.033035</td>\n",
              "      <td>0.010024</td>\n",
              "    </tr>\n",
              "    <tr>\n",
              "      <th>2</th>\n",
              "      <td>0.066511</td>\n",
              "      <td>-0.063230</td>\n",
              "      <td>0.060301</td>\n",
              "      <td>-0.022914</td>\n",
              "      <td>0.019500</td>\n",
              "      <td>-0.018194</td>\n",
              "      <td>-0.049797</td>\n",
              "      <td>-0.007767</td>\n",
              "      <td>0.052476</td>\n",
              "      <td>0.075698</td>\n",
              "      <td>0.052329</td>\n",
              "      <td>-0.028242</td>\n",
              "      <td>-0.084026</td>\n",
              "      <td>-0.026509</td>\n",
              "      <td>-0.030610</td>\n",
              "      <td>0.048289</td>\n",
              "      <td>0.025827</td>\n",
              "      <td>0.059023</td>\n",
              "      <td>0.062186</td>\n",
              "      <td>-0.055522</td>\n",
              "      <td>0.015328</td>\n",
              "      <td>0.023914</td>\n",
              "      <td>0.014982</td>\n",
              "      <td>0.060698</td>\n",
              "      <td>-0.036607</td>\n",
              "      <td>0.060766</td>\n",
              "      <td>0.068325</td>\n",
              "      <td>-0.036000</td>\n",
              "      <td>0.044746</td>\n",
              "      <td>-0.045154</td>\n",
              "      <td>0.051430</td>\n",
              "      <td>-0.055435</td>\n",
              "      <td>0.035434</td>\n",
              "      <td>0.073502</td>\n",
              "      <td>-0.079585</td>\n",
              "      <td>0.082807</td>\n",
              "      <td>0.022626</td>\n",
              "      <td>0.030297</td>\n",
              "      <td>0.021089</td>\n",
              "      <td>-0.081252</td>\n",
              "      <td>-0.030687</td>\n",
              "      <td>0.038162</td>\n",
              "      <td>0.018953</td>\n",
              "      <td>-0.056651</td>\n",
              "      <td>0.039238</td>\n",
              "      <td>-0.013250</td>\n",
              "      <td>0.053461</td>\n",
              "      <td>-0.057019</td>\n",
              "      <td>0.067539</td>\n",
              "      <td>-0.036395</td>\n",
              "      <td>0.029410</td>\n",
              "      <td>-0.082958</td>\n",
              "      <td>-0.016458</td>\n",
              "      <td>0.010619</td>\n",
              "    </tr>\n",
              "    <tr>\n",
              "      <th>3</th>\n",
              "      <td>0.022178</td>\n",
              "      <td>-0.021026</td>\n",
              "      <td>-0.082399</td>\n",
              "      <td>-0.070535</td>\n",
              "      <td>0.019096</td>\n",
              "      <td>-0.005691</td>\n",
              "      <td>-0.053594</td>\n",
              "      <td>0.027403</td>\n",
              "      <td>0.039142</td>\n",
              "      <td>0.038024</td>\n",
              "      <td>-0.078203</td>\n",
              "      <td>0.079007</td>\n",
              "      <td>-0.074097</td>\n",
              "      <td>0.032382</td>\n",
              "      <td>-0.043261</td>\n",
              "      <td>-0.020954</td>\n",
              "      <td>-0.071257</td>\n",
              "      <td>-0.067479</td>\n",
              "      <td>0.023143</td>\n",
              "      <td>0.050282</td>\n",
              "      <td>-0.004035</td>\n",
              "      <td>0.065023</td>\n",
              "      <td>0.035802</td>\n",
              "      <td>0.066714</td>\n",
              "      <td>-0.018054</td>\n",
              "      <td>-0.006602</td>\n",
              "      <td>0.046304</td>\n",
              "      <td>0.020962</td>\n",
              "      <td>-0.020979</td>\n",
              "      <td>0.037289</td>\n",
              "      <td>-0.042101</td>\n",
              "      <td>-0.058693</td>\n",
              "      <td>-0.045718</td>\n",
              "      <td>-0.022028</td>\n",
              "      <td>-0.068745</td>\n",
              "      <td>-0.008206</td>\n",
              "      <td>-0.030656</td>\n",
              "      <td>-0.049251</td>\n",
              "      <td>-0.083461</td>\n",
              "      <td>0.029621</td>\n",
              "      <td>-0.008434</td>\n",
              "      <td>0.069664</td>\n",
              "      <td>-0.081643</td>\n",
              "      <td>-0.011234</td>\n",
              "      <td>-0.061039</td>\n",
              "      <td>-0.081420</td>\n",
              "      <td>-0.044808</td>\n",
              "      <td>-0.031347</td>\n",
              "      <td>-0.037301</td>\n",
              "      <td>-0.071862</td>\n",
              "      <td>-0.062580</td>\n",
              "      <td>0.053458</td>\n",
              "      <td>-0.049285</td>\n",
              "      <td>0.007102</td>\n",
              "    </tr>\n",
              "    <tr>\n",
              "      <th>4</th>\n",
              "      <td>0.056877</td>\n",
              "      <td>-0.083174</td>\n",
              "      <td>-0.018631</td>\n",
              "      <td>0.037361</td>\n",
              "      <td>-0.028160</td>\n",
              "      <td>0.072845</td>\n",
              "      <td>0.069202</td>\n",
              "      <td>-0.026534</td>\n",
              "      <td>-0.017204</td>\n",
              "      <td>0.046108</td>\n",
              "      <td>0.002416</td>\n",
              "      <td>0.019517</td>\n",
              "      <td>-0.082398</td>\n",
              "      <td>-0.012950</td>\n",
              "      <td>0.024216</td>\n",
              "      <td>-0.051724</td>\n",
              "      <td>0.076221</td>\n",
              "      <td>-0.070663</td>\n",
              "      <td>-0.068563</td>\n",
              "      <td>0.067489</td>\n",
              "      <td>0.045596</td>\n",
              "      <td>-0.024708</td>\n",
              "      <td>0.044227</td>\n",
              "      <td>0.040457</td>\n",
              "      <td>-0.030351</td>\n",
              "      <td>0.072548</td>\n",
              "      <td>-0.011113</td>\n",
              "      <td>0.042733</td>\n",
              "      <td>0.047204</td>\n",
              "      <td>-0.004216</td>\n",
              "      <td>-0.005111</td>\n",
              "      <td>-0.055785</td>\n",
              "      <td>-0.044020</td>\n",
              "      <td>-0.040617</td>\n",
              "      <td>-0.072027</td>\n",
              "      <td>-0.007951</td>\n",
              "      <td>0.064382</td>\n",
              "      <td>-0.075824</td>\n",
              "      <td>-0.019558</td>\n",
              "      <td>-0.056610</td>\n",
              "      <td>0.002980</td>\n",
              "      <td>0.078838</td>\n",
              "      <td>0.082166</td>\n",
              "      <td>0.010410</td>\n",
              "      <td>-0.037415</td>\n",
              "      <td>-0.040607</td>\n",
              "      <td>0.035714</td>\n",
              "      <td>-0.067893</td>\n",
              "      <td>-0.074733</td>\n",
              "      <td>0.046354</td>\n",
              "      <td>-0.084028</td>\n",
              "      <td>0.052057</td>\n",
              "      <td>-0.039099</td>\n",
              "      <td>-0.079448</td>\n",
              "    </tr>\n",
              "    <tr>\n",
              "      <th>...</th>\n",
              "      <td>...</td>\n",
              "      <td>...</td>\n",
              "      <td>...</td>\n",
              "      <td>...</td>\n",
              "      <td>...</td>\n",
              "      <td>...</td>\n",
              "      <td>...</td>\n",
              "      <td>...</td>\n",
              "      <td>...</td>\n",
              "      <td>...</td>\n",
              "      <td>...</td>\n",
              "      <td>...</td>\n",
              "      <td>...</td>\n",
              "      <td>...</td>\n",
              "      <td>...</td>\n",
              "      <td>...</td>\n",
              "      <td>...</td>\n",
              "      <td>...</td>\n",
              "      <td>...</td>\n",
              "      <td>...</td>\n",
              "      <td>...</td>\n",
              "      <td>...</td>\n",
              "      <td>...</td>\n",
              "      <td>...</td>\n",
              "      <td>...</td>\n",
              "      <td>...</td>\n",
              "      <td>...</td>\n",
              "      <td>...</td>\n",
              "      <td>...</td>\n",
              "      <td>...</td>\n",
              "      <td>...</td>\n",
              "      <td>...</td>\n",
              "      <td>...</td>\n",
              "      <td>...</td>\n",
              "      <td>...</td>\n",
              "      <td>...</td>\n",
              "      <td>...</td>\n",
              "      <td>...</td>\n",
              "      <td>...</td>\n",
              "      <td>...</td>\n",
              "      <td>...</td>\n",
              "      <td>...</td>\n",
              "      <td>...</td>\n",
              "      <td>...</td>\n",
              "      <td>...</td>\n",
              "      <td>...</td>\n",
              "      <td>...</td>\n",
              "      <td>...</td>\n",
              "      <td>...</td>\n",
              "      <td>...</td>\n",
              "      <td>...</td>\n",
              "      <td>...</td>\n",
              "      <td>...</td>\n",
              "      <td>...</td>\n",
              "    </tr>\n",
              "    <tr>\n",
              "      <th>779</th>\n",
              "      <td>0.032553</td>\n",
              "      <td>0.073165</td>\n",
              "      <td>-0.074960</td>\n",
              "      <td>0.035447</td>\n",
              "      <td>0.072694</td>\n",
              "      <td>-0.015046</td>\n",
              "      <td>0.050601</td>\n",
              "      <td>-0.050443</td>\n",
              "      <td>-0.058342</td>\n",
              "      <td>-0.025527</td>\n",
              "      <td>0.012865</td>\n",
              "      <td>-0.063225</td>\n",
              "      <td>0.042553</td>\n",
              "      <td>-0.006569</td>\n",
              "      <td>0.069413</td>\n",
              "      <td>0.065219</td>\n",
              "      <td>0.003376</td>\n",
              "      <td>-0.076669</td>\n",
              "      <td>-0.055099</td>\n",
              "      <td>-0.009938</td>\n",
              "      <td>-0.075990</td>\n",
              "      <td>-0.022195</td>\n",
              "      <td>-0.029973</td>\n",
              "      <td>0.053166</td>\n",
              "      <td>-0.073553</td>\n",
              "      <td>-0.019086</td>\n",
              "      <td>0.035778</td>\n",
              "      <td>-0.002784</td>\n",
              "      <td>0.068967</td>\n",
              "      <td>0.080992</td>\n",
              "      <td>-0.076994</td>\n",
              "      <td>0.000833</td>\n",
              "      <td>0.079333</td>\n",
              "      <td>0.004919</td>\n",
              "      <td>-0.076813</td>\n",
              "      <td>0.075796</td>\n",
              "      <td>-0.048707</td>\n",
              "      <td>0.016452</td>\n",
              "      <td>-0.018926</td>\n",
              "      <td>-0.068866</td>\n",
              "      <td>0.005920</td>\n",
              "      <td>-0.046256</td>\n",
              "      <td>0.021791</td>\n",
              "      <td>0.054079</td>\n",
              "      <td>0.019203</td>\n",
              "      <td>-0.028588</td>\n",
              "      <td>0.061442</td>\n",
              "      <td>-0.008230</td>\n",
              "      <td>-0.001006</td>\n",
              "      <td>-0.037633</td>\n",
              "      <td>-0.000933</td>\n",
              "      <td>0.059720</td>\n",
              "      <td>0.013516</td>\n",
              "      <td>-0.067722</td>\n",
              "    </tr>\n",
              "    <tr>\n",
              "      <th>780</th>\n",
              "      <td>0.031789</td>\n",
              "      <td>0.061051</td>\n",
              "      <td>0.024838</td>\n",
              "      <td>-0.054059</td>\n",
              "      <td>0.083717</td>\n",
              "      <td>-0.020930</td>\n",
              "      <td>0.020352</td>\n",
              "      <td>0.000282</td>\n",
              "      <td>-0.052710</td>\n",
              "      <td>0.030490</td>\n",
              "      <td>-0.025399</td>\n",
              "      <td>-0.013316</td>\n",
              "      <td>-0.051764</td>\n",
              "      <td>0.056875</td>\n",
              "      <td>0.049697</td>\n",
              "      <td>-0.083116</td>\n",
              "      <td>-0.025027</td>\n",
              "      <td>-0.059617</td>\n",
              "      <td>-0.030312</td>\n",
              "      <td>-0.071241</td>\n",
              "      <td>0.075783</td>\n",
              "      <td>0.005492</td>\n",
              "      <td>0.027992</td>\n",
              "      <td>-0.053718</td>\n",
              "      <td>-0.052705</td>\n",
              "      <td>-0.080325</td>\n",
              "      <td>0.003682</td>\n",
              "      <td>0.016135</td>\n",
              "      <td>-0.038168</td>\n",
              "      <td>0.040071</td>\n",
              "      <td>0.082938</td>\n",
              "      <td>-0.057800</td>\n",
              "      <td>-0.009995</td>\n",
              "      <td>0.002813</td>\n",
              "      <td>0.079940</td>\n",
              "      <td>0.052179</td>\n",
              "      <td>0.007601</td>\n",
              "      <td>0.076367</td>\n",
              "      <td>0.012326</td>\n",
              "      <td>0.070553</td>\n",
              "      <td>0.047625</td>\n",
              "      <td>-0.077731</td>\n",
              "      <td>0.062256</td>\n",
              "      <td>0.001734</td>\n",
              "      <td>0.059669</td>\n",
              "      <td>0.055450</td>\n",
              "      <td>0.010006</td>\n",
              "      <td>-0.012430</td>\n",
              "      <td>0.063227</td>\n",
              "      <td>-0.067751</td>\n",
              "      <td>0.053841</td>\n",
              "      <td>0.035348</td>\n",
              "      <td>-0.045475</td>\n",
              "      <td>-0.078142</td>\n",
              "    </tr>\n",
              "    <tr>\n",
              "      <th>781</th>\n",
              "      <td>-0.015362</td>\n",
              "      <td>-0.062178</td>\n",
              "      <td>-0.064879</td>\n",
              "      <td>0.013043</td>\n",
              "      <td>0.082827</td>\n",
              "      <td>0.026861</td>\n",
              "      <td>-0.020804</td>\n",
              "      <td>0.015974</td>\n",
              "      <td>-0.005130</td>\n",
              "      <td>0.020539</td>\n",
              "      <td>0.083357</td>\n",
              "      <td>-0.058618</td>\n",
              "      <td>-0.052433</td>\n",
              "      <td>-0.027116</td>\n",
              "      <td>-0.074733</td>\n",
              "      <td>-0.040232</td>\n",
              "      <td>0.016490</td>\n",
              "      <td>0.007047</td>\n",
              "      <td>0.052962</td>\n",
              "      <td>-0.064858</td>\n",
              "      <td>0.063549</td>\n",
              "      <td>0.080273</td>\n",
              "      <td>-0.009069</td>\n",
              "      <td>0.032298</td>\n",
              "      <td>-0.023046</td>\n",
              "      <td>-0.075692</td>\n",
              "      <td>-0.015669</td>\n",
              "      <td>0.047195</td>\n",
              "      <td>0.038616</td>\n",
              "      <td>-0.080842</td>\n",
              "      <td>0.047979</td>\n",
              "      <td>-0.035570</td>\n",
              "      <td>0.003754</td>\n",
              "      <td>-0.034984</td>\n",
              "      <td>0.013576</td>\n",
              "      <td>-0.032136</td>\n",
              "      <td>0.025569</td>\n",
              "      <td>0.040749</td>\n",
              "      <td>-0.006006</td>\n",
              "      <td>0.049025</td>\n",
              "      <td>-0.035446</td>\n",
              "      <td>0.048632</td>\n",
              "      <td>-0.006849</td>\n",
              "      <td>-0.007876</td>\n",
              "      <td>-0.071042</td>\n",
              "      <td>-0.018907</td>\n",
              "      <td>0.071958</td>\n",
              "      <td>-0.039329</td>\n",
              "      <td>-0.017456</td>\n",
              "      <td>0.029641</td>\n",
              "      <td>-0.071429</td>\n",
              "      <td>-0.040518</td>\n",
              "      <td>0.020316</td>\n",
              "      <td>0.027230</td>\n",
              "    </tr>\n",
              "    <tr>\n",
              "      <th>782</th>\n",
              "      <td>-0.069466</td>\n",
              "      <td>-0.022379</td>\n",
              "      <td>-0.016960</td>\n",
              "      <td>0.041653</td>\n",
              "      <td>0.009581</td>\n",
              "      <td>-0.007190</td>\n",
              "      <td>-0.033757</td>\n",
              "      <td>0.051400</td>\n",
              "      <td>0.033781</td>\n",
              "      <td>-0.060344</td>\n",
              "      <td>-0.055742</td>\n",
              "      <td>-0.068006</td>\n",
              "      <td>0.049393</td>\n",
              "      <td>-0.075221</td>\n",
              "      <td>0.032562</td>\n",
              "      <td>0.013639</td>\n",
              "      <td>-0.054440</td>\n",
              "      <td>0.016070</td>\n",
              "      <td>-0.052705</td>\n",
              "      <td>-0.007346</td>\n",
              "      <td>-0.032531</td>\n",
              "      <td>-0.001831</td>\n",
              "      <td>0.025769</td>\n",
              "      <td>0.030416</td>\n",
              "      <td>0.007193</td>\n",
              "      <td>-0.023706</td>\n",
              "      <td>0.010714</td>\n",
              "      <td>0.053001</td>\n",
              "      <td>-0.060701</td>\n",
              "      <td>0.020528</td>\n",
              "      <td>-0.024327</td>\n",
              "      <td>0.049881</td>\n",
              "      <td>0.015018</td>\n",
              "      <td>-0.068961</td>\n",
              "      <td>0.078054</td>\n",
              "      <td>0.031498</td>\n",
              "      <td>0.004624</td>\n",
              "      <td>-0.027589</td>\n",
              "      <td>-0.047333</td>\n",
              "      <td>-0.066362</td>\n",
              "      <td>-0.046674</td>\n",
              "      <td>0.035396</td>\n",
              "      <td>-0.064848</td>\n",
              "      <td>0.044697</td>\n",
              "      <td>0.037344</td>\n",
              "      <td>0.001197</td>\n",
              "      <td>-0.054121</td>\n",
              "      <td>0.023626</td>\n",
              "      <td>0.040397</td>\n",
              "      <td>-0.015908</td>\n",
              "      <td>0.036753</td>\n",
              "      <td>0.012100</td>\n",
              "      <td>-0.008558</td>\n",
              "      <td>0.020920</td>\n",
              "    </tr>\n",
              "    <tr>\n",
              "      <th>783</th>\n",
              "      <td>-0.013121</td>\n",
              "      <td>-0.040022</td>\n",
              "      <td>-0.011737</td>\n",
              "      <td>0.014154</td>\n",
              "      <td>0.059860</td>\n",
              "      <td>-0.012816</td>\n",
              "      <td>0.065015</td>\n",
              "      <td>0.063662</td>\n",
              "      <td>0.040852</td>\n",
              "      <td>-0.042863</td>\n",
              "      <td>0.014336</td>\n",
              "      <td>0.033264</td>\n",
              "      <td>0.071868</td>\n",
              "      <td>-0.061755</td>\n",
              "      <td>0.056502</td>\n",
              "      <td>0.072831</td>\n",
              "      <td>0.002276</td>\n",
              "      <td>-0.067977</td>\n",
              "      <td>-0.062773</td>\n",
              "      <td>0.066153</td>\n",
              "      <td>-0.082736</td>\n",
              "      <td>-0.031542</td>\n",
              "      <td>0.039183</td>\n",
              "      <td>-0.044154</td>\n",
              "      <td>0.084103</td>\n",
              "      <td>0.025029</td>\n",
              "      <td>0.019501</td>\n",
              "      <td>-0.024696</td>\n",
              "      <td>0.007616</td>\n",
              "      <td>-0.061201</td>\n",
              "      <td>-0.021905</td>\n",
              "      <td>-0.078541</td>\n",
              "      <td>-0.024903</td>\n",
              "      <td>0.044914</td>\n",
              "      <td>-0.031520</td>\n",
              "      <td>0.063232</td>\n",
              "      <td>-0.067512</td>\n",
              "      <td>-0.002836</td>\n",
              "      <td>-0.033181</td>\n",
              "      <td>0.030234</td>\n",
              "      <td>0.017389</td>\n",
              "      <td>-0.038101</td>\n",
              "      <td>0.053879</td>\n",
              "      <td>0.061957</td>\n",
              "      <td>-0.055167</td>\n",
              "      <td>0.051720</td>\n",
              "      <td>-0.015853</td>\n",
              "      <td>-0.069993</td>\n",
              "      <td>-0.034819</td>\n",
              "      <td>0.004436</td>\n",
              "      <td>-0.031047</td>\n",
              "      <td>-0.046359</td>\n",
              "      <td>0.002474</td>\n",
              "      <td>-0.077197</td>\n",
              "    </tr>\n",
              "  </tbody>\n",
              "</table>\n",
              "<p>784 rows × 54 columns</p>\n",
              "</div>"
            ],
            "text/plain": [
              "           0         1         2   ...        51        52        53\n",
              "0   -0.040816  0.034933  0.071282  ...  0.068856 -0.064112  0.065959\n",
              "1    0.050813  0.004208 -0.083369  ... -0.014995 -0.033035  0.010024\n",
              "2    0.066511 -0.063230  0.060301  ... -0.082958 -0.016458  0.010619\n",
              "3    0.022178 -0.021026 -0.082399  ...  0.053458 -0.049285  0.007102\n",
              "4    0.056877 -0.083174 -0.018631  ...  0.052057 -0.039099 -0.079448\n",
              "..        ...       ...       ...  ...       ...       ...       ...\n",
              "779  0.032553  0.073165 -0.074960  ...  0.059720  0.013516 -0.067722\n",
              "780  0.031789  0.061051  0.024838  ...  0.035348 -0.045475 -0.078142\n",
              "781 -0.015362 -0.062178 -0.064879  ... -0.040518  0.020316  0.027230\n",
              "782 -0.069466 -0.022379 -0.016960  ...  0.012100 -0.008558  0.020920\n",
              "783 -0.013121 -0.040022 -0.011737  ... -0.046359  0.002474 -0.077197\n",
              "\n",
              "[784 rows x 54 columns]"
            ]
          },
          "execution_count": 93,
          "metadata": {},
          "output_type": "execute_result"
        }
      ]
    },
    {
      "cell_type": "code",
      "metadata": {
        "id": "rZ4o02sXzYWg"
      },
      "source": [
        "from keras.initializers import Initializer\n",
        "\n",
        "class FixSlice(Initializer):\n",
        "    \"\"\"\n",
        "    Initializer which forces a certain slice to be chosen values\n",
        "\n",
        "    INPUTS:\n",
        "\n",
        "    values - An object which can be converted into a numpy ndarray. These are\n",
        "             the pre-chosen values. When using this initializer, the user should\n",
        "             ensure that the dtype of values can be converted to the desired\n",
        "             dtype of the weight tensor.\n",
        "\n",
        "    slice - A slice or tuple of slices (it is recommended to use numpy.s_ to\n",
        "            specify this parameter). This specifies which entries should be\n",
        "            filled with the pre-chosen values. When using this initializer,\n",
        "            the user should ensure that the slice object \"fits inside\" the shape\n",
        "            of the tensor to be initialized, and that the resulting slice of the\n",
        "            tensor has the same shape as the values ndarray.\n",
        "\n",
        "    backup - An initializer instance. The remaining values are filled using this\n",
        "             initializer.\n",
        "    \"\"\"\n",
        "    def __init__(self, values, slice, backup=\"glorot_uniform\"):\n",
        "        if hasattr(values, \"numpy\"):\n",
        "            self.values = values.numpy()\n",
        "        elif isinstance(values, np.ndarray):\n",
        "            self.values = values\n",
        "        else:\n",
        "            try:\n",
        "                self.values = values.to_numpy()\n",
        "            except:\n",
        "                self.values = np.array(values)\n",
        "\n",
        "        self.values = values\n",
        "        self.slice = slice\n",
        "        self.backup = initializers.get(backup)\n",
        "\n",
        "    def __call__(self, shape, dtype=None):\n",
        "        result = self.backup(shape, dtype=dtype).numpy()\n",
        "        result[self.slice] = self.values\n",
        "        return tf.Variable(result)"
      ],
      "execution_count": null,
      "outputs": []
    },
    {
      "cell_type": "code",
      "metadata": {
        "id": "y6wpBIE_9exn"
      },
      "source": [
        "from keras.constraints import Constraint\n",
        "\n",
        "class FreezeSlice(Constraint):\n",
        "    \"\"\"\n",
        "    Constraint which keeps a certain slice frozen at chosen values\n",
        "\n",
        "    INPUTS:\n",
        "\n",
        "    values - An object which can be converted into a numpy ndarray. These are\n",
        "             the pre-chosen values. When using this constraint, the user should\n",
        "             ensure that the dtype of values can be converted to the desired\n",
        "             dtype of the weight tensor.\n",
        "\n",
        "    slice - A slice or tuple of slices (it is recommended to use numpy.s_ to\n",
        "            specify this parameter). This specifies which entries should be\n",
        "            filled with the pre-chosen values. When using this initializer,\n",
        "            the user should ensure that the slice object \"fits inside\" the shape\n",
        "            of the tensor to be initialized, and that the resulting slice of the\n",
        "            tensor has the same shape as the values ndarray.\n",
        "    \"\"\"\n",
        "    def __init__(self, values, slice):\n",
        "        if hasattr(values, \"numpy\"):\n",
        "            self.values = values.numpy()\n",
        "        elif isinstance(values, np.ndarray):\n",
        "            self.values = values\n",
        "        else:\n",
        "            try:\n",
        "                self.values = values.to_numpy()\n",
        "            except:\n",
        "                self.values = np.array(values)\n",
        "\n",
        "        self.values = values\n",
        "        self.slice = slice\n",
        "\n",
        "    def __call__(self, w):\n",
        "        zs = np.zeros(w.shape)\n",
        "        zs[self.slice] = self.values\n",
        "        os = np.ones(w.shape)\n",
        "        os[self.slice] = 0\n",
        "        return w * os + zs"
      ],
      "execution_count": null,
      "outputs": []
    },
    {
      "cell_type": "code",
      "metadata": {
        "id": "fdRE_B5m-Gh_"
      },
      "source": [
        "model.add(Dense(1,input_dim =2,kernel_constraint=FreezeSlice([1],np.s_[0])))"
      ],
      "execution_count": null,
      "outputs": []
    },
    {
      "cell_type": "markdown",
      "metadata": {
        "id": "x-fNC2S8xkyo"
      },
      "source": [
        "#### Con TensorFlow 1"
      ]
    },
    {
      "cell_type": "code",
      "metadata": {
        "id": "lQXwypiTxm_r"
      },
      "source": [
        "import tensorflow as tf\n",
        "from tensorflow import keras\n",
        "import numpy as np"
      ],
      "execution_count": null,
      "outputs": []
    },
    {
      "cell_type": "code",
      "metadata": {
        "id": "a_q9SEJ6xwbk"
      },
      "source": [
        "# Datos del mnist\n",
        "(train_images, train_labels), (test_images, test_labels) = tf.keras.datasets.mnist.load_data()"
      ],
      "execution_count": null,
      "outputs": []
    },
    {
      "cell_type": "code",
      "metadata": {
        "id": "H4dLknl9HoOE"
      },
      "source": [
        "import matplotlib.pyplot as plt"
      ],
      "execution_count": null,
      "outputs": []
    },
    {
      "cell_type": "code",
      "metadata": {
        "colab": {
          "base_uri": "https://localhost:8080/",
          "height": 282
        },
        "id": "ymwxMRf-HjNW",
        "outputId": "d3e5b0d7-6d2d-460e-d1c2-264afa9ce041"
      },
      "source": [
        "plt.imshow(train_images[0], cmap='gray')"
      ],
      "execution_count": null,
      "outputs": [
        {
          "data": {
            "text/plain": [
              "<matplotlib.image.AxesImage at 0x7f58380f7c50>"
            ]
          },
          "execution_count": 97,
          "metadata": {},
          "output_type": "execute_result"
        },
        {
          "data": {
            "image/png": "[encoded data removed]",
            "text/plain": [
              "<Figure size 432x288 with 1 Axes>"
            ]
          },
          "metadata": {},
          "output_type": "display_data"
        }
      ]
    },
    {
      "cell_type": "code",
      "metadata": {
        "id": "CYE3q22cx0Vj"
      },
      "source": [
        "# Parameters\n",
        "max_layers = 2\n",
        "num_max_units = 54\n",
        "input_dim = 28\n",
        "output_dim = 10"
      ],
      "execution_count": null,
      "outputs": []
    },
    {
      "cell_type": "code",
      "metadata": {
        "id": "Gvz8DCj20z49"
      },
      "source": [
        "# Mask to freeze layers or neurons in each layer\n",
        "# Each neuron is trainable if 1, otherwise is weight = 0\n",
        "hidden_mask = tf.Variable(tf.cast(tf.random.normal((num_max_units, max_layers))>(0.5), dtype=tf.dtypes.float64))"
      ],
      "execution_count": null,
      "outputs": []
    },
    {
      "cell_type": "code",
      "metadata": {
        "id": "bEgaDi2i3QIg"
      },
      "source": [
        "def get_trainable_layers(hidden_mask):\n",
        "  # if one column is all filled by zeros, the layer is not trainable and its weitghs have to be equal to I(54)\n",
        "  return np.all(hidden_mask.numpy() == 0, axis=0) == False"
      ],
      "execution_count": null,
      "outputs": []
    },
    {
      "cell_type": "code",
      "metadata": {
        "id": "fllA46cw-SgB"
      },
      "source": [
        "# Creación de las variables para el modelo con un diccionario\n",
        "b = {}\n",
        "w = {}\n",
        "\n",
        "for layer in range(max_layers):\n",
        "  trainable_layers = get_trainable_layers(hidden_mask)\n",
        "  if layer == 0:\n",
        "    b['b%s' % (layer+1)] = tf.Variable(tf.random.normal(shape=[num_max_units, 1], dtype=tf.dtypes.float64))\n",
        "    w['w%s' % (layer+1)] =  tf.Variable(tf.random.normal(shape=[num_max_units, input_dim**2], dtype=tf.dtypes.float64))\n",
        "  else:\n",
        "    if trainable_layers[layer] == True:\n",
        "      b['b%s' % (layer+1)]  =  tf.Variable(tf.random.normal(shape=[num_max_units, 1], dtype=tf.dtypes.float64))\n",
        "      w['w%s' % (layer+1)]  =  tf.Variable(tf.random.normal(shape=[num_max_units, num_max_units], dtype=tf.dtypes.float64))\n",
        "    else:\n",
        "      b['b%s' % (layer+1)]  =  tf.Variable(tf.zeros(shape=[num_max_units, num_max_units], dtype=tf.dtypes.float64))\n",
        "      w['w%s' % (layer+1)]  =  tf.Variable(tf.eye(num_max_units))\n",
        "\n",
        "b['b%s' % (max_layers+1)]  =  tf.Variable(tf.random.normal(shape=[output_dim, 1], dtype=tf.dtypes.float64))\n",
        "w['w%s' % (max_layers+1)]  =  tf.Variable(tf.random.normal(shape=[output_dim, num_max_units], dtype=tf.dtypes.float64))"
      ],
      "execution_count": null,
      "outputs": []
    },
    {
      "cell_type": "code",
      "metadata": {
        "id": "4owqgs-qAo27"
      },
      "source": [
        "# Parametros de la red neuronal\n",
        "hidden_activation = tf.nn.relu\n",
        "output_activation = tf.nn.softmax\n",
        "loss_fcn = tf.nn.sparse_softmax_cross_entropy_with_logits"
      ],
      "execution_count": null,
      "outputs": []
    },
    {
      "cell_type": "code",
      "metadata": {
        "id": "mWUQ2G5_58Ai"
      },
      "source": [
        "# Creación de la red neuronal\n",
        "\n",
        "def get_loss(x, t, max_layers, hidden_mask):\n",
        "  a_prev = 0\n",
        "  trainable_layers = get_trainable_layers(hidden_mask)\n",
        "  for layer in range(max_layers):\n",
        "    w_aux = tf.transpose(tf.transpose(w['w%s' % (layer+1)])*hidden_mask[:,layer])\n",
        "    b_aux = tf.transpose(tf.transpose(b['b%s' % (layer+1)])*hidden_mask[:,layer])\n",
        "    if layer == 0: # For the input layer\n",
        "      a = hidden_activation(tf.matmul(w_aux, x.T) + b_aux)\n",
        "    else: # For the hidden layers\n",
        "      if trainable_layers[layer] == 0:\n",
        "        w_aux = w['w%s' % (layer+1)]\n",
        "        b_aux = b['b%s' % (layer+1)]\n",
        "      a = hidden_activation(tf.matmul(w_aux, a_prev) + b_aux)\n",
        "    a_prev = a\n",
        "  # For the ouput layer\n",
        "  a = tf.matmul(w['w%s' % (max_layers+1)], a_prev) + b['b%s' % (max_layers+1)]\n",
        "  y = output_activation(a, axis=0)\n",
        "\n",
        "  return y"
      ],
      "execution_count": null,
      "outputs": []
    },
    {
      "cell_type": "code",
      "metadata": {
        "id": "KVonw8Zp62VC"
      },
      "source": [
        "# Variables \n",
        "\n",
        "x_train = np.reshape(train_images, (train_images.shape[0], input_dim**2))\n",
        "x_test = np.reshape(test_images, (test_images.shape[0], input_dim**2))"
      ],
      "execution_count": null,
      "outputs": []
    },
    {
      "cell_type": "code",
      "metadata": {
        "id": "ESC-cO-YIr_t"
      },
      "source": [
        "# Custom training loop from scratch (Parameters)\n",
        "lr = 1e-1\n",
        "trigger_thr = 0.025\n",
        "nepochs = 20"
      ],
      "execution_count": null,
      "outputs": []
    },
    {
      "cell_type": "code",
      "metadata": {
        "id": "5YLZy-SFKPiJ"
      },
      "source": [
        "def train(lr, trigger_thr, nepochs, x, t, max_layers):\n",
        "  training_loss = []\n",
        "  for epoch in range(nepochs):\n",
        "    with tf.GradientTape(persistent=True) as tape:\n",
        "      # Compute the forward pass\n",
        "      y = get_loss(x, t, max_layers, hidden_mask)\n",
        "      xentropy = loss_fcn(tf.cast(tf.reshape(t, [-1]), dtype='int32'), tf.transpose(y))\n",
        "      loss = tf.reduce_mean(xentropy)\n",
        "      \n",
        "\n",
        "    training_loss.append(loss.numpy())\n",
        "\n",
        "    trainable_layers = get_trainable_layers(hidden_mask)\n",
        "\n",
        "    for layer in range(max_layers):\n",
        "      if trainable_layers[layer] == 1:\n",
        "        w_aux = tf.transpose(tf.transpose(w['w%s' % (layer+1)])*hidden_mask[:,layer])\n",
        "        b_aux = tf.transpose(tf.transpose(b['b%s' % (layer+1)])*hidden_mask[:,layer])\n",
        "        # Compute gradients \n",
        "        db = tape.gradient(loss, b_aux)\n",
        "        dw = tape.gradient(loss, w_aux)\n",
        "        # Update parameters\n",
        "        # w['w%s' % (layer+1)] = w['w%s' % (layer+1)] - lr*dw\n",
        "        # b['b%s' % (layer+1)] = b['b%s' % (layer+1)] - lr*db\n",
        "        w['w%s' % (layer+1)].assign(w['w%s' % (layer+1)] - lr*dw)\n",
        "        b['b%s' % (layer+1)].assign(b['b%s' % (layer+1)] - lr*db)\n",
        "  return training_loss\n"
      ],
      "execution_count": null,
      "outputs": []
    },
    {
      "cell_type": "code",
      "metadata": {
        "id": "dHvFAw-Yl3KK"
      },
      "source": [
        "training_loss = []\n",
        "for epoch in range(nepochs):\n",
        "  with tf.GradientTape(persistent=True) as tape:\n",
        "    # Compute the forward pass\n",
        "    y = get_loss(x_train, train_labels, max_layers, hidden_mask)\n",
        "    xentropy = loss_fcn(tf.cast(tf.reshape(train_labels, [-1]), dtype='int32'), tf.transpose(y))\n",
        "    loss = tf.reduce_mean(xentropy)\n",
        "    layer = 0\n",
        "    w_aux = tf.Variable(tf.transpose(tf.transpose(w['w%s' % (layer+1)])*hidden_mask[:,layer]))\n",
        "    b_aux = tf.Variable(tf.transpose(tf.transpose(b['b%s' % (layer+1)])*hidden_mask[:,layer]))\n",
        "  # Compute gradients \n",
        "  db = tape.gradient(loss, b_aux)\n",
        "  dw = tape.gradient(loss, w_aux)"
      ],
      "execution_count": null,
      "outputs": []
    },
    {
      "cell_type": "code",
      "metadata": {
        "id": "93fIpoWOpHny"
      },
      "source": [
        "db"
      ],
      "execution_count": null,
      "outputs": []
    },
    {
      "cell_type": "code",
      "metadata": {
        "colab": {
          "base_uri": "https://localhost:8080/",
          "height": 280
        },
        "id": "AUxrCgrqXwmx",
        "outputId": "63a4f42c-43c6-4095-f44c-27befd66476b"
      },
      "source": [
        "import matplotlib.pyplot as plt\n",
        "\n",
        "# Visualización \n",
        "plt.plot(training_loss)\n",
        "plt.grid(True)\n",
        "plt.xlabel(\"época\")\n",
        "plt.ylabel(\"coste\")\n",
        "plt.show()"
      ],
      "execution_count": null,
      "outputs": [
        {
          "data": {
            "image/png": "[encoded data removed]",
            "text/plain": [
              "<Figure size 432x288 with 1 Axes>"
            ]
          },
          "metadata": {},
          "output_type": "display_data"
        }
      ]
    },
    {
      "cell_type": "code",
      "metadata": {
        "id": "wpCWCS7HMEMr"
      },
      "source": [
        ""
      ],
      "execution_count": null,
      "outputs": []
    },
    {
      "cell_type": "code",
      "metadata": {
        "id": "Gl9uJGaLUlOW"
      },
      "source": [
        ""
      ],
      "execution_count": null,
      "outputs": []
    },
    {
      "cell_type": "markdown",
      "metadata": {
        "id": "qM5a0vGjUlgS"
      },
      "source": [
        "#### Con TensorFlow 2"
      ]
    },
    {
      "cell_type": "code",
      "metadata": {
        "id": "TZE603UQUlgT"
      },
      "source": [
        "import tensorflow as tf\n",
        "import numpy as np"
      ],
      "execution_count": null,
      "outputs": []
    },
    {
      "cell_type": "code",
      "metadata": {
        "id": "___CSrNaUlgT"
      },
      "source": [
        "# Datos del mnist\n",
        "(train_images, train_labels), (test_images, test_labels) = tf.keras.datasets.mnist.load_data()"
      ],
      "execution_count": null,
      "outputs": []
    },
    {
      "cell_type": "code",
      "metadata": {
        "id": "B58C7IWJUlgU"
      },
      "source": [
        "import matplotlib.pyplot as plt"
      ],
      "execution_count": null,
      "outputs": []
    },
    {
      "cell_type": "code",
      "metadata": {
        "colab": {
          "base_uri": "https://localhost:8080/",
          "height": 282
        },
        "id": "FRdY6NiFUlgV",
        "outputId": "d3e5b0d7-6d2d-460e-d1c2-264afa9ce041"
      },
      "source": [
        "plt.imshow(train_images[0], cmap='gray')"
      ],
      "execution_count": null,
      "outputs": [
        {
          "data": {
            "text/plain": [
              "<matplotlib.image.AxesImage at 0x7f58380f7c50>"
            ]
          },
          "execution_count": 97,
          "metadata": {},
          "output_type": "execute_result"
        },
        {
          "data": {
            "image/png": "[encoded data removed]",
            "text/plain": [
              "<Figure size 432x288 with 1 Axes>"
            ]
          },
          "metadata": {},
          "output_type": "display_data"
        }
      ]
    },
    {
      "cell_type": "code",
      "metadata": {
        "id": "E1L-UU1oUlgV"
      },
      "source": [
        "# Parameters\n",
        "max_layers = 2\n",
        "num_max_units = 54\n",
        "input_dim = 28\n",
        "output_dim = 10"
      ],
      "execution_count": null,
      "outputs": []
    },
    {
      "cell_type": "code",
      "metadata": {
        "id": "DzEZPHUoUlgW"
      },
      "source": [
        "# Mask to freeze layers or neurons in each layer\n",
        "# Each neuron is trainable if 1, otherwise is weight = 0\n",
        "hidden_mask = np.random.rand(num_max_units, max_layers)>(0.5)"
      ],
      "execution_count": null,
      "outputs": []
    },
    {
      "cell_type": "code",
      "metadata": {
        "id": "7Hr2PM0mUlgW"
      },
      "source": [
        "def get_trainable_layers(hidden_mask):\n",
        "  # if one column is all filled by zeros, the layer is not trainable and its weitghs have to be equal to I(54)\n",
        "  return np.all(hidden_mask == 0, axis=0) == False"
      ],
      "execution_count": null,
      "outputs": []
    },
    {
      "cell_type": "code",
      "metadata": {
        "id": "F-DepMIyUlgX"
      },
      "source": [
        "# Creación de las variables para el modelo con un diccionario\n",
        "b = {}\n",
        "w = {}\n",
        "\n",
        "for layer in range(max_layers):\n",
        "  # trainable_layers = get_trainable_layers(hidden_mask)\n",
        "  if layer == 0:\n",
        "    b['b%s' % (layer+1)] = tf.Variable(tf.random.normal(shape=[1, num_max_units], dtype=tf.dtypes.float64))\n",
        "    w['w%s' % (layer+1)] =  tf.Variable(tf.random.normal(shape=[input_dim**2, num_max_units], dtype=tf.dtypes.float64))\n",
        "  else:\n",
        "    # if trainable_layers[layer] == True:\n",
        "    b['b%s' % (layer+1)]  =  tf.Variable(tf.random.normal(shape=[1, num_max_units], dtype=tf.dtypes.float64))\n",
        "    w['w%s' % (layer+1)]  =  tf.Variable(tf.random.normal(shape=[num_max_units, num_max_units], dtype=tf.dtypes.float64))\n",
        "    # else:\n",
        "    #  b['b%s' % (layer+1)]  =  tf.Variable(tf.zeros(shape=[num_max_units, num_max_units], dtype=tf.dtypes.float64))\n",
        "    #  w['w%s' % (layer+1)]  =  tf.Variable(tf.eye(num_max_units))\n",
        "\n",
        "b['b%s' % (max_layers+1)]  =  tf.Variable(tf.random.normal(shape=[1, output_dim], dtype=tf.dtypes.float64))\n",
        "w['w%s' % (max_layers+1)]  =  tf.Variable(tf.random.normal(shape=[num_max_units, output_dim], dtype=tf.dtypes.float64))"
      ],
      "execution_count": null,
      "outputs": []
    },
    {
      "cell_type": "code",
      "metadata": {
        "id": "0oKnGaGsUlgX"
      },
      "source": [
        "# Parametros de la red neuronal\n",
        "hidden_activation = tf.nn.relu\n",
        "output_activation = tf.nn.softmax\n",
        "loss_fcn = tf.nn.sparse_softmax_cross_entropy_with_logits"
      ],
      "execution_count": null,
      "outputs": []
    },
    {
      "cell_type": "code",
      "metadata": {
        "colab": {
          "base_uri": "https://localhost:8080/"
        },
        "id": "5qryz-fdJHTz",
        "outputId": "4a39d558-ec54-47e3-d135-e05679f5fa28"
      },
      "source": [
        "w['w%s' % (1)].shape"
      ],
      "execution_count": null,
      "outputs": [
        {
          "data": {
            "text/plain": [
              "TensorShape([784, 54])"
            ]
          },
          "execution_count": 6,
          "metadata": {},
          "output_type": "execute_result"
        }
      ]
    },
    {
      "cell_type": "code",
      "metadata": {
        "id": "RykkjAUqJayn"
      },
      "source": [
        "b_aux = b['b%s' % (1)]"
      ],
      "execution_count": null,
      "outputs": []
    },
    {
      "cell_type": "code",
      "metadata": {
        "colab": {
          "base_uri": "https://localhost:8080/"
        },
        "id": "FGljey0RJMcs",
        "outputId": "bbe56161-c03d-4b82-8da2-f34d5dd2c9ed"
      },
      "source": [
        "b_aux.shape"
      ],
      "execution_count": null,
      "outputs": [
        {
          "data": {
            "text/plain": [
              "TensorShape([1, 54])"
            ]
          },
          "execution_count": 45,
          "metadata": {},
          "output_type": "execute_result"
        }
      ]
    },
    {
      "cell_type": "code",
      "metadata": {
        "id": "BgCbAmXuUlgX"
      },
      "source": [
        "# Creación de la red neuronal\n",
        "\n",
        "def get_loss(x, t, max_layers):\n",
        "  a_prev = 0\n",
        "  # trainable_layers = get_trainable_layers(hidden_mask)\n",
        "  for layer in range(max_layers):\n",
        "    w_aux = w['w%s' % (layer+1)]\n",
        "    b_aux = b['b%s' % (layer+1)]\n",
        "    if layer == 0: # For the input layer\n",
        "      a = hidden_activation(tf.matmul(x, w_aux) + b_aux)\n",
        "    else: # For the hidden layers\n",
        "      # if trainable_layers[layer] == 0:\n",
        "      a = hidden_activation(tf.matmul(a_prev, w_aux) + b_aux)\n",
        "    a_prev = a\n",
        "  # For the ouput layer\n",
        "  a = tf.matmul(a_prev, w['w%s' % (max_layers+1)]) + b['b%s' % (max_layers+1)]\n",
        "  y = output_activation(a, axis=0)\n",
        "\n",
        "  return y, a"
      ],
      "execution_count": null,
      "outputs": []
    },
    {
      "cell_type": "code",
      "metadata": {
        "id": "fOg6MFceGW8P"
      },
      "source": [
        "import numpy as np"
      ],
      "execution_count": null,
      "outputs": []
    },
    {
      "cell_type": "code",
      "metadata": {
        "id": "q6pKxndXUlgY"
      },
      "source": [
        "# Variables \n",
        "\n",
        "x_train = tf.cast(np.reshape(train_images, (train_images.shape[0], input_dim**2)), dtype=tf.float64)\n",
        "x_test = np.reshape(test_images, (test_images.shape[0], input_dim**2))"
      ],
      "execution_count": null,
      "outputs": []
    },
    {
      "cell_type": "code",
      "metadata": {
        "id": "xzUzTo43UlgY"
      },
      "source": [
        "# Custom training loop from scratch (Parameters)\n",
        "lr = 1e-3\n",
        "trigger_thr = 0.025\n",
        "nepochs = 2000"
      ],
      "execution_count": null,
      "outputs": []
    },
    {
      "cell_type": "code",
      "metadata": {
        "id": "PXQsa4QPUlgZ"
      },
      "source": [
        "def train(lr, trigger_thr, nepochs, x, t, max_layers):\n",
        "  training_loss = []\n",
        "  for epoch in range(nepochs):\n",
        "    with tf.GradientTape(persistent=True) as tape:\n",
        "      # Compute the forward pass\n",
        "      y, a = get_loss(x, t, max_layers)\n",
        "      xentropy = loss_fcn(tf.cast(t, dtype='int32'), tf.transpose(y))\n",
        "      loss = tf.reduce_mean(xentropy)\n",
        "      \n",
        "\n",
        "    training_loss.append(loss.numpy())\n",
        "\n",
        "    # trainable_layers = get_trainable_layers(hidden_mask)\n",
        "\n",
        "    for layer in range(max_layers):\n",
        "      # if trainable_layers[layer] == 1:\n",
        "      w_aux = w['w%s' % (layer+1)]\n",
        "      b_aux = b['b%s' % (layer+1)]\n",
        "      # Compute gradients \n",
        "      db = tape.gradient(loss, b_aux)\n",
        "      dw = tape.gradient(loss, w_aux)\n",
        "      # Update parameters\n",
        "      w['w%s' % (layer+1)].assign(w['w%s' % (layer+1)] - lr*dw)\n",
        "      b['b%s' % (layer+1)].assign(b['b%s' % (layer+1)] - lr*db)\n",
        "  return training_loss"
      ],
      "execution_count": null,
      "outputs": []
    },
    {
      "cell_type": "code",
      "metadata": {
        "colab": {
          "base_uri": "https://localhost:8080/",
          "height": 374
        },
        "id": "rLxK3nONUlga",
        "outputId": "d64c3034-0800-4e92-a248-d25267ca5929"
      },
      "source": [
        "training_loss =  train(lr, trigger_thr, 20, x_train, train_labels, max_layers)"
      ],
      "execution_count": null,
      "outputs": [
        {
          "ename": "ValueError",
          "evalue": "ignored",
          "output_type": "error",
          "traceback": [
            "\u001b[0;31m---------------------------------------------------------------------------\u001b[0m",
            "\u001b[0;31mValueError\u001b[0m                                Traceback (most recent call last)",
            "\u001b[0;32m<ipython-input-22-380644f17e50>\u001b[0m in \u001b[0;36m<module>\u001b[0;34m()\u001b[0m\n\u001b[0;32m----> 1\u001b[0;31m \u001b[0mtraining_loss\u001b[0m \u001b[0;34m=\u001b[0m  \u001b[0mtrain\u001b[0m\u001b[0;34m(\u001b[0m\u001b[0mlr\u001b[0m\u001b[0;34m,\u001b[0m \u001b[0mtrigger_thr\u001b[0m\u001b[0;34m,\u001b[0m \u001b[0;36m20\u001b[0m\u001b[0;34m,\u001b[0m \u001b[0mx_train\u001b[0m\u001b[0;34m,\u001b[0m \u001b[0mtrain_labels\u001b[0m\u001b[0;34m,\u001b[0m \u001b[0mmax_layers\u001b[0m\u001b[0;34m)\u001b[0m\u001b[0;34m\u001b[0m\u001b[0;34m\u001b[0m\u001b[0m\n\u001b[0m",
            "\u001b[0;32m<ipython-input-21-0bdd5a1dd377>\u001b[0m in \u001b[0;36mtrain\u001b[0;34m(lr, trigger_thr, nepochs, x, t, max_layers)\u001b[0m\n\u001b[1;32m      5\u001b[0m       \u001b[0;31m# Compute the forward pass\u001b[0m\u001b[0;34m\u001b[0m\u001b[0;34m\u001b[0m\u001b[0;34m\u001b[0m\u001b[0m\n\u001b[1;32m      6\u001b[0m       \u001b[0my\u001b[0m\u001b[0;34m,\u001b[0m \u001b[0ma\u001b[0m \u001b[0;34m=\u001b[0m \u001b[0mget_loss\u001b[0m\u001b[0;34m(\u001b[0m\u001b[0mx\u001b[0m\u001b[0;34m,\u001b[0m \u001b[0mt\u001b[0m\u001b[0;34m,\u001b[0m \u001b[0mmax_layers\u001b[0m\u001b[0;34m)\u001b[0m\u001b[0;34m\u001b[0m\u001b[0;34m\u001b[0m\u001b[0m\n\u001b[0;32m----> 7\u001b[0;31m       \u001b[0mxentropy\u001b[0m \u001b[0;34m=\u001b[0m \u001b[0mloss_fcn\u001b[0m\u001b[0;34m(\u001b[0m\u001b[0mtf\u001b[0m\u001b[0;34m.\u001b[0m\u001b[0mcast\u001b[0m\u001b[0;34m(\u001b[0m\u001b[0mt\u001b[0m\u001b[0;34m,\u001b[0m \u001b[0mdtype\u001b[0m\u001b[0;34m=\u001b[0m\u001b[0;34m'int32'\u001b[0m\u001b[0;34m)\u001b[0m\u001b[0;34m,\u001b[0m \u001b[0mtf\u001b[0m\u001b[0;34m.\u001b[0m\u001b[0mtranspose\u001b[0m\u001b[0;34m(\u001b[0m\u001b[0my\u001b[0m\u001b[0;34m)\u001b[0m\u001b[0;34m)\u001b[0m\u001b[0;34m\u001b[0m\u001b[0;34m\u001b[0m\u001b[0m\n\u001b[0m\u001b[1;32m      8\u001b[0m       \u001b[0mloss\u001b[0m \u001b[0;34m=\u001b[0m \u001b[0mtf\u001b[0m\u001b[0;34m.\u001b[0m\u001b[0mreduce_mean\u001b[0m\u001b[0;34m(\u001b[0m\u001b[0mxentropy\u001b[0m\u001b[0;34m)\u001b[0m\u001b[0;34m\u001b[0m\u001b[0;34m\u001b[0m\u001b[0m\n\u001b[1;32m      9\u001b[0m \u001b[0;34m\u001b[0m\u001b[0m\n",
            "\u001b[0;32m/usr/local/lib/python3.7/dist-packages/tensorflow/python/util/dispatch.py\u001b[0m in \u001b[0;36mwrapper\u001b[0;34m(*args, **kwargs)\u001b[0m\n\u001b[1;32m    204\u001b[0m     \u001b[0;34m\"\"\"Call target, and fall back on dispatchers if there is a TypeError.\"\"\"\u001b[0m\u001b[0;34m\u001b[0m\u001b[0;34m\u001b[0m\u001b[0m\n\u001b[1;32m    205\u001b[0m     \u001b[0;32mtry\u001b[0m\u001b[0;34m:\u001b[0m\u001b[0;34m\u001b[0m\u001b[0;34m\u001b[0m\u001b[0m\n\u001b[0;32m--> 206\u001b[0;31m       \u001b[0;32mreturn\u001b[0m \u001b[0mtarget\u001b[0m\u001b[0;34m(\u001b[0m\u001b[0;34m*\u001b[0m\u001b[0margs\u001b[0m\u001b[0;34m,\u001b[0m \u001b[0;34m**\u001b[0m\u001b[0mkwargs\u001b[0m\u001b[0;34m)\u001b[0m\u001b[0;34m\u001b[0m\u001b[0;34m\u001b[0m\u001b[0m\n\u001b[0m\u001b[1;32m    207\u001b[0m     \u001b[0;32mexcept\u001b[0m \u001b[0;34m(\u001b[0m\u001b[0mTypeError\u001b[0m\u001b[0;34m,\u001b[0m \u001b[0mValueError\u001b[0m\u001b[0;34m)\u001b[0m\u001b[0;34m:\u001b[0m\u001b[0;34m\u001b[0m\u001b[0;34m\u001b[0m\u001b[0m\n\u001b[1;32m    208\u001b[0m       \u001b[0;31m# Note: convert_to_eager_tensor currently raises a ValueError, not a\u001b[0m\u001b[0;34m\u001b[0m\u001b[0;34m\u001b[0m\u001b[0;34m\u001b[0m\u001b[0m\n",
            "\u001b[0;32m/usr/local/lib/python3.7/dist-packages/tensorflow/python/ops/nn_ops.py\u001b[0m in \u001b[0;36msparse_softmax_cross_entropy_with_logits_v2\u001b[0;34m(labels, logits, name)\u001b[0m\n\u001b[1;32m   4350\u001b[0m   \"\"\"\n\u001b[1;32m   4351\u001b[0m   return sparse_softmax_cross_entropy_with_logits(\n\u001b[0;32m-> 4352\u001b[0;31m       labels=labels, logits=logits, name=name)\n\u001b[0m\u001b[1;32m   4353\u001b[0m \u001b[0;34m\u001b[0m\u001b[0m\n\u001b[1;32m   4354\u001b[0m \u001b[0;34m\u001b[0m\u001b[0m\n",
            "\u001b[0;32m/usr/local/lib/python3.7/dist-packages/tensorflow/python/util/dispatch.py\u001b[0m in \u001b[0;36mwrapper\u001b[0;34m(*args, **kwargs)\u001b[0m\n\u001b[1;32m    204\u001b[0m     \u001b[0;34m\"\"\"Call target, and fall back on dispatchers if there is a TypeError.\"\"\"\u001b[0m\u001b[0;34m\u001b[0m\u001b[0;34m\u001b[0m\u001b[0m\n\u001b[1;32m    205\u001b[0m     \u001b[0;32mtry\u001b[0m\u001b[0;34m:\u001b[0m\u001b[0;34m\u001b[0m\u001b[0;34m\u001b[0m\u001b[0m\n\u001b[0;32m--> 206\u001b[0;31m       \u001b[0;32mreturn\u001b[0m \u001b[0mtarget\u001b[0m\u001b[0;34m(\u001b[0m\u001b[0;34m*\u001b[0m\u001b[0margs\u001b[0m\u001b[0;34m,\u001b[0m \u001b[0;34m**\u001b[0m\u001b[0mkwargs\u001b[0m\u001b[0;34m)\u001b[0m\u001b[0;34m\u001b[0m\u001b[0;34m\u001b[0m\u001b[0m\n\u001b[0m\u001b[1;32m    207\u001b[0m     \u001b[0;32mexcept\u001b[0m \u001b[0;34m(\u001b[0m\u001b[0mTypeError\u001b[0m\u001b[0;34m,\u001b[0m \u001b[0mValueError\u001b[0m\u001b[0;34m)\u001b[0m\u001b[0;34m:\u001b[0m\u001b[0;34m\u001b[0m\u001b[0;34m\u001b[0m\u001b[0m\n\u001b[1;32m    208\u001b[0m       \u001b[0;31m# Note: convert_to_eager_tensor currently raises a ValueError, not a\u001b[0m\u001b[0;34m\u001b[0m\u001b[0;34m\u001b[0m\u001b[0;34m\u001b[0m\u001b[0m\n",
            "\u001b[0;32m/usr/local/lib/python3.7/dist-packages/tensorflow/python/ops/nn_ops.py\u001b[0m in \u001b[0;36msparse_softmax_cross_entropy_with_logits\u001b[0;34m(_sentinel, labels, logits, name)\u001b[0m\n\u001b[1;32m   4257\u001b[0m                        \u001b[0;34m\"should equal the shape of logits except for the last \"\u001b[0m\u001b[0;34m\u001b[0m\u001b[0;34m\u001b[0m\u001b[0m\n\u001b[1;32m   4258\u001b[0m                        \"dimension (received %s).\" % (labels_static_shape,\n\u001b[0;32m-> 4259\u001b[0;31m                                                      logits.get_shape()))\n\u001b[0m\u001b[1;32m   4260\u001b[0m     \u001b[0;31m# Check if no reshapes are required.\u001b[0m\u001b[0;34m\u001b[0m\u001b[0;34m\u001b[0m\u001b[0;34m\u001b[0m\u001b[0m\n\u001b[1;32m   4261\u001b[0m     \u001b[0;32mif\u001b[0m \u001b[0mlogits\u001b[0m\u001b[0;34m.\u001b[0m\u001b[0mget_shape\u001b[0m\u001b[0;34m(\u001b[0m\u001b[0;34m)\u001b[0m\u001b[0;34m.\u001b[0m\u001b[0mndims\u001b[0m \u001b[0;34m==\u001b[0m \u001b[0;36m2\u001b[0m\u001b[0;34m:\u001b[0m\u001b[0;34m\u001b[0m\u001b[0;34m\u001b[0m\u001b[0m\n",
            "\u001b[0;31mValueError\u001b[0m: Shape mismatch: The shape of labels (received (60000,)) should equal the shape of logits except for the last dimension (received (10, 60000))."
          ]
        }
      ]
    },
    {
      "cell_type": "code",
      "metadata": {
        "colab": {
          "base_uri": "https://localhost:8080/",
          "height": 280
        },
        "id": "P8WDopXKUlgb",
        "outputId": "323cfd68-97b6-46f2-a4ee-f74385eece37"
      },
      "source": [
        "import matplotlib.pyplot as plt\n",
        "\n",
        "# Visualización \n",
        "plt.plot(training_loss)\n",
        "plt.grid(True)\n",
        "plt.xlabel(\"época\")\n",
        "plt.ylabel(\"coste\")\n",
        "plt.show()"
      ],
      "execution_count": null,
      "outputs": [
        {
          "data": {
            "image/png": "[encoded data removed]",
            "text/plain": [
              "<Figure size 432x288 with 1 Axes>"
            ]
          },
          "metadata": {},
          "output_type": "display_data"
        }
      ]
    },
    {
      "cell_type": "code",
      "metadata": {
        "colab": {
          "base_uri": "https://localhost:8080/"
        },
        "id": "5bVFSPfyUlgb",
        "outputId": "0e2358e9-c26f-42ef-b852-e1f287ac2e77"
      },
      "source": [
        "len(training_loss)"
      ],
      "execution_count": null,
      "outputs": [
        {
          "data": {
            "text/plain": [
              "20"
            ]
          },
          "execution_count": 17,
          "metadata": {},
          "output_type": "execute_result"
        }
      ]
    },
    {
      "cell_type": "code",
      "metadata": {
        "colab": {
          "base_uri": "https://localhost:8080/"
        },
        "id": "DvUw4w-iXzDa",
        "outputId": "c369c856-aa75-44e9-ca4e-a238a445e699"
      },
      "source": [
        "training_loss[20-1]"
      ],
      "execution_count": null,
      "outputs": [
        {
          "data": {
            "text/plain": [
              "2.3678305804598163"
            ]
          },
          "execution_count": 18,
          "metadata": {},
          "output_type": "execute_result"
        }
      ]
    },
    {
      "cell_type": "code",
      "metadata": {
        "id": "kWPe2oXODec6"
      },
      "source": [
        "import tensorflow as tf"
      ],
      "execution_count": null,
      "outputs": []
    },
    {
      "cell_type": "code",
      "metadata": {
        "id": "OEpMfA79EIXF"
      },
      "source": [
        "from tensorflow.keras.layers import Dense"
      ],
      "execution_count": null,
      "outputs": []
    },
    {
      "cell_type": "code",
      "metadata": {
        "id": "kKBVKCI7YHHR"
      },
      "source": [
        "model = tf.keras.Sequential()\n",
        "\n",
        "model.add(Dense(input_shape=(784, ), units=54, activation='relu'))\n",
        "model.add(Dense(units=54, activation='relu'))\n",
        "model.add(Dense(10, activation='softmax'))"
      ],
      "execution_count": null,
      "outputs": []
    },
    {
      "cell_type": "code",
      "metadata": {
        "colab": {
          "base_uri": "https://localhost:8080/"
        },
        "id": "bGHrdR3cCo8G",
        "outputId": "b9fb296a-bd70-4dad-cf8b-428148900190"
      },
      "source": [
        "model.summary()"
      ],
      "execution_count": null,
      "outputs": [
        {
          "name": "stdout",
          "output_type": "stream",
          "text": [
            "Model: \"sequential_3\"\n",
            "_________________________________________________________________\n",
            "Layer (type)                 Output Shape              Param #   \n",
            "=================================================================\n",
            "dense_4 (Dense)              (None, 54)                42390     \n",
            "_________________________________________________________________\n",
            "dense_5 (Dense)              (None, 54)                2970      \n",
            "_________________________________________________________________\n",
            "dense_6 (Dense)              (None, 10)                550       \n",
            "=================================================================\n",
            "Total params: 45,910\n",
            "Trainable params: 45,910\n",
            "Non-trainable params: 0\n",
            "_________________________________________________________________\n"
          ]
        }
      ]
    },
    {
      "cell_type": "code",
      "metadata": {
        "id": "pRfTzJljF8on"
      },
      "source": [
        "import tensorflow as tf"
      ],
      "execution_count": null,
      "outputs": []
    },
    {
      "cell_type": "code",
      "metadata": {
        "id": "-55S03UYFrA0"
      },
      "source": [
        "opt = tf.keras.optimizers.RMSprop(learning_rate=lr)"
      ],
      "execution_count": null,
      "outputs": []
    },
    {
      "cell_type": "code",
      "metadata": {
        "id": "BRDyYAzDCo5k"
      },
      "source": [
        "model.compile(optimizer=opt, loss='sparse_categorical_crossentropy')"
      ],
      "execution_count": null,
      "outputs": []
    },
    {
      "cell_type": "code",
      "metadata": {
        "colab": {
          "base_uri": "https://localhost:8080/"
        },
        "id": "JbxMve0zGHof",
        "outputId": "6ec817ed-9074-44cb-c48d-b64a87ba719b"
      },
      "source": [
        "model.fit(x_train, train_labels, epochs=20)"
      ],
      "execution_count": null,
      "outputs": [
        {
          "name": "stdout",
          "output_type": "stream",
          "text": [
            "Epoch 1/20\n",
            "1875/1875 [==============================] - 6s 3ms/step - loss: 1.3764\n",
            "Epoch 2/20\n",
            "1875/1875 [==============================] - 5s 3ms/step - loss: 0.4330\n",
            "Epoch 3/20\n",
            "1875/1875 [==============================] - 5s 3ms/step - loss: 0.3615\n",
            "Epoch 4/20\n",
            "1875/1875 [==============================] - 5s 3ms/step - loss: 0.3421\n",
            "Epoch 5/20\n",
            "1875/1875 [==============================] - 5s 3ms/step - loss: 0.3215\n",
            "Epoch 6/20\n",
            "1875/1875 [==============================] - 5s 3ms/step - loss: 0.3062\n",
            "Epoch 7/20\n",
            "1875/1875 [==============================] - 5s 3ms/step - loss: 0.3042\n",
            "Epoch 8/20\n",
            "1875/1875 [==============================] - 5s 3ms/step - loss: 0.2966\n",
            "Epoch 9/20\n",
            "1875/1875 [==============================] - 5s 3ms/step - loss: 0.2880\n",
            "Epoch 10/20\n",
            "1875/1875 [==============================] - 5s 3ms/step - loss: 0.2721\n",
            "Epoch 11/20\n",
            "1875/1875 [==============================] - 5s 2ms/step - loss: 0.2881\n",
            "Epoch 12/20\n",
            "1875/1875 [==============================] - 5s 2ms/step - loss: 0.2671\n",
            "Epoch 13/20\n",
            "1875/1875 [==============================] - 5s 3ms/step - loss: 0.2660\n",
            "Epoch 14/20\n",
            "1875/1875 [==============================] - 5s 3ms/step - loss: 0.2713\n",
            "Epoch 15/20\n",
            "1875/1875 [==============================] - 5s 3ms/step - loss: 0.2576\n",
            "Epoch 16/20\n",
            "1875/1875 [==============================] - 5s 3ms/step - loss: 0.2598\n",
            "Epoch 17/20\n",
            "1875/1875 [==============================] - 5s 3ms/step - loss: 0.2521\n",
            "Epoch 18/20\n",
            "1875/1875 [==============================] - 5s 3ms/step - loss: 0.2358\n",
            "Epoch 19/20\n",
            "1875/1875 [==============================] - 5s 3ms/step - loss: 0.2398\n",
            "Epoch 20/20\n",
            "1875/1875 [==============================] - 5s 3ms/step - loss: 0.2470\n"
          ]
        },
        {
          "name": "stderr",
          "output_type": "stream",
          "text": [
            "Exception ignored in: <function IteratorResourceDeleter.__del__ at 0x7f2b35dff7a0>\n",
            "Traceback (most recent call last):\n",
            "  File \"/usr/local/lib/python3.7/dist-packages/tensorflow/python/data/ops/iterator_ops.py\", line 546, in __del__\n",
            "    handle=self._handle, deleter=self._deleter)\n",
            "  File \"/usr/local/lib/python3.7/dist-packages/tensorflow/python/ops/gen_dataset_ops.py\", line 1264, in delete_iterator\n",
            "    _ctx, \"DeleteIterator\", name, handle, deleter)\n",
            "KeyboardInterrupt: \n"
          ]
        },
        {
          "data": {
            "text/plain": [
              "<keras.callbacks.History at 0x7f2b2008b350>"
            ]
          },
          "execution_count": 31,
          "metadata": {},
          "output_type": "execute_result"
        }
      ]
    },
    {
      "cell_type": "markdown",
      "metadata": {
        "id": "d2Qww2yAOigk"
      },
      "source": [
        "### Opción con Kernels "
      ]
    },
    {
      "cell_type": "code",
      "metadata": {
        "id": "XuY0B7AhGOfG"
      },
      "source": [
        "import tensorflow as tf\n",
        "import numpy as np\n",
        "import matplotlib.pyplot as plt\n",
        "import random"
      ],
      "execution_count": null,
      "outputs": []
    },
    {
      "cell_type": "code",
      "metadata": {
        "id": "FtH0A8U-OtBB"
      },
      "source": [
        "def load_data():\n",
        "    (x_train, y_train), (x_test, y_test) = tf.keras.datasets.mnist.load_data()\n",
        "    x_train = np.reshape(x_train, (x_train.shape[0], 784))/255.\n",
        "    x_test = np.reshape(x_test, (x_test.shape[0], 784))/255.\n",
        "    y_train = tf.keras.utils.to_categorical(y_train)\n",
        "    y_test = tf.keras.utils.to_categorical(y_test)\n",
        "    return (x_train, y_train), (x_test, y_test)"
      ],
      "execution_count": null,
      "outputs": []
    },
    {
      "cell_type": "code",
      "metadata": {
        "id": "U8Isic7NOwsK"
      },
      "source": [
        "def plot_results(history):\n",
        "    plt.figure(figsize=(12, 4))\n",
        "    epochs = len(history['val_loss'])\n",
        "    plt.subplot(1, 2, 1)\n",
        "    plt.plot(range(epochs), history['val_loss'], label='Val Loss')\n",
        "    plt.plot(range(epochs), history['train_loss'], label='Train Loss')\n",
        "    plt.xticks(list(range(epochs)))\n",
        "    plt.xlabel('Epochs')\n",
        "    plt.ylabel('Loss')\n",
        "    plt.legend()\n",
        "    plt.subplot(1, 2, 2)\n",
        "    plt.plot(range(epochs), history['val_acc'], label='Val Acc')\n",
        "    plt.xticks(list(range(epochs)))\n",
        "    plt.xlabel('Epochs')\n",
        "    plt.ylabel('Accuracy')\n",
        "    plt.legend()\n",
        "    return plt"
      ],
      "execution_count": null,
      "outputs": []
    },
    {
      "cell_type": "code",
      "metadata": {
        "id": "UniLY_CDUyVV"
      },
      "source": [
        "# Parameters\n",
        "max_layers = 2\n",
        "num_max_units = 128\n",
        "\n",
        "layers = np.zeros(max_layers, dtype='uint32')\n",
        "for i in range(max_layers): layers[i] = num_max_units"
      ],
      "execution_count": null,
      "outputs": []
    },
    {
      "cell_type": "code",
      "metadata": {
        "id": "wA4KXWHtUbev"
      },
      "source": [
        "# Mask to freeze layers or neurons in each layer\n",
        "# Each neuron is trainable if 1, otherwise its weight = 0\n",
        "hidden_mask = tf.Variable(tf.cast(tf.random.normal((num_max_units, max_layers))>(-1), dtype=tf.dtypes.float32))"
      ],
      "execution_count": null,
      "outputs": []
    },
    {
      "cell_type": "code",
      "metadata": {
        "id": "oPS6Gg0c1NJf"
      },
      "source": [
        "hidden_mask = tf.Variable(tf.cast(tf.ones((num_max_units, max_layers)), dtype=tf.dtypes.float32))"
      ],
      "execution_count": null,
      "outputs": []
    },
    {
      "cell_type": "code",
      "metadata": {
        "id": "x1GTsd_JO7NB"
      },
      "source": [
        "class FluidNetwork:\n",
        "#------------------------------------------------------------------------------- \n",
        "    def __init__(self, layers, hidden_mask, input_dim, output_dim):\n",
        "        self.layers = layers\n",
        "        self.L = len(layers)\n",
        "        self.num_features = input_dim\n",
        "        self.num_classes = output_dim\n",
        "        self.hidden_mask = hidden_mask\n",
        "        self.input_dim = input_dim\n",
        "\n",
        "        self.W = {}\n",
        "        self.b = {}\n",
        "        \n",
        "        self.dW = {}\n",
        "        self.db = {}\n",
        "        \n",
        "        self.build_net()\n",
        "#-------------------------------------------------------------------------------     \n",
        "    def build_net(self):\n",
        "      trainable_layers = self.get_trainable_layers()\n",
        "      for i in range(self.L):\n",
        "        if i == 0:\n",
        "          self.W[i] = tf.Variable(tf.random.normal(shape=(self.layers[i], input_dim)))\n",
        "          self.b[i] = tf.Variable(tf.random.normal(shape=(self.layers[i], 1)))\n",
        "        else:\n",
        "          if trainable_layers[i] == 1:\n",
        "            self.W[i] = tf.Variable(tf.random.normal(shape=(self.layers[i], self.layers[i-1])))\n",
        "            self.b[i] = tf.Variable(tf.random.normal(shape=(self.layers[i], 1))) \n",
        "          else: \n",
        "            self.W[i] = tf.Variable(tf.eye(self.layers[i], self.layers[i-1]))\n",
        "            self.b[i] = tf.Variable(tf.zeros(shape=(self.layers[i], 1)))\n",
        "      self.W[i+1] = tf.Variable(tf.random.normal(shape=(output_dim, self.layers[i])))\n",
        "      self.b[i+1] = tf.Variable(tf.random.normal(shape=(output_dim, 1))) \n",
        "#-------------------------------------------------------------------------------             \n",
        "    def get_trainable_layers(self):\n",
        "    # if one column is all filled by zeros, the layer is not trainable and its weitghs have to be equal to I(units)\n",
        "      aux = np.all(self.hidden_mask.numpy() == 0, axis=0) == False\n",
        "      # aux[self.L-1] = 1 # output is always trainable\n",
        "      return aux\n",
        "#-------------------------------------------------------------------------------\n",
        "    def forward_pass(self, X):\n",
        "        A = tf.convert_to_tensor(X, dtype=tf.float32)\n",
        "\n",
        "        for i in range(self.L+1):\n",
        "            Z = tf.matmul(A, tf.transpose(self.W[i])) + tf.transpose(self.b[i])\n",
        "            if i <= self.L:\n",
        "                A = tf.nn.relu(Z)\n",
        "            else:\n",
        "                A = Z # do not call tf.nn.softmax with the output of a softmax as it internally does it\n",
        "        return A\n",
        "#-------------------------------------------------------------------------------\n",
        "    def compute_loss(self, A, Y):\n",
        "      loss = tf.nn.softmax_cross_entropy_with_logits(Y, A)\n",
        "      return tf.reduce_mean(loss)\n",
        "#-------------------------------------------------------------------------------    \n",
        "    def update_params(self, lr):\n",
        "        for i in range(self.L+1):\n",
        "          # if i == 0:\n",
        "          self.W[i].assign_sub(lr * self.dW[i])\n",
        "          self.b[i].assign_sub(lr * self.db[i])\n",
        "          # else:\n",
        "            # self.W[i].assign_sub(lr * self.hidden_mask[:, i-1:i] * self.dW[i])\n",
        "            # self.b[i].assign_sub(lr * self.db[i] * self.hidden_mask[:, i-1:i])\n",
        "#-------------------------------------------------------------------------------\n",
        "    def predict(self, X):\n",
        "      A = self.forward_pass(X)\n",
        "      return tf.argmax(tf.nn.softmax(A), axis=1)\n",
        "#-------------------------------------------------------------------------------    \n",
        "    def freeze_weights(self):\n",
        "      for i in range(1, self.L): # the first element in hidden layer is never used\n",
        "        self.W[i].assign = self.hidden_mask[:, i][None] * self.W[i]\n",
        "        self.b[i].assign = self.hidden_mask[:, i][None] * self.b[i]    \n",
        "#-------------------------------------------------------------------------------\n",
        "    def summary(self): # Actualizar\n",
        "        num_params = 0\n",
        "        for i in range(0, self.L+1):\n",
        "            num_params += self.W[i].shape[0] * self.W[i].shape[1]\n",
        "            num_params += self.b[i].shape[0]\n",
        "        print('Input Features:', self.num_features)\n",
        "        print('Number of Classes:', self.num_classes)\n",
        "        print('Hidden Layers:')\n",
        "        print('--------------')\n",
        "        for i in range(self.L):\n",
        "            print('Layer {}, Units {}'.format(i, self.layers[i]))\n",
        "        print('--------------')\n",
        "        print('Number of parameters:', num_params)\n",
        "#-------------------------------------------------------------------------------\n",
        "    def train_on_batch(self, X, Y, lr):\n",
        "      X = tf.convert_to_tensor(X, dtype=tf.float32)\n",
        "      Y = tf.convert_to_tensor(Y, dtype=tf.float32)\n",
        "        \n",
        "      with tf.GradientTape(persistent=True) as tape:\n",
        "          self.freeze_weights()\n",
        "          A = self.forward_pass(X)\n",
        "          loss = self.compute_loss(A, Y)\n",
        "\n",
        "      for i in range(self.L):\n",
        "          self.dW[i] = tape.gradient(loss, self.W[i])\n",
        "          self.db[i] = tape.gradient(loss, self.b[i])\n",
        "\n",
        "      self.dW[i+1] = tape.gradient(loss, self.W[i+1])\n",
        "      self.db[i+1] = tape.gradient(loss, self.b[i+1])\n",
        "\n",
        "      del tape\n",
        "      self.update_params(lr)\n",
        "      return loss.numpy()\n",
        "#-------------------------------------------------------------------------------\n",
        "    def train(self, x_train, y_train, x_test, y_test, epochs, steps_per_epoch, batch_size, lr):\n",
        "      history = {\n",
        "          'val_loss':[],\n",
        "          'train_loss':[],\n",
        "          'val_acc':[]\n",
        "      }\n",
        "      \n",
        "      for e in range(0, epochs):\n",
        "          epoch_train_loss = 0.\n",
        "          print('Epoch{}'.format(e), end='-')\n",
        "          for i in range(0, steps_per_epoch):\n",
        "              x_batch = x_train[i*batch_size:(i+1)*batch_size]\n",
        "              y_batch = y_train[i*batch_size:(i+1)*batch_size]\n",
        "              \n",
        "              batch_loss = self.train_on_batch(x_batch, y_batch,lr)\n",
        "              epoch_train_loss += batch_loss\n",
        "              \n",
        "              if i%int(steps_per_epoch/10) == 0:\n",
        "                  print(end='.')\n",
        "                  \n",
        "          history['train_loss'].append(epoch_train_loss/steps_per_epoch)\n",
        "          val_A = self.forward_pass(x_test)\n",
        "          val_loss = self.compute_loss(val_A, y_test).numpy()\n",
        "          history['val_loss'].append(val_loss)\n",
        "          val_preds = self.predict(x_test)\n",
        "          val_acc =  np.mean(np.argmax(y_test, axis=1) == val_preds.numpy())\n",
        "          history['val_acc'].append(val_acc)\n",
        "          print('Val acc:',val_acc)\n",
        "      return history\n"
      ],
      "execution_count": null,
      "outputs": []
    },
    {
      "cell_type": "code",
      "metadata": {
        "id": "DoyO9A3pPnt7"
      },
      "source": [
        "(x_train, y_train), (x_test, y_test) = load_data()"
      ],
      "execution_count": null,
      "outputs": []
    },
    {
      "cell_type": "code",
      "metadata": {
        "colab": {
          "base_uri": "https://localhost:8080/"
        },
        "id": "w5TBTBu0P55f",
        "outputId": "ea90215b-1a4c-4f8f-818c-9465d277412a"
      },
      "source": [
        "input_dim = 28*28\n",
        "output_dim = 10\n",
        "net = FluidNetwork(layers, hidden_mask, input_dim, output_dim)\n",
        "net.summary()"
      ],
      "execution_count": null,
      "outputs": [
        {
          "name": "stdout",
          "output_type": "stream",
          "text": [
            "Input Features: 784\n",
            "Number of Classes: 10\n",
            "Hidden Layers:\n",
            "--------------\n",
            "Layer 0, Units 128\n",
            "Layer 1, Units 128\n",
            "--------------\n",
            "Number of parameters: 118282\n"
          ]
        }
      ]
    },
    {
      "cell_type": "code",
      "metadata": {
        "id": "fMi1oIu9P-fC"
      },
      "source": [
        "# Parameters\n",
        "batch_size = 104\n",
        "epochs = 100\n",
        "steps_per_epoch = int(x_train.shape[0]/batch_size)\n",
        "lr = 3e-3"
      ],
      "execution_count": null,
      "outputs": []
    },
    {
      "cell_type": "code",
      "metadata": {
        "id": "hm9e5Iu3zXSm"
      },
      "source": [
        "A = net.forward_pass(x_train)"
      ],
      "execution_count": null,
      "outputs": []
    },
    {
      "cell_type": "code",
      "metadata": {
        "id": "m0pLPCWB0ZF2"
      },
      "source": [
        "net.compute_loss(A, y_train)"
      ],
      "execution_count": null,
      "outputs": []
    },
    {
      "cell_type": "code",
      "metadata": {
        "id": "tUnMtzrKYSEZ"
      },
      "source": [
        "net.db"
      ],
      "execution_count": null,
      "outputs": []
    },
    {
      "cell_type": "code",
      "metadata": {
        "id": "1a28UavwQA6C"
      },
      "source": [
        "history = net.train(\n",
        "    x_train,y_train,\n",
        "    x_test, y_test,\n",
        "    epochs, steps_per_epoch,\n",
        "    batch_size, lr)"
      ],
      "execution_count": null,
      "outputs": []
    },
    {
      "cell_type": "code",
      "metadata": {
        "id": "vzNmZ4kuaKNj"
      },
      "source": [
        "hidden_mask = tf.Variable(tf.cast(tf.ones((num_max_units, max_layers)), dtype=tf.dtypes.float32))"
      ],
      "execution_count": null,
      "outputs": []
    },
    {
      "cell_type": "code",
      "metadata": {
        "id": "nT1aINzjdi_w"
      },
      "source": [
        "net.b"
      ],
      "execution_count": null,
      "outputs": []
    },
    {
      "cell_type": "code",
      "metadata": {
        "colab": {
          "base_uri": "https://localhost:8080/"
        },
        "id": "9FtZhQVznHPt",
        "outputId": "89f6a700-cd53-44d3-fbfb-ea350b3585fe"
      },
      "source": [
        "x_train.shape"
      ],
      "execution_count": null,
      "outputs": [
        {
          "data": {
            "text/plain": [
              "(60000, 784)"
            ]
          },
          "execution_count": 106,
          "metadata": {},
          "output_type": "execute_result"
        }
      ]
    },
    {
      "cell_type": "markdown",
      "metadata": {
        "id": "KEOjqhLmqbgL"
      },
      "source": [
        "### Opcion con padding en los pesos"
      ]
    },
    {
      "cell_type": "code",
      "metadata": {
        "id": "U3s9dC2UqjJj"
      },
      "source": [
        "import tensorflow as tf\n",
        "import numpy as np\n",
        "import matplotlib.pyplot as plt\n",
        "from operator import itemgetter\n",
        "import pandas as pd\n",
        "import random\n",
        "from sklearn.model_selection import ShuffleSplit"
      ],
      "execution_count": null,
      "outputs": []
    },
    {
      "cell_type": "code",
      "metadata": {
        "id": "vwYjOiIX6JeG",
        "colab": {
          "base_uri": "https://localhost:8080/"
        },
        "outputId": "9dddd919-a3ab-47bd-d42b-981f06e883ce"
      },
      "source": [
        "X , (x_test, y_test) = tf.keras.datasets.mnist.load_data()"
      ],
      "execution_count": null,
      "outputs": [
        {
          "output_type": "stream",
          "name": "stdout",
          "text": [
            "Downloading data from https://storage.googleapis.com/tensorflow/tf-keras-datasets/mnist.npz\n",
            "11493376/11490434 [==============================] - 0s 0us/step\n",
            "11501568/11490434 [==============================] - 0s 0us/step\n"
          ]
        }
      ]
    },
    {
      "cell_type": "code",
      "metadata": {
        "id": "HfjajvDwqjJk"
      },
      "source": [
        "def load_data():\n",
        "  \"Loads data and each time the function is called a new partition of xtrain is used\"\n",
        "  (x_train, y_train), (x_test, y_test) = tf.keras.datasets.mnist.load_data()\n",
        "  # Shuffle data\n",
        "  # rs = ShuffleSplit(n_splits=5, test_size=.1)\n",
        "  # x_train, y_train  = rs.get_n_splits(X) pensar \n",
        "  # Normalize and transform to categorical\n",
        "  x_train = np.reshape(x_train, (x_train.shape[0], 784))/255.\n",
        "  x_test = np.reshape(x_test, (x_test.shape[0], 784))/255.\n",
        "  y_train = tf.keras.utils.to_categorical(y_train)\n",
        "  y_test = tf.keras.utils.to_categorical(y_test)\n",
        "\n",
        "  return (x_train, y_train), (x_test, y_test)"
      ],
      "execution_count": null,
      "outputs": []
    },
    {
      "cell_type": "code",
      "metadata": {
        "id": "dUOFYl7p3WME"
      },
      "source": [
        "(x_train, y_train), (x_test, y_test) = load_data()"
      ],
      "execution_count": null,
      "outputs": []
    },
    {
      "cell_type": "code",
      "metadata": {
        "id": "uKH0VhUcqjJk"
      },
      "source": [
        "def plot_results(history):\n",
        "    plt.figure(figsize=(12, 4))\n",
        "    epochs = len(history['val_loss'])\n",
        "    plt.subplot(1, 2, 1)\n",
        "    plt.plot(range(epochs), history['val_loss'], label='Val Loss')\n",
        "    plt.plot(range(epochs), history['train_loss'], label='Train Loss')\n",
        "    plt.xticks(list(range(epochs)))\n",
        "    plt.xlabel('Epochs')\n",
        "    plt.ylabel('Loss')\n",
        "    plt.legend()\n",
        "    plt.subplot(1, 2, 2)\n",
        "    plt.plot(range(epochs), history['val_acc'], label='Val Acc')\n",
        "    plt.xticks(list(range(epochs)))\n",
        "    plt.xlabel('Epochs')\n",
        "    plt.ylabel('Accuracy')\n",
        "    plt.legend()\n",
        "    return plt"
      ],
      "execution_count": null,
      "outputs": []
    },
    {
      "cell_type": "code",
      "metadata": {
        "id": "X3AKV6olYj-K"
      },
      "source": [
        "class FluidNetwork:\n",
        "#-------------------------------------------------------------------------------    \n",
        "  def __init__(self, layers):\n",
        "      self.layers = layers\n",
        "      self.L = len(layers) # input, hidden & output layer\n",
        "      self.num_features = layers[0]\n",
        "      self.num_classes = layers[-1]\n",
        "      \n",
        "      self.W = {}\n",
        "      self.b = {}\n",
        "      \n",
        "      self.dW = {}\n",
        "      self.db = {}\n",
        "      \n",
        "      self.setup()\n",
        "      self.new_topology = []\n",
        "#-------------------------------------------------------------------------------\n",
        "  def setup(self):\n",
        "      \n",
        "      for i in range(1, self.L):\n",
        "        self.W[i] = tf.Variable(1.0, shape=tf.TensorShape(None)) # to enable future modifications\n",
        "        self.b[i] = tf.Variable(1.0, shape=tf.TensorShape(None)) \n",
        "        self.W[i].assign(tf.Variable(tf.random.normal(shape=(self.layers[i],self.layers[i-1]))))\n",
        "        self.b[i].assign(tf.Variable(tf.random.normal(shape=(self.layers[i],1))))\n",
        "#-------------------------------------------------------------------------------\n",
        "  def forward_pass(self, X):\n",
        "\n",
        "      A = tf.convert_to_tensor(X, dtype=tf.float32)\n",
        "      for i in range(1, self.L):\n",
        "          Z = tf.matmul(A,tf.transpose(self.W[i])) + tf.transpose(self.b[i])\n",
        "          if i != self.L-1:\n",
        "              A = tf.nn.relu(Z)\n",
        "          else:\n",
        "              A = Z\n",
        "      return A\n",
        "#-------------------------------------------------------------------------------\n",
        "  def compute_loss(self, A, Y):\n",
        "      loss = tf.nn.softmax_cross_entropy_with_logits(Y,A)\n",
        "      return tf.reduce_mean(loss)\n",
        "#-------------------------------------------------------------------------------   \n",
        "  def update_params(self, lr):\n",
        "      for i in range(1,self.L):\n",
        "          self.W[i].assign_sub(lr * self.dW[i])\n",
        "          self.b[i].assign_sub(lr * self.db[i])\n",
        "#-------------------------------------------------------------------------------          \n",
        "  def predict(self, X):\n",
        "\n",
        "      A = self.forward_pass(X)\n",
        "      return tf.argmax(tf.nn.softmax(A), axis=1)\n",
        "#-------------------------------------------------------------------------------  \n",
        "  def info(self):\n",
        "      num_params = 0\n",
        "      for i in range(1, self.L):\n",
        "          num_params += self.W[i].shape[0] * self.W[i].shape[1]\n",
        "          num_params += self.b[i].shape[0]\n",
        "      print('Input Features:', self.num_features)\n",
        "      print('Number of Classes:', self.num_classes)\n",
        "      print('Hidden Layers:')\n",
        "      print('--------------')\n",
        "      for i in range(1, self.L-1):\n",
        "          print('Layer {}, Units {}'.format(i, self.layers[i]))\n",
        "      print('--------------')\n",
        "      print('Number of parameters:', num_params)\n",
        "#-------------------------------------------------------------------------------\n",
        "  def train_on_batch(self, X, Y, lr):\n",
        "        \n",
        "      X = tf.convert_to_tensor(X, dtype=tf.float32)\n",
        "      Y = tf.convert_to_tensor(Y, dtype=tf.float32)\n",
        "        \n",
        "      with tf.GradientTape(persistent=True) as tape:\n",
        "          A = self.forward_pass(X)\n",
        "          loss = self.compute_loss(A, Y)\n",
        "      for i in range(1, self.L):\n",
        "          self.dW[i] = tape.gradient(loss, self.W[i])\n",
        "          self.db[i] = tape.gradient(loss, self.b[i])\n",
        "      del tape\n",
        "      self.update_params(lr)\n",
        "      return loss.numpy()\n",
        "#-------------------------------------------------------------------------------    \n",
        "  def update_keys(self):\n",
        "    ini_list = {}\n",
        "    for i in range(1, net.L): ini_list[i] = i\n",
        "    self.b = dict(zip(ini_list, list(self.b.values())))    \n",
        "    self.W = dict(zip(ini_list, list(self.W.values())))   \n",
        "#-------------------------------------------------------------------------------\n",
        "  def activate_neurons(self, i):\n",
        "    \"Activate one neuron means adding a extra cols for W[i] and extra rows for W[i-1]\"\n",
        "    if self.layers[i-1] < self.new_topology[i-1]: # activate more neurons\n",
        "      neurons_to_act = self.new_topology[i-1] - self.layers[i-1]\n",
        "      if i != 2 :  # Only if is not the first layer of this case\n",
        "        # First add cols to W[i]\n",
        "        # W\n",
        "        aux = tf.Variable(tf.random.normal(shape=(self.new_topology[i], neurons_to_act)))\n",
        "        self.W[i].assign(tf.concat(axis=1, values=[self.W[i], aux]))\n",
        "      # Then add rows to W[i-1]\n",
        "      # W\n",
        "      aux = tf.Variable(tf.random.normal(shape=(neurons_to_act, self.new_topology[i-2])))\n",
        "      self.W[i-1].assign(tf.concat(axis=0, values=[self.W[i-1], aux]))\n",
        "      # b\n",
        "      aux = tf.Variable(tf.random.normal(shape=(neurons_to_act, 1)))\n",
        "      self.b[i-1].assign(tf.concat(axis=0, values=[self.b[i-1], aux]))\n",
        "    elif self.layers[i-1] > self.new_topology[i-1]: # deactivate some randomly neurons\n",
        "      neurons_to_act = self.new_topology[i-1]\n",
        "      random_index = np.random.choice(self.layers[i-1], neurons_to_act, replace=False)\n",
        "      if (i != self.L - 1 & self.L < len(self.new_topology)) | self.L >= len(self.new_topology): # Only if is not the last layer\n",
        "        # First remove extra cols from the current layer\n",
        "        # W\n",
        "        aux = pd.DataFrame(self.W[i].numpy())\n",
        "        aux = aux.reindex(columns=random_index).dropna(axis=1)\n",
        "        self.W[i].assign(aux.to_numpy())\n",
        "      # Then remove extra rows from the previous layer\n",
        "      # W\n",
        "      aux = np.transpose(pd.DataFrame(self.W[i-1].numpy()))\n",
        "      aux = aux.reindex(columns=random_index).dropna(axis=1)\n",
        "      self.W[i-1].assign(aux.T.to_numpy())\n",
        "      # b\n",
        "      aux = np.transpose(pd.DataFrame(self.b[i-1].numpy()))\n",
        "      aux = aux.reindex(columns=random_index).dropna(axis=1)\n",
        "      self.b[i-1].assign(aux.T.to_numpy())\n",
        "#-------------------------------------------------------------------------------    \n",
        "  def AG_update(self): # weight padding\n",
        "    self.prev_W = self.W.copy()\n",
        "    self.prev_b = self.b.copy()\n",
        "    new_L = len(self.new_topology)\n",
        "\n",
        "    for i in range(2, new_L): # 2 as the input alwyas remain the same\n",
        "      if self.L < new_L : # The new topology contains more layers\n",
        "        if i <= self.L - 1 : # Only apply for hidden layers\n",
        "          self.activate_neurons(i, flag)\n",
        "        else: # add new layers,and reestructure output weights for the last layer\n",
        "          if i == new_L - 1: # copy the output weights from the previous structure\n",
        "            self.W[i] = tf.Variable(1.0, shape=tf.TensorShape(None)) # to enable future modifications\n",
        "            self.b[i] = tf.Variable(1.0, shape=tf.TensorShape(None)) \n",
        "            if (self.layers[-2] >= self.new_topology[-2]):\n",
        "              neurons_to_act = self.new_topology[i-1]\n",
        "              random_index = np.random.choice(self.layers[self.L-2], neurons_to_act, replace=False)\n",
        "              aux = pd.DataFrame(self.prev_W[self.L -1].numpy())\n",
        "              aux = aux.reindex(columns=random_index).dropna(axis=1)\n",
        "              self.W[i].assign(aux.to_numpy())\n",
        "            else:\n",
        "              neurons_to_act = self.new_topology[-2] - self.layers[-2]\n",
        "              aux = tf.Variable(tf.random.normal(shape=(self.new_topology[i], neurons_to_act)))\n",
        "              self.W[i].assign(tf.concat(axis=1, values=[self.prev_W[self.L -1], aux]))\n",
        "\n",
        "            self.b[i].assign(self.prev_b[self.L -1])\n",
        "          # Add more layers\n",
        "          self.W[i-1] = tf.Variable(1.0, shape=tf.TensorShape(None)) # to enable future modifications\n",
        "          self.b[i-1] = tf.Variable(1.0, shape=tf.TensorShape(None)) \n",
        "          self.W[i-1].assign(tf.Variable(tf.random.normal(shape=(self.new_topology[i-1],self.new_topology[i-2]))))\n",
        "          self.b[i-1].assign(tf.Variable(tf.random.normal(shape=(self.new_topology[i-1],1))))\n",
        "\n",
        "      elif self.L > new_L: # The new topology contains less layers\n",
        "        # Only apply for hidden layers\n",
        "        self.activate_neurons(i, flag)\n",
        "        if i == new_L - 1 :\n",
        "          # First remove extra layers and then assign the ouput weights to the output layer\n",
        "          index_aux = np.arange(start=1, stop=new_L-1, step=1)\n",
        "          # index_aux[-1] = self.L - 1\n",
        "          mask = np.isin(list(self.W.keys()), index_aux) == False\n",
        "          keys_to_remove = np.array(list(self.W.keys()))[mask]\n",
        "          # W\n",
        "          d = self.W\n",
        "          l = keys_to_remove\n",
        "          list(map(d.__delitem__, filter(d.__contains__,l)))\n",
        "          # b\n",
        "          d = self.b\n",
        "          l = keys_to_remove\n",
        "          list(map(d.__delitem__, filter(d.__contains__,l)))\n",
        "          # Assign output weights to the ouput layer\n",
        "          self.W[i] = tf.Variable(1.0, shape=tf.TensorShape(None)) # to enable future modifications\n",
        "          self.b[i] = tf.Variable(1.0, shape=tf.TensorShape(None)) \n",
        "          if (self.layers[-2] >= self.new_topology[-2]):\n",
        "            neurons_to_act = self.new_topology[i-1]\n",
        "            random_index = np.random.choice(self.layers[self.L-2], neurons_to_act, replace=False)\n",
        "            aux = pd.DataFrame(self.prev_W[self.L -1].numpy())\n",
        "            aux = aux.reindex(columns=random_index).dropna(axis=1)\n",
        "            self.W[i].assign(aux.to_numpy())\n",
        "          else:\n",
        "            neurons_to_act = self.new_topology[-2] - self.layers[-2]\n",
        "            aux = tf.Variable(tf.random.normal(shape=(self.new_topology[i], neurons_to_act)))\n",
        "            self.W[i].assign(tf.concat(axis=1, values=[self.prev_W[self.L -1], aux]))\n",
        "\n",
        "          self.b[i].assign(self.prev_b[self.L -1])           \n",
        "          break\n",
        "      else: # The new topology contains the same layers but might differ in the number of units per layer\n",
        "        self.activate_neurons(i)\n",
        "    \n",
        "    # Update layers attributes and keys\n",
        "    self.L = len(self.new_topology)\n",
        "    self.layers = self.new_topology\n",
        "    # self.update_keys()\n",
        "#-------------------------------------------------------------------------------\n",
        "  def train(self, x_train, y_train, x_test, y_test, epochs, steps_per_epoch, batch_size, lr, trigger):\n",
        "\n",
        "      history = {\n",
        "          'val_loss':[],\n",
        "          'train_loss':[],\n",
        "          'val_acc':[]\n",
        "      }\n",
        "      \n",
        "      flag = 0\n",
        "      for e in range(0, epochs):\n",
        "          epoch_train_loss = 0.\n",
        "          print('Epoch{}'.format(e), end='.')\n",
        "          for i in range(0, steps_per_epoch):\n",
        "              x_batch = x_train[i*batch_size:(i+1)*batch_size]\n",
        "              y_batch = y_train[i*batch_size:(i+1)*batch_size]\n",
        "              \n",
        "              batch_loss = self.train_on_batch(x_batch, y_batch,lr)\n",
        "              epoch_train_loss += batch_loss\n",
        "              \n",
        "              if i%int(steps_per_epoch/10) == 0:\n",
        "                  print(end='.')\n",
        "                  \n",
        "          history['train_loss'].append(epoch_train_loss/steps_per_epoch)\n",
        "          val_A = self.forward_pass(x_test)\n",
        "          val_loss = self.compute_loss(val_A, y_test).numpy()\n",
        "          history['val_loss'].append(val_loss)\n",
        "          val_preds = self.predict(x_test)\n",
        "          val_acc =    np.mean(np.argmax(y_test, axis=1) == val_preds.numpy())\n",
        "          history['val_acc'].append(val_acc)\n",
        "          print('Val acc:',val_acc)\n",
        "          \n",
        "          if e>1 & flag == 0:\n",
        "            flag = 1\n",
        "            if (np.abs(history['train_loss'][-2]-history['train_loss'][-1]/history['train_loss'][-2])>=trigger):\n",
        "              print('AG trigger') \n",
        "              self.new_topology = [28*28, 128, 54, 128, 10]\n",
        "              self.AG_update()\n",
        "      return history"
      ],
      "execution_count": 61,
      "outputs": []
    },
    {
      "cell_type": "code",
      "metadata": {
        "id": "uS6EdO-Qbx8a"
      },
      "source": [
        "# Topological parameters\n",
        "max_layers = 3+2\n",
        "num_max_units = 128\n",
        "input_dim = 28*28\n",
        "output_dim = 10\n",
        "\n",
        "layers = np.zeros(max_layers, dtype='uint32')\n",
        "for i in range(max_layers): \n",
        "  if i == 0:\n",
        "    layers[i] = input_dim\n",
        "  elif i == max_layers-1:\n",
        "    layers[i] = output_dim\n",
        "  else:\n",
        "    layers[i] = num_max_units"
      ],
      "execution_count": null,
      "outputs": []
    },
    {
      "cell_type": "code",
      "metadata": {
        "id": "7rHIwDLiY4Sg"
      },
      "source": [
        "net = FluidNetwork(layers)"
      ],
      "execution_count": 62,
      "outputs": []
    },
    {
      "cell_type": "code",
      "metadata": {
        "id": "JRBAcbfIrbO-"
      },
      "source": [
        "(x_train, y_train), (x_test, y_test) = load_data()"
      ],
      "execution_count": null,
      "outputs": []
    },
    {
      "cell_type": "code",
      "metadata": {
        "colab": {
          "base_uri": "https://localhost:8080/"
        },
        "id": "Hh1qxdL_Y6d3",
        "outputId": "c6c8fd6a-dd89-48c6-fff9-96c736fa5b57"
      },
      "source": [
        "# Training parameters\n",
        "batch_size = 120\n",
        "epochs = 3\n",
        "steps_per_epoch = int(x_train.shape[0]/batch_size)\n",
        "lr = 3e-3\n",
        "trigger = 0.1\n",
        "print('Steps per epoch', steps_per_epoch)"
      ],
      "execution_count": null,
      "outputs": [
        {
          "output_type": "stream",
          "name": "stdout",
          "text": [
            "Steps per epoch 500\n"
          ]
        }
      ]
    },
    {
      "cell_type": "code",
      "metadata": {
        "colab": {
          "base_uri": "https://localhost:8080/"
        },
        "id": "6GA7SLnCQY8g",
        "outputId": "f8d33ec1-1bd9-4692-f31c-afb04273412c"
      },
      "source": [
        "layers"
      ],
      "execution_count": null,
      "outputs": [
        {
          "output_type": "execute_result",
          "data": {
            "text/plain": [
              "array([784, 128, 128, 128,  10], dtype=uint32)"
            ]
          },
          "metadata": {},
          "execution_count": 11
        }
      ]
    },
    {
      "cell_type": "code",
      "metadata": {
        "id": "ffTuGq-mvhxG",
        "colab": {
          "base_uri": "https://localhost:8080/",
          "height": 289
        },
        "outputId": "aa2b9fe0-1ded-4cdc-ab5a-314e10b156f0"
      },
      "source": [
        "# COMPROBACIONES:\n",
        "net.new_topology = [784, 3, 300, 20, 10]\n",
        "net.AG_update()\n",
        "for i in range(1, net.L):\n",
        " print(net.W[i].numpy().shape)"
      ],
      "execution_count": null,
      "outputs": [
        {
          "output_type": "error",
          "ename": "InvalidArgumentError",
          "evalue": "ignored",
          "traceback": [
            "\u001b[0;31m---------------------------------------------------------------------------\u001b[0m",
            "\u001b[0;31mInvalidArgumentError\u001b[0m                      Traceback (most recent call last)",
            "\u001b[0;32m<ipython-input-88-a67519bb35ac>\u001b[0m in \u001b[0;36m<module>\u001b[0;34m()\u001b[0m\n\u001b[1;32m      1\u001b[0m \u001b[0;31m# COMPROBACIONES:\u001b[0m\u001b[0;34m\u001b[0m\u001b[0;34m\u001b[0m\u001b[0;34m\u001b[0m\u001b[0m\n\u001b[1;32m      2\u001b[0m \u001b[0mnet\u001b[0m\u001b[0;34m.\u001b[0m\u001b[0mnew_topology\u001b[0m \u001b[0;34m=\u001b[0m \u001b[0;34m[\u001b[0m\u001b[0;36m784\u001b[0m\u001b[0;34m,\u001b[0m \u001b[0;36m3\u001b[0m\u001b[0;34m,\u001b[0m \u001b[0;36m300\u001b[0m\u001b[0;34m,\u001b[0m \u001b[0;36m20\u001b[0m\u001b[0;34m,\u001b[0m \u001b[0;36m10\u001b[0m\u001b[0;34m]\u001b[0m\u001b[0;34m\u001b[0m\u001b[0;34m\u001b[0m\u001b[0m\n\u001b[0;32m----> 3\u001b[0;31m \u001b[0mnet\u001b[0m\u001b[0;34m.\u001b[0m\u001b[0mAG_update\u001b[0m\u001b[0;34m(\u001b[0m\u001b[0;34m)\u001b[0m\u001b[0;34m\u001b[0m\u001b[0;34m\u001b[0m\u001b[0m\n\u001b[0m\u001b[1;32m      4\u001b[0m \u001b[0;32mfor\u001b[0m \u001b[0mi\u001b[0m \u001b[0;32min\u001b[0m \u001b[0mrange\u001b[0m\u001b[0;34m(\u001b[0m\u001b[0;36m1\u001b[0m\u001b[0;34m,\u001b[0m \u001b[0mnet\u001b[0m\u001b[0;34m.\u001b[0m\u001b[0mL\u001b[0m\u001b[0;34m)\u001b[0m\u001b[0;34m:\u001b[0m\u001b[0;34m\u001b[0m\u001b[0;34m\u001b[0m\u001b[0m\n\u001b[1;32m      5\u001b[0m  \u001b[0mprint\u001b[0m\u001b[0;34m(\u001b[0m\u001b[0mnet\u001b[0m\u001b[0;34m.\u001b[0m\u001b[0mW\u001b[0m\u001b[0;34m[\u001b[0m\u001b[0mi\u001b[0m\u001b[0;34m]\u001b[0m\u001b[0;34m.\u001b[0m\u001b[0mnumpy\u001b[0m\u001b[0;34m(\u001b[0m\u001b[0;34m)\u001b[0m\u001b[0;34m.\u001b[0m\u001b[0mshape\u001b[0m\u001b[0;34m)\u001b[0m\u001b[0;34m\u001b[0m\u001b[0;34m\u001b[0m\u001b[0m\n",
            "\u001b[0;32m<ipython-input-6-36682206b278>\u001b[0m in \u001b[0;36mAG_update\u001b[0;34m(self)\u001b[0m\n\u001b[1;32m    184\u001b[0m           \u001b[0;32mbreak\u001b[0m\u001b[0;34m\u001b[0m\u001b[0;34m\u001b[0m\u001b[0m\n\u001b[1;32m    185\u001b[0m       \u001b[0;32melse\u001b[0m\u001b[0;34m:\u001b[0m \u001b[0;31m# The new topology contains the same layers but might differ in the number of units per layer\u001b[0m\u001b[0;34m\u001b[0m\u001b[0;34m\u001b[0m\u001b[0m\n\u001b[0;32m--> 186\u001b[0;31m         \u001b[0mself\u001b[0m\u001b[0;34m.\u001b[0m\u001b[0mactivate_neurons\u001b[0m\u001b[0;34m(\u001b[0m\u001b[0mi\u001b[0m\u001b[0;34m)\u001b[0m\u001b[0;34m\u001b[0m\u001b[0;34m\u001b[0m\u001b[0m\n\u001b[0m\u001b[1;32m    187\u001b[0m \u001b[0;34m\u001b[0m\u001b[0m\n\u001b[1;32m    188\u001b[0m     \u001b[0;31m# Update layers attributes and keys\u001b[0m\u001b[0;34m\u001b[0m\u001b[0;34m\u001b[0m\u001b[0;34m\u001b[0m\u001b[0m\n",
            "\u001b[0;32m<ipython-input-6-36682206b278>\u001b[0m in \u001b[0;36mactivate_neurons\u001b[0;34m(self, i)\u001b[0m\n\u001b[1;32m     92\u001b[0m         \u001b[0;31m# W\u001b[0m\u001b[0;34m\u001b[0m\u001b[0;34m\u001b[0m\u001b[0;34m\u001b[0m\u001b[0m\n\u001b[1;32m     93\u001b[0m         \u001b[0maux\u001b[0m \u001b[0;34m=\u001b[0m \u001b[0mtf\u001b[0m\u001b[0;34m.\u001b[0m\u001b[0mVariable\u001b[0m\u001b[0;34m(\u001b[0m\u001b[0mtf\u001b[0m\u001b[0;34m.\u001b[0m\u001b[0mrandom\u001b[0m\u001b[0;34m.\u001b[0m\u001b[0mnormal\u001b[0m\u001b[0;34m(\u001b[0m\u001b[0mshape\u001b[0m\u001b[0;34m=\u001b[0m\u001b[0;34m(\u001b[0m\u001b[0mself\u001b[0m\u001b[0;34m.\u001b[0m\u001b[0mnew_topology\u001b[0m\u001b[0;34m[\u001b[0m\u001b[0mi\u001b[0m\u001b[0;34m]\u001b[0m\u001b[0;34m,\u001b[0m \u001b[0mneurons_to_act\u001b[0m\u001b[0;34m)\u001b[0m\u001b[0;34m)\u001b[0m\u001b[0;34m)\u001b[0m\u001b[0;34m\u001b[0m\u001b[0;34m\u001b[0m\u001b[0m\n\u001b[0;32m---> 94\u001b[0;31m         \u001b[0mself\u001b[0m\u001b[0;34m.\u001b[0m\u001b[0mW\u001b[0m\u001b[0;34m[\u001b[0m\u001b[0mi\u001b[0m\u001b[0;34m]\u001b[0m\u001b[0;34m.\u001b[0m\u001b[0massign\u001b[0m\u001b[0;34m(\u001b[0m\u001b[0mtf\u001b[0m\u001b[0;34m.\u001b[0m\u001b[0mconcat\u001b[0m\u001b[0;34m(\u001b[0m\u001b[0maxis\u001b[0m\u001b[0;34m=\u001b[0m\u001b[0;36m1\u001b[0m\u001b[0;34m,\u001b[0m \u001b[0mvalues\u001b[0m\u001b[0;34m=\u001b[0m\u001b[0;34m[\u001b[0m\u001b[0mself\u001b[0m\u001b[0;34m.\u001b[0m\u001b[0mW\u001b[0m\u001b[0;34m[\u001b[0m\u001b[0mi\u001b[0m\u001b[0;34m]\u001b[0m\u001b[0;34m,\u001b[0m \u001b[0maux\u001b[0m\u001b[0;34m]\u001b[0m\u001b[0;34m)\u001b[0m\u001b[0;34m)\u001b[0m\u001b[0;34m\u001b[0m\u001b[0;34m\u001b[0m\u001b[0m\n\u001b[0m\u001b[1;32m     95\u001b[0m       \u001b[0;31m# Then add rows to W[i-1]\u001b[0m\u001b[0;34m\u001b[0m\u001b[0;34m\u001b[0m\u001b[0;34m\u001b[0m\u001b[0m\n\u001b[1;32m     96\u001b[0m       \u001b[0;31m# W\u001b[0m\u001b[0;34m\u001b[0m\u001b[0;34m\u001b[0m\u001b[0;34m\u001b[0m\u001b[0m\n",
            "\u001b[0;32m/usr/local/lib/python3.7/dist-packages/tensorflow/python/util/dispatch.py\u001b[0m in \u001b[0;36mwrapper\u001b[0;34m(*args, **kwargs)\u001b[0m\n\u001b[1;32m    204\u001b[0m     \u001b[0;34m\"\"\"Call target, and fall back on dispatchers if there is a TypeError.\"\"\"\u001b[0m\u001b[0;34m\u001b[0m\u001b[0;34m\u001b[0m\u001b[0m\n\u001b[1;32m    205\u001b[0m     \u001b[0;32mtry\u001b[0m\u001b[0;34m:\u001b[0m\u001b[0;34m\u001b[0m\u001b[0;34m\u001b[0m\u001b[0m\n\u001b[0;32m--> 206\u001b[0;31m       \u001b[0;32mreturn\u001b[0m \u001b[0mtarget\u001b[0m\u001b[0;34m(\u001b[0m\u001b[0;34m*\u001b[0m\u001b[0margs\u001b[0m\u001b[0;34m,\u001b[0m \u001b[0;34m**\u001b[0m\u001b[0mkwargs\u001b[0m\u001b[0;34m)\u001b[0m\u001b[0;34m\u001b[0m\u001b[0;34m\u001b[0m\u001b[0m\n\u001b[0m\u001b[1;32m    207\u001b[0m     \u001b[0;32mexcept\u001b[0m \u001b[0;34m(\u001b[0m\u001b[0mTypeError\u001b[0m\u001b[0;34m,\u001b[0m \u001b[0mValueError\u001b[0m\u001b[0;34m)\u001b[0m\u001b[0;34m:\u001b[0m\u001b[0;34m\u001b[0m\u001b[0;34m\u001b[0m\u001b[0m\n\u001b[1;32m    208\u001b[0m       \u001b[0;31m# Note: convert_to_eager_tensor currently raises a ValueError, not a\u001b[0m\u001b[0;34m\u001b[0m\u001b[0;34m\u001b[0m\u001b[0;34m\u001b[0m\u001b[0m\n",
            "\u001b[0;32m/usr/local/lib/python3.7/dist-packages/tensorflow/python/ops/array_ops.py\u001b[0m in \u001b[0;36mconcat\u001b[0;34m(values, axis, name)\u001b[0m\n\u001b[1;32m   1767\u001b[0m           dtype=dtypes.int32).get_shape().assert_has_rank(0)\n\u001b[1;32m   1768\u001b[0m       \u001b[0;32mreturn\u001b[0m \u001b[0midentity\u001b[0m\u001b[0;34m(\u001b[0m\u001b[0mvalues\u001b[0m\u001b[0;34m[\u001b[0m\u001b[0;36m0\u001b[0m\u001b[0;34m]\u001b[0m\u001b[0;34m,\u001b[0m \u001b[0mname\u001b[0m\u001b[0;34m=\u001b[0m\u001b[0mname\u001b[0m\u001b[0;34m)\u001b[0m\u001b[0;34m\u001b[0m\u001b[0;34m\u001b[0m\u001b[0m\n\u001b[0;32m-> 1769\u001b[0;31m   \u001b[0;32mreturn\u001b[0m \u001b[0mgen_array_ops\u001b[0m\u001b[0;34m.\u001b[0m\u001b[0mconcat_v2\u001b[0m\u001b[0;34m(\u001b[0m\u001b[0mvalues\u001b[0m\u001b[0;34m=\u001b[0m\u001b[0mvalues\u001b[0m\u001b[0;34m,\u001b[0m \u001b[0maxis\u001b[0m\u001b[0;34m=\u001b[0m\u001b[0maxis\u001b[0m\u001b[0;34m,\u001b[0m \u001b[0mname\u001b[0m\u001b[0;34m=\u001b[0m\u001b[0mname\u001b[0m\u001b[0;34m)\u001b[0m\u001b[0;34m\u001b[0m\u001b[0;34m\u001b[0m\u001b[0m\n\u001b[0m\u001b[1;32m   1770\u001b[0m \u001b[0;34m\u001b[0m\u001b[0m\n\u001b[1;32m   1771\u001b[0m \u001b[0;34m\u001b[0m\u001b[0m\n",
            "\u001b[0;32m/usr/local/lib/python3.7/dist-packages/tensorflow/python/ops/gen_array_ops.py\u001b[0m in \u001b[0;36mconcat_v2\u001b[0;34m(values, axis, name)\u001b[0m\n\u001b[1;32m   1211\u001b[0m       \u001b[0;32mreturn\u001b[0m \u001b[0m_result\u001b[0m\u001b[0;34m\u001b[0m\u001b[0;34m\u001b[0m\u001b[0m\n\u001b[1;32m   1212\u001b[0m     \u001b[0;32mexcept\u001b[0m \u001b[0m_core\u001b[0m\u001b[0;34m.\u001b[0m\u001b[0m_NotOkStatusException\u001b[0m \u001b[0;32mas\u001b[0m \u001b[0me\u001b[0m\u001b[0;34m:\u001b[0m\u001b[0;34m\u001b[0m\u001b[0;34m\u001b[0m\u001b[0m\n\u001b[0;32m-> 1213\u001b[0;31m       \u001b[0m_ops\u001b[0m\u001b[0;34m.\u001b[0m\u001b[0mraise_from_not_ok_status\u001b[0m\u001b[0;34m(\u001b[0m\u001b[0me\u001b[0m\u001b[0;34m,\u001b[0m \u001b[0mname\u001b[0m\u001b[0;34m)\u001b[0m\u001b[0;34m\u001b[0m\u001b[0;34m\u001b[0m\u001b[0m\n\u001b[0m\u001b[1;32m   1214\u001b[0m     \u001b[0;32mexcept\u001b[0m \u001b[0m_core\u001b[0m\u001b[0;34m.\u001b[0m\u001b[0m_FallbackException\u001b[0m\u001b[0;34m:\u001b[0m\u001b[0;34m\u001b[0m\u001b[0;34m\u001b[0m\u001b[0m\n\u001b[1;32m   1215\u001b[0m       \u001b[0;32mpass\u001b[0m\u001b[0;34m\u001b[0m\u001b[0;34m\u001b[0m\u001b[0m\n",
            "\u001b[0;32m/usr/local/lib/python3.7/dist-packages/tensorflow/python/framework/ops.py\u001b[0m in \u001b[0;36mraise_from_not_ok_status\u001b[0;34m(e, name)\u001b[0m\n\u001b[1;32m   6939\u001b[0m   \u001b[0mmessage\u001b[0m \u001b[0;34m=\u001b[0m \u001b[0me\u001b[0m\u001b[0;34m.\u001b[0m\u001b[0mmessage\u001b[0m \u001b[0;34m+\u001b[0m \u001b[0;34m(\u001b[0m\u001b[0;34m\" name: \"\u001b[0m \u001b[0;34m+\u001b[0m \u001b[0mname\u001b[0m \u001b[0;32mif\u001b[0m \u001b[0mname\u001b[0m \u001b[0;32mis\u001b[0m \u001b[0;32mnot\u001b[0m \u001b[0;32mNone\u001b[0m \u001b[0;32melse\u001b[0m \u001b[0;34m\"\"\u001b[0m\u001b[0;34m)\u001b[0m\u001b[0;34m\u001b[0m\u001b[0;34m\u001b[0m\u001b[0m\n\u001b[1;32m   6940\u001b[0m   \u001b[0;31m# pylint: disable=protected-access\u001b[0m\u001b[0;34m\u001b[0m\u001b[0;34m\u001b[0m\u001b[0;34m\u001b[0m\u001b[0m\n\u001b[0;32m-> 6941\u001b[0;31m   \u001b[0msix\u001b[0m\u001b[0;34m.\u001b[0m\u001b[0mraise_from\u001b[0m\u001b[0;34m(\u001b[0m\u001b[0mcore\u001b[0m\u001b[0;34m.\u001b[0m\u001b[0m_status_to_exception\u001b[0m\u001b[0;34m(\u001b[0m\u001b[0me\u001b[0m\u001b[0;34m.\u001b[0m\u001b[0mcode\u001b[0m\u001b[0;34m,\u001b[0m \u001b[0mmessage\u001b[0m\u001b[0;34m)\u001b[0m\u001b[0;34m,\u001b[0m \u001b[0;32mNone\u001b[0m\u001b[0;34m)\u001b[0m\u001b[0;34m\u001b[0m\u001b[0;34m\u001b[0m\u001b[0m\n\u001b[0m\u001b[1;32m   6942\u001b[0m   \u001b[0;31m# pylint: enable=protected-access\u001b[0m\u001b[0;34m\u001b[0m\u001b[0;34m\u001b[0m\u001b[0;34m\u001b[0m\u001b[0m\n\u001b[1;32m   6943\u001b[0m \u001b[0;34m\u001b[0m\u001b[0m\n",
            "\u001b[0;32m/usr/local/lib/python3.7/dist-packages/six.py\u001b[0m in \u001b[0;36mraise_from\u001b[0;34m(value, from_value)\u001b[0m\n",
            "\u001b[0;31mInvalidArgumentError\u001b[0m: ConcatOp : Dimensions of inputs should match: shape[0] = [128,128] vs. shape[1] = [20,172] [Op:ConcatV2] name: concat"
          ]
        }
      ]
    },
    {
      "cell_type": "code",
      "metadata": {
        "id": "essBWHmy9VLb"
      },
      "source": [
        "self.prev_W = net.W.copy()\n",
        "self.prev_b = net.b.copy()\n",
        "new_L = len(net.new_topology)\n",
        "\n",
        "for i in range(2, new_L): # 2 as the input alwyas remain the same\n",
        "  if net.L < new_L : # The new topology contains more layers\n",
        "    if i <= net.L - 1 : # Only apply for hidden layers\n",
        "      net.activate_neurons(i)\n",
        "    else: # add new layers,and reestructure output weights for the last layer\n",
        "      if i == new_L - 1: # copy the output weights from the previous structure\n",
        "        net.W[i] = tf.Variable(1.0, shape=tf.TensorShape(None)) # to enable future modifications\n",
        "        net.b[i] = tf.Variable(1.0, shape=tf.TensorShape(None)) \n",
        "        if (net.layers[-2] >= net.new_topology[-2]):\n",
        "          neurons_to_act = net.new_topology[i-1]\n",
        "          random_index = np.random.choice(net.layers[net.L-2], neurons_to_act, replace=False)\n",
        "          aux = pd.DataFrame(self.prev_W[net.L -1].numpy())\n",
        "          aux = aux.reindex(columns=random_index).dropna(axis=1)\n",
        "          net.W[i].assign(aux.to_numpy())\n",
        "        else:\n",
        "          neurons_to_act = net.new_topology[-2] - net.layers[-2]\n",
        "          aux = tf.Variable(tf.random.normal(shape=(net.new_topology[i], neurons_to_act)))\n",
        "          net.W[i].assign(tf.concat(axis=1, values=[self.prev_W[net.L -1], aux]))\n",
        "\n",
        "        net.b[i].assign(self.prev_b[net.L -1])\n",
        "      # Add more layers\n",
        "      net.W[i-1] = tf.Variable(1.0, shape=tf.TensorShape(None)) # to enable future modifications\n",
        "      net.b[i-1] = tf.Variable(1.0, shape=tf.TensorShape(None)) \n",
        "      net.W[i-1].assign(tf.Variable(tf.random.normal(shape=(net.new_topology[i-1],net.new_topology[i-2]))))\n",
        "      net.b[i-1].assign(tf.Variable(tf.random.normal(shape=(net.new_topology[i-1],1))))\n",
        "\n",
        "  elif net.L > new_L: # The new topology contains less layers\n",
        "    # Only apply for hidden layers\n",
        "    net.activate_neurons(i)\n",
        "    if i == new_L - 1 :\n",
        "      # First remove extra layers and then assign the ouput weights to the output layer\n",
        "      index_aux = np.arange(start=1, stop=new_L-1, step=1)\n",
        "      # index_aux[-1] = self.L - 1\n",
        "      mask = np.isin(list(net.W.keys()), index_aux) == False\n",
        "      keys_to_remove = np.array(list(net.W.keys()))[mask]\n",
        "      # W\n",
        "      d = net.W\n",
        "      l = keys_to_remove\n",
        "      list(map(d.__delitem__, filter(d.__contains__,l)))\n",
        "      # b\n",
        "      d = net.b\n",
        "      l = keys_to_remove\n",
        "      list(map(d.__delitem__, filter(d.__contains__,l)))\n",
        "      # Assign output weights to the ouput layer\n",
        "      net.W[i] = tf.Variable(1.0, shape=tf.TensorShape(None)) # to enable future modifications\n",
        "      net.b[i] = tf.Variable(1.0, shape=tf.TensorShape(None)) \n",
        "      if (net.layers[-2] >= net.new_topology[-2]):\n",
        "        neurons_to_act = net.new_topology[i-1]\n",
        "        random_index = np.random.choice(net.layers[net.L-2], neurons_to_act, replace=False)\n",
        "        aux = pd.DataFrame(self.prev_W[net.L -1].numpy())\n",
        "        aux = aux.reindex(columns=random_index).dropna(axis=1)\n",
        "        net.W[i].assign(aux.to_numpy())\n",
        "      else:\n",
        "        neurons_to_act = net.new_topology[-2] - net.layers[-2]\n",
        "        aux = tf.Variable(tf.random.normal(shape=(net.new_topology[i], neurons_to_act)))\n",
        "        net.W[i].assign(tf.concat(axis=1, values=[self.prev_W[net.L -1], aux]))\n",
        "\n",
        "      net.b[i].assign(self.prev_b[net.L -1])           \n",
        "      break\n",
        "  else: # The new topology contains the same layers but might differ in the number of units per layer\n",
        "    net.activate_neurons(i)\n",
        "\n",
        "# Update layers attributes and keys\n",
        "net.L = len(net.new_topology)\n",
        "net.layers = net.new_topology"
      ],
      "execution_count": null,
      "outputs": []
    },
    {
      "cell_type": "code",
      "metadata": {
        "colab": {
          "base_uri": "https://localhost:8080/",
          "height": 289
        },
        "id": "88yJk2u8-SAs",
        "outputId": "0b73210a-d497-42e0-f7d3-015b56c62eb0"
      },
      "source": [
        "\n",
        "if net.layers[i-1] < net.new_topology[i-1]: # activate more neurons\n",
        "  neurons_to_act = net.new_topology[i-1] - net.layers[i-1]\n",
        "  if (i != 2  & net.L < len(net.new_topology)) | net.L >= len(net.new_topology): # Only if is not the first layer of this case\n",
        "    # First add cols to W[i]\n",
        "    # W\n",
        "    aux = tf.Variable(tf.random.normal(shape=(net.new_topology[i], neurons_to_act)))\n",
        "    net.W[i].assign(tf.concat(axis=1, values=[net.W[i], aux]))\n",
        "  # Then add rows to W[i-1]\n",
        "  # W\n",
        "  aux = tf.Variable(tf.random.normal(shape=(neurons_to_act, net.new_topology[i-2])))\n",
        "  net.W[i-1].assign(tf.concat(axis=0, values=[net.W[i-1], aux]))\n",
        "  # b\n",
        "  aux = tf.Variable(tf.random.normal(shape=(neurons_to_act, 1)))\n",
        "  net.b[i-1].assign(tf.concat(axis=0, values=[net.b[i-1], aux]))\n",
        "elif net.layers[i-1] > net.new_topology[i-1]: # deactivate some randomly neurons\n",
        "  neurons_to_act = net.new_topology[i-1]\n",
        "  random_index = np.random.choice(net.layers[i-1], neurons_to_act, replace=False)\n",
        "  if (i != net.L - 1 & net.L < len(net.new_topology)) | net.L >= len(net.new_topology): # Only if is not the last layer\n",
        "    # First remove extra cols from the current layer\n",
        "    # W\n",
        "    aux = pd.DataFrame(net.W[i].numpy())\n",
        "    aux = aux.reindex(columns=random_index).dropna(axis=1)\n",
        "    net.W[i].assign(aux.to_numpy())\n",
        "  # Then remove extra rows from the previous layer\n",
        "  # W\n",
        "  aux = np.transpose(pd.DataFrame(net.W[i-1].numpy()))\n",
        "  aux = aux.reindex(columns=random_index).dropna(axis=1)\n",
        "  net.W[i-1].assign(aux.T.to_numpy())\n",
        "  # b\n",
        "  aux = np.transpose(pd.DataFrame(net.b[i-1].numpy()))\n",
        "  aux = aux.reindex(columns=random_index).dropna(axis=1)\n",
        "  net.b[i-1].assign(aux.T.to_numpy())"
      ],
      "execution_count": null,
      "outputs": [
        {
          "output_type": "error",
          "ename": "InvalidArgumentError",
          "evalue": "ignored",
          "traceback": [
            "\u001b[0;31m---------------------------------------------------------------------------\u001b[0m",
            "\u001b[0;31mInvalidArgumentError\u001b[0m                      Traceback (most recent call last)",
            "\u001b[0;32m<ipython-input-81-7ba34b660dd5>\u001b[0m in \u001b[0;36m<module>\u001b[0;34m()\u001b[0m\n\u001b[1;32m      6\u001b[0m     \u001b[0;31m# W\u001b[0m\u001b[0;34m\u001b[0m\u001b[0;34m\u001b[0m\u001b[0;34m\u001b[0m\u001b[0m\n\u001b[1;32m      7\u001b[0m     \u001b[0maux\u001b[0m \u001b[0;34m=\u001b[0m \u001b[0mtf\u001b[0m\u001b[0;34m.\u001b[0m\u001b[0mVariable\u001b[0m\u001b[0;34m(\u001b[0m\u001b[0mtf\u001b[0m\u001b[0;34m.\u001b[0m\u001b[0mrandom\u001b[0m\u001b[0;34m.\u001b[0m\u001b[0mnormal\u001b[0m\u001b[0;34m(\u001b[0m\u001b[0mshape\u001b[0m\u001b[0;34m=\u001b[0m\u001b[0;34m(\u001b[0m\u001b[0mnet\u001b[0m\u001b[0;34m.\u001b[0m\u001b[0mnew_topology\u001b[0m\u001b[0;34m[\u001b[0m\u001b[0mi\u001b[0m\u001b[0;34m]\u001b[0m\u001b[0;34m,\u001b[0m \u001b[0mneurons_to_act\u001b[0m\u001b[0;34m)\u001b[0m\u001b[0;34m)\u001b[0m\u001b[0;34m)\u001b[0m\u001b[0;34m\u001b[0m\u001b[0;34m\u001b[0m\u001b[0m\n\u001b[0;32m----> 8\u001b[0;31m     \u001b[0mnet\u001b[0m\u001b[0;34m.\u001b[0m\u001b[0mW\u001b[0m\u001b[0;34m[\u001b[0m\u001b[0mi\u001b[0m\u001b[0;34m]\u001b[0m\u001b[0;34m.\u001b[0m\u001b[0massign\u001b[0m\u001b[0;34m(\u001b[0m\u001b[0mtf\u001b[0m\u001b[0;34m.\u001b[0m\u001b[0mconcat\u001b[0m\u001b[0;34m(\u001b[0m\u001b[0maxis\u001b[0m\u001b[0;34m=\u001b[0m\u001b[0;36m1\u001b[0m\u001b[0;34m,\u001b[0m \u001b[0mvalues\u001b[0m\u001b[0;34m=\u001b[0m\u001b[0;34m[\u001b[0m\u001b[0mnet\u001b[0m\u001b[0;34m.\u001b[0m\u001b[0mW\u001b[0m\u001b[0;34m[\u001b[0m\u001b[0mi\u001b[0m\u001b[0;34m]\u001b[0m\u001b[0;34m,\u001b[0m \u001b[0maux\u001b[0m\u001b[0;34m]\u001b[0m\u001b[0;34m)\u001b[0m\u001b[0;34m)\u001b[0m\u001b[0;34m\u001b[0m\u001b[0;34m\u001b[0m\u001b[0m\n\u001b[0m\u001b[1;32m      9\u001b[0m   \u001b[0;31m# Then add rows to W[i-1]\u001b[0m\u001b[0;34m\u001b[0m\u001b[0;34m\u001b[0m\u001b[0;34m\u001b[0m\u001b[0m\n\u001b[1;32m     10\u001b[0m   \u001b[0;31m# W\u001b[0m\u001b[0;34m\u001b[0m\u001b[0;34m\u001b[0m\u001b[0;34m\u001b[0m\u001b[0m\n",
            "\u001b[0;32m/usr/local/lib/python3.7/dist-packages/tensorflow/python/util/dispatch.py\u001b[0m in \u001b[0;36mwrapper\u001b[0;34m(*args, **kwargs)\u001b[0m\n\u001b[1;32m    204\u001b[0m     \u001b[0;34m\"\"\"Call target, and fall back on dispatchers if there is a TypeError.\"\"\"\u001b[0m\u001b[0;34m\u001b[0m\u001b[0;34m\u001b[0m\u001b[0m\n\u001b[1;32m    205\u001b[0m     \u001b[0;32mtry\u001b[0m\u001b[0;34m:\u001b[0m\u001b[0;34m\u001b[0m\u001b[0;34m\u001b[0m\u001b[0m\n\u001b[0;32m--> 206\u001b[0;31m       \u001b[0;32mreturn\u001b[0m \u001b[0mtarget\u001b[0m\u001b[0;34m(\u001b[0m\u001b[0;34m*\u001b[0m\u001b[0margs\u001b[0m\u001b[0;34m,\u001b[0m \u001b[0;34m**\u001b[0m\u001b[0mkwargs\u001b[0m\u001b[0;34m)\u001b[0m\u001b[0;34m\u001b[0m\u001b[0;34m\u001b[0m\u001b[0m\n\u001b[0m\u001b[1;32m    207\u001b[0m     \u001b[0;32mexcept\u001b[0m \u001b[0;34m(\u001b[0m\u001b[0mTypeError\u001b[0m\u001b[0;34m,\u001b[0m \u001b[0mValueError\u001b[0m\u001b[0;34m)\u001b[0m\u001b[0;34m:\u001b[0m\u001b[0;34m\u001b[0m\u001b[0;34m\u001b[0m\u001b[0m\n\u001b[1;32m    208\u001b[0m       \u001b[0;31m# Note: convert_to_eager_tensor currently raises a ValueError, not a\u001b[0m\u001b[0;34m\u001b[0m\u001b[0;34m\u001b[0m\u001b[0;34m\u001b[0m\u001b[0m\n",
            "\u001b[0;32m/usr/local/lib/python3.7/dist-packages/tensorflow/python/ops/array_ops.py\u001b[0m in \u001b[0;36mconcat\u001b[0;34m(values, axis, name)\u001b[0m\n\u001b[1;32m   1767\u001b[0m           dtype=dtypes.int32).get_shape().assert_has_rank(0)\n\u001b[1;32m   1768\u001b[0m       \u001b[0;32mreturn\u001b[0m \u001b[0midentity\u001b[0m\u001b[0;34m(\u001b[0m\u001b[0mvalues\u001b[0m\u001b[0;34m[\u001b[0m\u001b[0;36m0\u001b[0m\u001b[0;34m]\u001b[0m\u001b[0;34m,\u001b[0m \u001b[0mname\u001b[0m\u001b[0;34m=\u001b[0m\u001b[0mname\u001b[0m\u001b[0;34m)\u001b[0m\u001b[0;34m\u001b[0m\u001b[0;34m\u001b[0m\u001b[0m\n\u001b[0;32m-> 1769\u001b[0;31m   \u001b[0;32mreturn\u001b[0m \u001b[0mgen_array_ops\u001b[0m\u001b[0;34m.\u001b[0m\u001b[0mconcat_v2\u001b[0m\u001b[0;34m(\u001b[0m\u001b[0mvalues\u001b[0m\u001b[0;34m=\u001b[0m\u001b[0mvalues\u001b[0m\u001b[0;34m,\u001b[0m \u001b[0maxis\u001b[0m\u001b[0;34m=\u001b[0m\u001b[0maxis\u001b[0m\u001b[0;34m,\u001b[0m \u001b[0mname\u001b[0m\u001b[0;34m=\u001b[0m\u001b[0mname\u001b[0m\u001b[0;34m)\u001b[0m\u001b[0;34m\u001b[0m\u001b[0;34m\u001b[0m\u001b[0m\n\u001b[0m\u001b[1;32m   1770\u001b[0m \u001b[0;34m\u001b[0m\u001b[0m\n\u001b[1;32m   1771\u001b[0m \u001b[0;34m\u001b[0m\u001b[0m\n",
            "\u001b[0;32m/usr/local/lib/python3.7/dist-packages/tensorflow/python/ops/gen_array_ops.py\u001b[0m in \u001b[0;36mconcat_v2\u001b[0;34m(values, axis, name)\u001b[0m\n\u001b[1;32m   1211\u001b[0m       \u001b[0;32mreturn\u001b[0m \u001b[0m_result\u001b[0m\u001b[0;34m\u001b[0m\u001b[0;34m\u001b[0m\u001b[0m\n\u001b[1;32m   1212\u001b[0m     \u001b[0;32mexcept\u001b[0m \u001b[0m_core\u001b[0m\u001b[0;34m.\u001b[0m\u001b[0m_NotOkStatusException\u001b[0m \u001b[0;32mas\u001b[0m \u001b[0me\u001b[0m\u001b[0;34m:\u001b[0m\u001b[0;34m\u001b[0m\u001b[0;34m\u001b[0m\u001b[0m\n\u001b[0;32m-> 1213\u001b[0;31m       \u001b[0m_ops\u001b[0m\u001b[0;34m.\u001b[0m\u001b[0mraise_from_not_ok_status\u001b[0m\u001b[0;34m(\u001b[0m\u001b[0me\u001b[0m\u001b[0;34m,\u001b[0m \u001b[0mname\u001b[0m\u001b[0;34m)\u001b[0m\u001b[0;34m\u001b[0m\u001b[0;34m\u001b[0m\u001b[0m\n\u001b[0m\u001b[1;32m   1214\u001b[0m     \u001b[0;32mexcept\u001b[0m \u001b[0m_core\u001b[0m\u001b[0;34m.\u001b[0m\u001b[0m_FallbackException\u001b[0m\u001b[0;34m:\u001b[0m\u001b[0;34m\u001b[0m\u001b[0;34m\u001b[0m\u001b[0m\n\u001b[1;32m   1215\u001b[0m       \u001b[0;32mpass\u001b[0m\u001b[0;34m\u001b[0m\u001b[0;34m\u001b[0m\u001b[0m\n",
            "\u001b[0;32m/usr/local/lib/python3.7/dist-packages/tensorflow/python/framework/ops.py\u001b[0m in \u001b[0;36mraise_from_not_ok_status\u001b[0;34m(e, name)\u001b[0m\n\u001b[1;32m   6939\u001b[0m   \u001b[0mmessage\u001b[0m \u001b[0;34m=\u001b[0m \u001b[0me\u001b[0m\u001b[0;34m.\u001b[0m\u001b[0mmessage\u001b[0m \u001b[0;34m+\u001b[0m \u001b[0;34m(\u001b[0m\u001b[0;34m\" name: \"\u001b[0m \u001b[0;34m+\u001b[0m \u001b[0mname\u001b[0m \u001b[0;32mif\u001b[0m \u001b[0mname\u001b[0m \u001b[0;32mis\u001b[0m \u001b[0;32mnot\u001b[0m \u001b[0;32mNone\u001b[0m \u001b[0;32melse\u001b[0m \u001b[0;34m\"\"\u001b[0m\u001b[0;34m)\u001b[0m\u001b[0;34m\u001b[0m\u001b[0;34m\u001b[0m\u001b[0m\n\u001b[1;32m   6940\u001b[0m   \u001b[0;31m# pylint: disable=protected-access\u001b[0m\u001b[0;34m\u001b[0m\u001b[0;34m\u001b[0m\u001b[0;34m\u001b[0m\u001b[0m\n\u001b[0;32m-> 6941\u001b[0;31m   \u001b[0msix\u001b[0m\u001b[0;34m.\u001b[0m\u001b[0mraise_from\u001b[0m\u001b[0;34m(\u001b[0m\u001b[0mcore\u001b[0m\u001b[0;34m.\u001b[0m\u001b[0m_status_to_exception\u001b[0m\u001b[0;34m(\u001b[0m\u001b[0me\u001b[0m\u001b[0;34m.\u001b[0m\u001b[0mcode\u001b[0m\u001b[0;34m,\u001b[0m \u001b[0mmessage\u001b[0m\u001b[0;34m)\u001b[0m\u001b[0;34m,\u001b[0m \u001b[0;32mNone\u001b[0m\u001b[0;34m)\u001b[0m\u001b[0;34m\u001b[0m\u001b[0;34m\u001b[0m\u001b[0m\n\u001b[0m\u001b[1;32m   6942\u001b[0m   \u001b[0;31m# pylint: enable=protected-access\u001b[0m\u001b[0;34m\u001b[0m\u001b[0;34m\u001b[0m\u001b[0;34m\u001b[0m\u001b[0m\n\u001b[1;32m   6943\u001b[0m \u001b[0;34m\u001b[0m\u001b[0m\n",
            "\u001b[0;32m/usr/local/lib/python3.7/dist-packages/six.py\u001b[0m in \u001b[0;36mraise_from\u001b[0;34m(value, from_value)\u001b[0m\n",
            "\u001b[0;31mInvalidArgumentError\u001b[0m: ConcatOp : Dimensions of inputs should match: shape[0] = [30,10] vs. shape[1] = [129,190] [Op:ConcatV2] name: concat"
          ]
        }
      ]
    },
    {
      "cell_type": "code",
      "metadata": {
        "id": "h57_VepeY7JV",
        "colab": {
          "base_uri": "https://localhost:8080/"
        },
        "outputId": "898b0250-243b-46ec-8a74-0a5e96fd99a4"
      },
      "source": [
        "history = net.train(\n",
        "    x_train,y_train,\n",
        "    x_test, y_test,\n",
        "    epochs, steps_per_epoch,\n",
        "    batch_size, lr, trigger)"
      ],
      "execution_count": null,
      "outputs": [
        {
          "output_type": "stream",
          "name": "stdout",
          "text": [
            "Epoch0...........Val acc: 0.2528\n",
            "Epoch1...........Val acc: 0.2592\n",
            "AG trigger\n",
            "Epoch2...........Val acc: 0.2083\n"
          ]
        }
      ]
    },
    {
      "cell_type": "code",
      "metadata": {
        "colab": {
          "base_uri": "https://localhost:8080/",
          "height": 300
        },
        "id": "DSJDNuPHWjuV",
        "outputId": "473e0f29-9276-4151-d2be-405edc0cb235"
      },
      "source": [
        "plot_results(history)"
      ],
      "execution_count": null,
      "outputs": [
        {
          "data": {
            "text/plain": [
              "<module 'matplotlib.pyplot' from '/usr/local/lib/python3.7/dist-packages/matplotlib/pyplot.py'>"
            ]
          },
          "execution_count": 17,
          "metadata": {},
          "output_type": "execute_result"
        },
        {
          "data": {
            "image/png": "[encoded data removed]",
            "text/plain": [
              "<Figure size 864x288 with 2 Axes>"
            ]
          },
          "metadata": {},
          "output_type": "display_data"
        }
      ]
    },
    {
      "cell_type": "code",
      "metadata": {
        "id": "MWMWho2YzTL2"
      },
      "source": [
        ""
      ],
      "execution_count": null,
      "outputs": []
    },
    {
      "cell_type": "markdown",
      "metadata": {
        "id": "7cdA-Z8pzTxO"
      },
      "source": [
        "### Opcion con padding en los pesos (SOL)"
      ]
    },
    {
      "cell_type": "code",
      "metadata": {
        "id": "2etl9xFtzTxO",
        "colab": {
          "base_uri": "https://localhost:8080/"
        },
        "outputId": "80dba679-1e3d-4823-c0d6-323cdf028e40"
      },
      "source": [
        "import tensorflow as tf\n",
        "import numpy as np\n",
        "import matplotlib.pyplot as plt\n",
        "from operator import itemgetter\n",
        "import pandas as pd\n",
        "import random\n",
        "from sklearn.model_selection import ShuffleSplit\n",
        "!pip install fitter\n",
        "import seaborn as sns\n",
        "from fitter import Fitter, get_common_distributions, get_distributions\n",
        "import tensorflow_probability as tfp"
      ],
      "execution_count": 1,
      "outputs": [
        {
          "output_type": "stream",
          "name": "stdout",
          "text": [
            "Collecting fitter\n",
            "  Downloading fitter-1.4.0.tar.gz (27 kB)\n",
            "Collecting easydev\n",
            "  Downloading easydev-0.12.0.tar.gz (47 kB)\n",
            "\u001b[K     |████████████████████████████████| 47 kB 4.0 MB/s \n",
            "\u001b[?25hRequirement already satisfied: numpy in /usr/local/lib/python3.7/dist-packages (from fitter) (1.19.5)\n",
            "Requirement already satisfied: matplotlib in /usr/local/lib/python3.7/dist-packages (from fitter) (3.2.2)\n",
            "Requirement already satisfied: scipy>=0.18 in /usr/local/lib/python3.7/dist-packages (from fitter) (1.4.1)\n",
            "Requirement already satisfied: pandas in /usr/local/lib/python3.7/dist-packages (from fitter) (1.1.5)\n",
            "Requirement already satisfied: click in /usr/local/lib/python3.7/dist-packages (from fitter) (7.1.2)\n",
            "Requirement already satisfied: joblib in /usr/local/lib/python3.7/dist-packages (from fitter) (1.0.1)\n",
            "Collecting colorama\n",
            "  Downloading colorama-0.4.4-py2.py3-none-any.whl (16 kB)\n",
            "Requirement already satisfied: pexpect in /usr/local/lib/python3.7/dist-packages (from easydev->fitter) (4.8.0)\n",
            "Collecting colorlog\n",
            "  Downloading colorlog-6.5.0-py2.py3-none-any.whl (11 kB)\n",
            "Requirement already satisfied: pyparsing!=2.0.4,!=2.1.2,!=2.1.6,>=2.0.1 in /usr/local/lib/python3.7/dist-packages (from matplotlib->fitter) (2.4.7)\n",
            "Requirement already satisfied: python-dateutil>=2.1 in /usr/local/lib/python3.7/dist-packages (from matplotlib->fitter) (2.8.2)\n",
            "Requirement already satisfied: cycler>=0.10 in /usr/local/lib/python3.7/dist-packages (from matplotlib->fitter) (0.10.0)\n",
            "Requirement already satisfied: kiwisolver>=1.0.1 in /usr/local/lib/python3.7/dist-packages (from matplotlib->fitter) (1.3.2)\n",
            "Requirement already satisfied: six in /usr/local/lib/python3.7/dist-packages (from cycler>=0.10->matplotlib->fitter) (1.15.0)\n",
            "Requirement already satisfied: pytz>=2017.2 in /usr/local/lib/python3.7/dist-packages (from pandas->fitter) (2018.9)\n",
            "Requirement already satisfied: ptyprocess>=0.5 in /usr/local/lib/python3.7/dist-packages (from pexpect->easydev->fitter) (0.7.0)\n",
            "Building wheels for collected packages: fitter, easydev\n",
            "  Building wheel for fitter (setup.py) ... \u001b[?25l\u001b[?25hdone\n",
            "  Created wheel for fitter: filename=fitter-1.4.0-py3-none-any.whl size=25025 sha256=9e2eced39df2e4bce815962d305f2722e5b8a98c9d0e819f00369640a9adbf2a\n",
            "  Stored in directory: /root/.cache/pip/wheels/e1/98/16/e5263962f94fbfaad79902aa94652516caccc1f1d51509e853\n",
            "  Building wheel for easydev (setup.py) ... \u001b[?25l\u001b[?25hdone\n",
            "  Created wheel for easydev: filename=easydev-0.12.0-py3-none-any.whl size=64232 sha256=1bb1ae8ce71a05993f7ab2835df1fba8bea673d74f44a69ce96d84887d7f683a\n",
            "  Stored in directory: /root/.cache/pip/wheels/82/ab/83/fdfc4017ea44a585b6754752cc5f63f2d0d63fcc1317e7174b\n",
            "Successfully built fitter easydev\n",
            "Installing collected packages: colorlog, colorama, easydev, fitter\n",
            "Successfully installed colorama-0.4.4 colorlog-6.5.0 easydev-0.12.0 fitter-1.4.0\n"
          ]
        }
      ]
    },
    {
      "cell_type": "code",
      "metadata": {
        "id": "BpvjmGxpzTxP"
      },
      "source": [
        "def load_data():\n",
        "  \"Loads data and each time the function is called a new partition of xtrain is used\"\n",
        "  (x_train, y_train), (x_test, y_test) = tf.keras.datasets.mnist.load_data()\n",
        "  # Shuffle data\n",
        "  # rs = ShuffleSplit(n_splits=5, test_size=.1)\n",
        "  # x_train, y_train  = rs.get_n_splits(X) pensar \n",
        "  # Normalize and transform to categorical\n",
        "  x_train = np.reshape(x_train, (x_train.shape[0], 784))/255.\n",
        "  x_test = np.reshape(x_test, (x_test.shape[0], 784))/255.\n",
        "  y_train = tf.keras.utils.to_categorical(y_train)\n",
        "  y_test = tf.keras.utils.to_categorical(y_test)\n",
        "\n",
        "  return (x_train, y_train), (x_test, y_test)"
      ],
      "execution_count": 2,
      "outputs": []
    },
    {
      "cell_type": "code",
      "metadata": {
        "id": "dRg6Gax1zTxP",
        "colab": {
          "base_uri": "https://localhost:8080/"
        },
        "outputId": "907ae460-23bf-48ef-9303-3063cf1a050a"
      },
      "source": [
        "(x_train, y_train), (x_test, y_test) = load_data()"
      ],
      "execution_count": 3,
      "outputs": [
        {
          "output_type": "stream",
          "name": "stdout",
          "text": [
            "Downloading data from https://storage.googleapis.com/tensorflow/tf-keras-datasets/mnist.npz\n",
            "11493376/11490434 [==============================] - 0s 0us/step\n",
            "11501568/11490434 [==============================] - 0s 0us/step\n"
          ]
        }
      ]
    },
    {
      "cell_type": "code",
      "metadata": {
        "id": "npkv3zdIzTxP"
      },
      "source": [
        "def plot_results(history):\n",
        "    plt.figure(figsize=(12, 4))\n",
        "    epochs = len(history['val_loss'])\n",
        "    plt.subplot(1, 2, 1)\n",
        "    plt.plot(range(epochs), history['val_loss'], label='Val Loss')\n",
        "    plt.plot(range(epochs), history['train_loss'], label='Train Loss')\n",
        "    plt.xticks(list(range(epochs)))\n",
        "    plt.xlabel('Epochs')\n",
        "    plt.ylabel('Loss')\n",
        "    plt.legend()\n",
        "    plt.subplot(1, 2, 2)\n",
        "    plt.plot(range(epochs), history['val_acc'], label='Val Acc')\n",
        "    plt.xticks(list(range(epochs)))\n",
        "    plt.xlabel('Epochs')\n",
        "    plt.ylabel('Accuracy')\n",
        "    plt.legend()\n",
        "    return plt"
      ],
      "execution_count": 4,
      "outputs": []
    },
    {
      "cell_type": "code",
      "metadata": {
        "id": "L3HUyWzFzTxP"
      },
      "source": [
        "class FluidNetwork:\n",
        "#-------------------------------------------------------------------------------    \n",
        "  def __init__(self, layers):\n",
        "      self.layers = layers\n",
        "      self.L = len(layers) # input, hidden & output layer\n",
        "      self.num_features = layers[0]\n",
        "      self.num_classes = layers[-1]\n",
        "      \n",
        "      self.W = {}\n",
        "      self.b = {}\n",
        "      \n",
        "      self.prev_W = {}\n",
        "      self.prev_b = {}\n",
        "\n",
        "      self.dW = {}\n",
        "      self.db = {}\n",
        "      \n",
        "      self.setup()\n",
        "      self.new_topology = []\n",
        "#-------------------------------------------------------------------------------\n",
        "  def setup(self):\n",
        "      \n",
        "      for i in range(1, self.L):\n",
        "        self.W[i] = tf.Variable(1.0, shape=tf.TensorShape(None)) # to enable future modifications\n",
        "        self.b[i] = tf.Variable(1.0, shape=tf.TensorShape(None)) \n",
        "        self.W[i].assign(tf.Variable(tf.random.normal(shape=(self.layers[i],self.layers[i-1]))))\n",
        "        self.b[i].assign(tf.Variable(tf.random.normal(shape=(self.layers[i],1))))\n",
        "#-------------------------------------------------------------------------------\n",
        "  def forward_pass(self, X):\n",
        "\n",
        "      A = tf.convert_to_tensor(X, dtype=tf.float32)\n",
        "      for i in range(1, self.L):\n",
        "          Z = tf.matmul(A,tf.transpose(self.W[i])) + tf.transpose(self.b[i])\n",
        "          if i != self.L-1:\n",
        "              A = tf.nn.relu(Z)\n",
        "          else:\n",
        "              A = Z\n",
        "      return A\n",
        "#-------------------------------------------------------------------------------\n",
        "  def compute_loss(self, A, Y):\n",
        "      loss = tf.nn.softmax_cross_entropy_with_logits(Y,A)\n",
        "      return tf.reduce_mean(loss)\n",
        "#-------------------------------------------------------------------------------   \n",
        "  def update_params(self, lr):\n",
        "      for i in range(1,self.L):\n",
        "          self.W[i].assign_sub(lr * self.dW[i])\n",
        "          self.b[i].assign_sub(lr * self.db[i])\n",
        "#-------------------------------------------------------------------------------          \n",
        "  def predict(self, X):\n",
        "\n",
        "      A = self.forward_pass(X)\n",
        "      return tf.argmax(tf.nn.softmax(A), axis=1)\n",
        "#-------------------------------------------------------------------------------  \n",
        "  def info(self):\n",
        "      num_params = 0\n",
        "      for i in range(1, self.L):\n",
        "          num_params += self.W[i].shape[0] * self.W[i].shape[1]\n",
        "          num_params += self.b[i].shape[0]\n",
        "      print('Input Features:', self.num_features)\n",
        "      print('Number of Classes:', self.num_classes)\n",
        "      print('Hidden Layers:')\n",
        "      print('--------------')\n",
        "      for i in range(1, self.L-1):\n",
        "          print('Layer {}, Units {}'.format(i, self.layers[i]))\n",
        "      print('--------------')\n",
        "      print('Number of parameters:', num_params)\n",
        "#-------------------------------------------------------------------------------\n",
        "  def train_on_batch(self, X, Y, lr):\n",
        "        \n",
        "      X = tf.convert_to_tensor(X, dtype=tf.float32)\n",
        "      Y = tf.convert_to_tensor(Y, dtype=tf.float32)\n",
        "        \n",
        "      with tf.GradientTape(persistent=True) as tape:\n",
        "          A = self.forward_pass(X)\n",
        "          loss = self.compute_loss(A, Y)\n",
        "      for i in range(1, self.L):\n",
        "          self.dW[i] = tape.gradient(loss, self.W[i])\n",
        "          self.db[i] = tape.gradient(loss, self.b[i])\n",
        "      del tape\n",
        "      self.update_params(lr)\n",
        "      return loss.numpy()\n",
        "#-------------------------------------------------------------------------------    \n",
        "  def update_keys(self):\n",
        "    ini_list = {}\n",
        "    for i in range(1, net.L): ini_list[i] = i\n",
        "    self.b = dict(zip(ini_list, list(self.b.values())))    \n",
        "    self.W = dict(zip(ini_list, list(self.W.values())))  \n",
        "#-------------------------------------------------------------------------------  \n",
        "  def sample_distribution(self,param, layer, shape):\n",
        "    'Param: W (1) /b (0), layer: number of weight, size: tensor shape'\n",
        "    # Find best distribution to fit in dataset\n",
        "    if param == 1:\n",
        "      dataset = pd.DataFrame(self.prev_W[layer].numpy())\n",
        "    else:\n",
        "      dataset = pd.DataFrame(self.prev_b[layer].numpy())\n",
        "\n",
        "    f = Fitter(dataset,distributions= get_common_distributions()) # only common distribution out of the 80 are tested\n",
        "    f.fit()\n",
        "    summary = pd.DataFrame(f.summary(method='bic')) \n",
        "    dist_name = summary['bic'].keys()[0] # best dist according to bic values\n",
        "    # best_params = list(f.get_best(method='bic').values())[0] # best params \n",
        "    best_params = f.fitted_param[dist_name]\n",
        "    # Invoke distribution object\n",
        "    tfd = tfp.distributions\n",
        "    # Switch-case sentence\n",
        "    if dist_name == 'cauchy':\n",
        "      return tf.cast(tf.Variable(tfd.Cauchy(loc=best_params[0], scale=best_params[1]).sample(shape)), tf.float32)\n",
        "    elif dist_name == 'chi2':\n",
        "      return tf.cast(tf.Variable(tfd.Chi2(best_params[0]).sample(shape)), tf.float32)\n",
        "    elif dist_name == 'expon':\n",
        "      return tf.cast(tf.Variable(tfd.Exponential(np.abs(best_params[0])).sample(shape)), tf.float32)\n",
        "    elif dist_name == 'exponpow':\n",
        "      return tf.cast(tf.Variable(tfd.ExponentiallyModifiedGaussian(loc=best_params[0],\n",
        "                                              scale=best_params[1],\n",
        "                                              rate=best_params[2]).sample(shape)), tf.float32)\n",
        "    elif dist_name == 'gamma':\n",
        "      return tf.cast(tf.Variable(tfd.Gamma(best_params[0], best_params[1], best_params[2]).sample(shape)), tf.float32)\n",
        "    elif dist_name == 'lognorm':\n",
        "      return tf.cast(tf.Variable(tfd.LogNormal(loc=best_params[0], scale=best_params[1]).sample(shape)), tf.float32)\n",
        "    elif dist_name == 'norm':\n",
        "      return tf.cast(tf.Variable(tfd.Normal(loc=best_params[0], scale=best_params[1]).sample(shape)), tf.float32)\n",
        "    elif dist_name == 'powerlaw': # Its not defined\n",
        "      return tf.cast(tf.Variable(tfd.Normal(loc=best_params[0], scale=best_params[1]).sample(shape)), tf.float32)\n",
        "    elif dist_name == 'rayleigh':\n",
        "      return tf.cast(tf.Variable(tfp.random.rayleigh(scale=best_params[1]).sample(shape)), tf.float32)\n",
        "    else: # uniform\n",
        "      return tf.cast(tf.Variable(tfd.Uniform(low=best_params[0], high=best_params[1]).sample(shape)), tf.float32)\n",
        "#-------------------------------------------------------------------------------\n",
        "  def activate_neurons(self, i, flag):\n",
        "    \"Activate one neuron means adding a extra cols for W[i] and extra rows for W[i-1]\"\n",
        "    if self.layers[i-1] < self.new_topology[i-1]: # activate more neurons\n",
        "      neurons_to_act = self.new_topology[i-1] - self.layers[i-1]\n",
        "      # First add cols to W[i]\n",
        "      # W\n",
        "      if flag == 1:\n",
        "        try:\n",
        "          shape = (self.layers[i], neurons_to_act)\n",
        "          aux = self.sample_distribution(1, i, shape)\n",
        "        except:\n",
        "          print('Normal dist instead')\n",
        "        finally:\n",
        "          aux = tf.Variable(tf.random.normal(shape=(self.layers[i], neurons_to_act)))\n",
        "      else:\n",
        "        aux = tf.Variable(tf.random.normal(shape=(self.layers[i], neurons_to_act)))\n",
        "      self.W[i].assign(tf.concat(axis=1, values=[self.W[i], aux]))\n",
        "      # Then add rows to W[i-1]\n",
        "      # W\n",
        "      if flag == 1:\n",
        "        try:\n",
        "          shape = (neurons_to_act, self.new_topology[i-2])\n",
        "          aux = self.sample_distribution(1, i, shape)\n",
        "        except:\n",
        "          print('Normal dist instead')\n",
        "        finally:\n",
        "          aux = tf.Variable(tf.random.normal(shape=(neurons_to_act, self.new_topology[i-2])))\n",
        "      else:\n",
        "        aux = tf.Variable(tf.random.normal(shape=(neurons_to_act, self.new_topology[i-2])))\n",
        "      self.W[i-1].assign(tf.concat(axis=0, values=[self.W[i-1], aux]))\n",
        "      # b\n",
        "      if flag == 1:\n",
        "        try:\n",
        "          shape = (neurons_to_act, 1)\n",
        "          aux = self.sample_distribution(0, i, shape)\n",
        "        except:\n",
        "          print('Normal dist instead')\n",
        "        finally:\n",
        "          aux = tf.Variable(tf.random.normal(shape=(neurons_to_act, 1)))\n",
        "      else:\n",
        "        aux = tf.Variable(tf.random.normal(shape=(neurons_to_act, 1)))\n",
        "      self.b[i-1].assign(tf.concat(axis=0, values=[self.b[i-1], aux]))\n",
        "\n",
        "    elif self.layers[i-1] > self.new_topology[i-1]: # deactivate some randomly neurons\n",
        "      neurons_to_act = self.new_topology[i-1]\n",
        "      random_index = np.random.choice(self.layers[i-1], neurons_to_act, replace=False)\n",
        "      # First remove extra cols from the current layer\n",
        "      # W\n",
        "      aux = pd.DataFrame(self.W[i].numpy())\n",
        "      aux = aux.reindex(columns=random_index).dropna(axis=1)\n",
        "      self.W[i].assign(aux.to_numpy())\n",
        "      # Then remove extra rows from the previous layer\n",
        "      # W\n",
        "      aux = np.transpose(pd.DataFrame(self.W[i-1].numpy()))\n",
        "      aux = aux.reindex(columns=random_index).dropna(axis=1)\n",
        "      self.W[i-1].assign(aux.T.to_numpy())\n",
        "      # b\n",
        "      aux = np.transpose(pd.DataFrame(self.b[i-1].numpy()))\n",
        "      aux = aux.reindex(columns=random_index).dropna(axis=1)\n",
        "      self.b[i-1].assign(aux.T.to_numpy())\n",
        "#-------------------------------------------------------------------------------    \n",
        "  def AG_update(self, flag): # weight padding # i is the index for weights not for the layers \n",
        "    self.prev_W = self.W.copy()\n",
        "    self.prev_b = self.b.copy()\n",
        "    new_L = len(self.new_topology)\n",
        "\n",
        "    for i in range(2, new_L): # 2 as the input alwyas remain the same\n",
        "      if self.L < new_L : # The new topology contains more layers\n",
        "        if i <= self.L - 2 : # Only apply for hidden layers\n",
        "          self.activate_neurons(i, flag)\n",
        "        else: \n",
        "          if i == new_L - 1: # copy the output weights from the previous structure\n",
        "            self.W[i] = tf.Variable(1.0, shape=tf.TensorShape(None)) # to enable future modifications\n",
        "            self.b[i] = tf.Variable(1.0, shape=tf.TensorShape(None)) \n",
        "            if (self.layers[-2] >= self.new_topology[-2]):\n",
        "              neurons_to_act = self.new_topology[i-1]\n",
        "              random_index = np.random.choice(self.layers[self.L-2], neurons_to_act, replace=False)\n",
        "              aux = pd.DataFrame(self.prev_W[self.L -1].numpy())\n",
        "              aux = aux.reindex(columns=random_index).dropna(axis=1)\n",
        "              self.W[i].assign(aux.to_numpy())\n",
        "            else:\n",
        "              neurons_to_act = self.new_topology[-2] - self.layers[-2]\n",
        "              if flag == 1: # cambiarlo a 1\n",
        "                shape = (self.new_topology[i], neurons_to_act)\n",
        "                try:\n",
        "                  aux = self.sample_distribution(1, self.L-1, shape)\n",
        "                except:\n",
        "                  print('Normal dist instead')\n",
        "                finally:\n",
        "                   aux = tf.Variable(tf.random.normal(shape=(self.new_topology[i], neurons_to_act)))\n",
        "              else:\n",
        "                 aux = tf.Variable(tf.random.normal(shape=(self.new_topology[i], neurons_to_act)))\n",
        "              self.W[i].assign(tf.concat(axis=1, values=[self.prev_W[self.L -1], aux]))\n",
        "\n",
        "            self.b[i].assign(self.prev_b[self.L -1])\n",
        "\n",
        "          else: # add more layers and reestructure weights for the previous layer\n",
        "          # Reestructure weights for the last layer\n",
        "            if i == self.L -1 :\n",
        "              if self.layers[i-1] < self.new_topology[i-1]: # activate more neurons\n",
        "                neurons_to_act = self.new_topology[i-1] - self.layers[i-1]\n",
        "                # Then add rows to W[i-1]\n",
        "                # W\n",
        "                if flag == 1:\n",
        "                  try:\n",
        "                    shape = (neurons_to_act, self.new_topology[i-2])\n",
        "                    aux = self.sample_distribution(1, i, shape)\n",
        "                  except:\n",
        "                    print('Normal dist instead')\n",
        "                  finally:\n",
        "                    aux = tf.Variable(tf.random.normal(shape=(neurons_to_act, self.new_topology[i-2])))\n",
        "                else:\n",
        "                  aux = tf.Variable(tf.random.normal(shape=(neurons_to_act, self.new_topology[i-2])))\n",
        "                self.W[i-1].assign(tf.concat(axis=0, values=[self.W[i-1], aux]))\n",
        "                # b\n",
        "                if flag == 1:\n",
        "                  try:\n",
        "                    shape = (neurons_to_act, 1)\n",
        "                    aux = tf.cast(self.sample_distribution(0, i, shape), tf.float32)\n",
        "                  except:\n",
        "                    print('Normal distribution')\n",
        "                  finally:\n",
        "                    aux = tf.Variable(tf.random.normal(shape=(neurons_to_act, 1)))\n",
        "                else:\n",
        "                  aux = tf.Variable(tf.random.normal(shape=(neurons_to_act, 1)))\n",
        "                self.b[i-1].assign(tf.concat(axis=0, values=[self.b[i-1], aux]))\n",
        "\n",
        "              elif self.layers[i-1] > self.new_topology[i-1]: # deactivate some randomly neurons\n",
        "                neurons_to_act = self.new_topology[i-1]\n",
        "                random_index = np.random.choice(self.layers[i-1], neurons_to_act, replace=False)\n",
        "                # Then remove extra rows from the previous layer\n",
        "                # W\n",
        "                aux = np.transpose(pd.DataFrame(self.W[i-1].numpy()))\n",
        "                aux = aux.reindex(columns=random_index).dropna(axis=1)\n",
        "                self.W[i-1].assign(aux.T.to_numpy())\n",
        "                # b\n",
        "                aux = np.transpose(pd.DataFrame(self.b[i-1].numpy()))\n",
        "                aux = aux.reindex(columns=random_index).dropna(axis=1)\n",
        "                self.b[i-1].assign(aux.T.to_numpy())\n",
        "\n",
        "          # Add more layers\n",
        "          self.W[i] = tf.Variable(1.0, shape=tf.TensorShape(None)) # to enable future modifications\n",
        "          self.b[i] = tf.Variable(1.0, shape=tf.TensorShape(None)) \n",
        "          if flag == 1: # cambiarlo a 1\n",
        "            try:\n",
        "              self.W[i].assign(self.sample_distribution(1, self.L-1, shape=(self.new_topology[i],self.new_topology[i-1])))\n",
        "              self.b[i].assign(tf.cast(self.sample_distribution(0, self.L-1, shape=(self.new_topology[i],1)), tf.float32))\n",
        "            except:\n",
        "              print('Normal dist instead')\n",
        "            finally:\n",
        "              self.W[i].assign(tf.Variable(tf.random.normal(shape=(self.new_topology[i],self.new_topology[i-1]))))\n",
        "              self.b[i].assign(tf.Variable(tf.random.normal(shape=(self.new_topology[i],1)))) \n",
        "          else:\n",
        "            self.W[i].assign(tf.Variable(tf.random.normal(shape=(self.new_topology[i],self.new_topology[i-1]))))\n",
        "            self.b[i].assign(tf.Variable(tf.random.normal(shape=(self.new_topology[i],1))))\n",
        "\n",
        "      elif self.L > new_L: # The new topology contains less layers\n",
        "        if i == new_L - 1 :\n",
        "        # Firstly, add/remove weights from the previous layer\n",
        "          if self.layers[i-1] < self.new_topology[i-1]: # activate more neurons\n",
        "            neurons_to_act = self.new_topology[i-1] - self.layers[i-1]\n",
        "            # Then add rows to W[i-1]\n",
        "            # W\n",
        "            if flag == 1:\n",
        "              try:\n",
        "                shape = (neurons_to_act, self.new_topology[i-2])\n",
        "                aux = self.sample_distribution(1, i, shape)\n",
        "              except:\n",
        "                print('Normal dist instead')\n",
        "              finally:\n",
        "                aux = tf.Variable(tf.random.normal(shape=(neurons_to_act, self.new_topology[i-2])))\n",
        "            else:\n",
        "              aux = tf.Variable(tf.random.normal(shape=(neurons_to_act, self.new_topology[i-2])))\n",
        "            self.W[i-1].assign(tf.concat(axis=0, values=[self.W[i-1], aux]))\n",
        "            # b\n",
        "            if flag == 1:\n",
        "              try:\n",
        "                shape = (neurons_to_act, 1)\n",
        "                aux = tf.cast(self.sample_distribution(0, i, shape), tf.float32)\n",
        "              except:\n",
        "                print('Normal dist instead')\n",
        "              finally:\n",
        "                aux = tf.Variable(tf.random.normal(shape=(neurons_to_act, 1)))\n",
        "            else:\n",
        "              aux = tf.Variable(tf.random.normal(shape=(neurons_to_act, 1)))\n",
        "            self.b[i-1].assign(tf.concat(axis=0, values=[self.b[i-1], aux]))\n",
        "\n",
        "          elif self.layers[i-1] > self.new_topology[i-1]: # deactivate some randomly neurons\n",
        "            neurons_to_act = self.new_topology[i-1]\n",
        "            random_index = np.random.choice(self.layers[i-1], neurons_to_act, replace=False)\n",
        "            # Then remove extra rows from the previous layer\n",
        "            # W\n",
        "            aux = np.transpose(pd.DataFrame(self.W[i-1].numpy()))\n",
        "            aux = aux.reindex(columns=random_index).dropna(axis=1)\n",
        "            self.W[i-1].assign(aux.T.to_numpy())\n",
        "            # b\n",
        "            aux = np.transpose(pd.DataFrame(self.b[i-1].numpy()))\n",
        "            aux = aux.reindex(columns=random_index).dropna(axis=1)\n",
        "            self.b[i-1].assign(aux.T.to_numpy())\n",
        "\n",
        "          # Secondly, remove extra layers and then assign the ouput weights to the output layer\n",
        "          index_aux = np.arange(start=1, stop=new_L-1, step=1)\n",
        "          # index_aux[-1] = self.L - 1\n",
        "          mask = np.isin(list(self.W.keys()), index_aux) == False\n",
        "          keys_to_remove = np.array(list(self.W.keys()))[mask]\n",
        "          # W\n",
        "          d = self.W\n",
        "          l = keys_to_remove\n",
        "          list(map(d.__delitem__, filter(d.__contains__,l)))\n",
        "          # b\n",
        "          d = self.b\n",
        "          l = keys_to_remove\n",
        "          list(map(d.__delitem__, filter(d.__contains__,l)))\n",
        "          # Assign output weights to the ouput layer\n",
        "          self.W[i] = tf.Variable(1.0, shape=tf.TensorShape(None)) # to enable future modifications\n",
        "          self.b[i] = tf.Variable(1.0, shape=tf.TensorShape(None)) \n",
        "          if (self.layers[-2] >= self.new_topology[-2]):\n",
        "            neurons_to_act = self.new_topology[i-1]\n",
        "            random_index = np.random.choice(self.layers[self.L-2], neurons_to_act, replace=False)\n",
        "            aux = pd.DataFrame(self.prev_W[self.L -1].numpy())\n",
        "            aux = aux.reindex(columns=random_index).dropna(axis=1)\n",
        "            self.W[i].assign(aux.to_numpy())\n",
        "          else:\n",
        "            neurons_to_act = self.new_topology[-2] - self.layers[-2]\n",
        "            if flag == 1:\n",
        "              try:\n",
        "                shape = (self.new_topology[i], neurons_to_act)\n",
        "                aux = self.sample_distribution(1, i, shape)\n",
        "              except:\n",
        "                print('Normal dist instead')\n",
        "              finally:\n",
        "                aux = tf.Variable(tf.random.normal(shape=(self.new_topology[i], neurons_to_act)))\n",
        "            else:\n",
        "              aux = tf.Variable(tf.random.normal(shape=(self.new_topology[i], neurons_to_act)))\n",
        "            self.W[i].assign(tf.concat(axis=1, values=[self.prev_W[self.L -1], aux]))\n",
        "\n",
        "          self.b[i].assign(self.prev_b[self.L -1])           \n",
        "          break\n",
        "        else:\n",
        "        # Only apply for hidden layers\n",
        "          self.activate_neurons(i, flag)\n",
        "      else: # The new topology contains the same layers but might differ in the number of units per layer\n",
        "        self.activate_neurons(i, flag)\n",
        "\n",
        "    # Update layers attributes and keys\n",
        "    self.L = len(self.new_topology)\n",
        "    self.layers = self.new_topology\n",
        "#-------------------------------------------------------------------------------\n",
        "  def train(self, x_train, y_train, x_test, y_test, epochs, steps_per_epoch, batch_size, lr, trigger):\n",
        "\n",
        "      history = {\n",
        "          'val_loss':[],\n",
        "          'train_loss':[],\n",
        "          'val_acc':[]\n",
        "      }\n",
        "      \n",
        "      flag = 0\n",
        "      for e in range(0, epochs):\n",
        "          epoch_train_loss = 0.\n",
        "          print('Epoch{}'.format(e), end='.')\n",
        "          for i in range(0, steps_per_epoch):\n",
        "              x_batch = x_train[i*batch_size:(i+1)*batch_size]\n",
        "              y_batch = y_train[i*batch_size:(i+1)*batch_size]\n",
        "              \n",
        "              batch_loss = self.train_on_batch(x_batch, y_batch,lr)\n",
        "              epoch_train_loss += batch_loss\n",
        "              \n",
        "              if i%int(steps_per_epoch/10) == 0:\n",
        "                  print(end='.')\n",
        "                  \n",
        "          history['train_loss'].append(epoch_train_loss/steps_per_epoch)\n",
        "          val_A = self.forward_pass(x_test)\n",
        "          val_loss = self.compute_loss(val_A, y_test).numpy()\n",
        "          history['val_loss'].append(val_loss)\n",
        "          val_preds = self.predict(x_test)\n",
        "          val_acc =    np.mean(np.argmax(y_test, axis=1) == val_preds.numpy())\n",
        "          history['val_acc'].append(val_acc)\n",
        "          print('Val acc:',val_acc)\n",
        "          \n",
        "          if e>1 & flag == 0:\n",
        "            flag = 1\n",
        "            if (np.abs(history['train_loss'][-2]-history['train_loss'][-1]/history['train_loss'][-2])>=trigger):\n",
        "              print('AG trigger') \n",
        "              # GA Parameters\n",
        "              num_max_units = 128\n",
        "              num_min_units = 10\n",
        "              num_max_layers = 5\n",
        "              num_min_layers = 2\n",
        "              input_dim = 28*28\n",
        "              output_dim = 10\n",
        "              n_stall_generations = 30\n",
        "              n_iters = 30\n",
        "              sample_update = 0.1\n",
        "              # Invoke GA class \n",
        "              net_algo = self.copy_actual_instance()\n",
        "              algo = GA(net_algo, sample_update, num_max_units, num_min_units, num_max_layers, num_min_layers, input_dim, output_dim)\n",
        "              # Run GA optimization\n",
        "              algo.run_algo(n_stall_generations, n_iters)\n",
        "              # Save best NN & update params\n",
        "              best_NN = algo.best_NN\n",
        "              self.layers = best_NN.layers\n",
        "              self.L = len(self.layers) # input, hidden & output layer\n",
        "              for i in range(1, self.L):\n",
        "                self.W[i].assign(best_NN.W[i])\n",
        "                self.b[i].assign(best_NN.b[i])\n",
        "\n",
        "      return history\n",
        "#-------------------------------------------------------------------------------\n",
        "  def copy_actual_instance(self):\n",
        "    copynet = FluidNetwork(self.layers)\n",
        "    for i in range(1, copynet.L):\n",
        "      copynet.W[i].assign(self.W[i])\n",
        "      copynet.b[i].assign(self.b[i])\n",
        "    return copynet\n",
        "#-------------------------------------------------------------------------------    "
      ],
      "execution_count": 98,
      "outputs": []
    },
    {
      "cell_type": "code",
      "metadata": {
        "id": "NhUkHzLEk69p"
      },
      "source": [
        "class GA():\n",
        "  \"Each cromosome represents a possible structure of a new NN\"\n",
        "#-------------------------------------------------------------------------------\n",
        "  def __init__(self, main_fluid_net, sample_params, num_max_units, num_min_units, num_max_layers, num_min_layers,input_dim, output_dim):\n",
        "    self.num_max_units = num_max_units\n",
        "    self.num_min_units = num_min_units\n",
        "    self.num_max_layers = num_max_layers\n",
        "    self.input_dim = input_dim\n",
        "    self.output_dim = output_dim\n",
        "    self.pop_layers = []\n",
        "    self.n_pop = []\n",
        "    self.best_fitness = []\n",
        "    self.best_NN = []\n",
        "    self.best_layers = []\n",
        "    self.pop_net = [] # the diff among pop_layers and pop_net is that the last one also incluse opt weights\n",
        "    self.pop_fitness = []\n",
        "    self.num_min_layers = num_min_layers\n",
        "    self.pop_initial()\n",
        "    self.main_fluid_net = main_fluid_net\n",
        "    self.sample_params = sample_params # % of params to be sample out of a predetermined distribution\n",
        "#-------------------------------------------------------------------------------    \n",
        "  def pop_initial(self):\n",
        "    # n_pop = int(np.ceil((self.input_dim * 50) / (5 + self.input_dim)))\n",
        "    n_pop = 3\n",
        "    n_layers =  np.random.randint(low=self.num_min_layers, high=self.num_max_layers, size=n_pop)\n",
        "    \n",
        "    pop_layers = [] # Pop of differents NN\n",
        "    for i in range(n_pop):\n",
        "      num_units_layer = np.random.randint(low=self.num_min_units, high=self.num_max_units, size=n_layers[i])\n",
        "      pop_layers.append(num_units_layer)\n",
        "\n",
        "    self.pop_initial = pop_layers\n",
        "    self.n_pop = len(self.pop_initial)\n",
        "    self.pop_layers = pop_layers\n",
        "\n",
        "    # return pop_layers\n",
        "#-------------------------------------------------------------------------------\n",
        "  def fitness(self, epochs):\n",
        "    pop_fitness = []\n",
        "    pop_net = []\n",
        "    pop_layers = []\n",
        "    sample_update = np.round(self.sample_params*self.n_pop, 0)\n",
        "    j = 0 # to control sample udpate\n",
        "    for i in range(self.n_pop):\n",
        "      layers = self.pop_layers[i]\n",
        "      if layers[0] != self.input_dim:\n",
        "        layers = np.insert(layers, 0, self.input_dim)\n",
        "      if layers[-1] != self.output_dim:\n",
        "        layers = np.insert(layers, len(layers), self.output_dim)\n",
        "      # Create de NN, starting from the previous step\n",
        "      net = self.main_fluid_net\n",
        "      net.new_topology = layers\n",
        "      # Padding\n",
        "      if j == sample_update:\n",
        "        net.AG_update(1)\n",
        "        j = 0 # start again\n",
        "      else:\n",
        "        net.AG_update(0) # 1: Sample distribution, 0: Normal initialization\n",
        "      # Load data\n",
        "      (x_train, y_train), (x_test, y_test) = load_data()\n",
        "      # Training parameters\n",
        "      batch_size = 120\n",
        "      steps_per_epoch = int(x_train.shape[0]/batch_size)\n",
        "      lr = 3e-3\n",
        "      trigger = np.inf # to avoid an AG's trigger action\n",
        "      # Training loop\n",
        "      print(f'NN structure {i}/{self.n_pop}')\n",
        "      history = net.train(x_train, y_train, x_test, y_test, epochs, steps_per_epoch,\n",
        "        batch_size, lr, trigger)\n",
        "      pop_fitness.append(history['val_acc'][-1])\n",
        "      pop_net.append(net)\n",
        "      pop_layers.append(layers)\n",
        "      j +=1\n",
        "\n",
        "    self.pop_layers = pop_layers\n",
        "    self.pop_fitness = pop_fitness\n",
        "    self.pop_net = pop_net \n",
        "    return pop_fitness\n",
        "#-------------------------------------------------------------------------------\n",
        "  def selection(self):\n",
        "    pop_fitness =  self.pop_fitness\n",
        "    # Although the fitness values (accuracy) are normalised, as they are compared \n",
        "    # to a random threshold between 0-1 we rather apply a min-max scaler.\n",
        "    fitness_pu = np.asarray(pop_fitness)\n",
        "    fitness_pu = (fitness_pu - fitness_pu.min()) / (fitness_pu.max() - fitness_pu.min()) \n",
        "    index = random.sample(range(len(fitness_pu)), len(fitness_pu))\n",
        "\n",
        "    fathers_to_select = []\n",
        "    j = 0\n",
        "    while (len(fathers_to_select) < 2 and j < len(index)):\n",
        "      i = index[j]\n",
        "      threshold = np.random.random()\n",
        "      if fitness_pu[i] > threshold:\n",
        "        fathers_to_select.append(i)\n",
        "      j +=1\n",
        "    return fathers_to_select\n",
        "#-------------------------------------------------------------------------------\n",
        "  def crossover(self, crossover_rate, nchild): # Two children by each recombination\n",
        "    threshold = np.random.random()\n",
        "    if crossover_rate > threshold: # Then crossover operator is computed\n",
        "      # Select crossover point that is not on the end of the string\n",
        "      c = self.permutation(2) # number of children\n",
        "      # Wrap up all children\n",
        "      # c1, c2 = list(c.values())\n",
        "      return c\n",
        "    else:\n",
        "      return []\n",
        "#-------------------------------------------------------------------------------\n",
        "  def permutation(self, nchild):\n",
        "    c = {}\n",
        "    fathers_to_select = self.selection()\n",
        "    if len(fathers_to_select) < 2:\n",
        "      return []\n",
        "    else:\n",
        "      p1 = self.pop_layers[fathers_to_select[0]]\n",
        "      p2 = self.pop_layers[fathers_to_select[1]]\n",
        "      w_dW1 = np.abs(self.compute_db_weight(fathers_to_select[0]))\n",
        "      w_dW2 = np.abs(self.compute_db_weight(fathers_to_select[1]))\n",
        "      for j in range(2):\n",
        "        c[j] = []\n",
        "        n = np.random.randint(self.num_min_layers, (np.max([len(p1), len(p2)]))) # child's length\n",
        "        for i in range(n):\n",
        "          if i < min([len(p1)-1, len(p2)-1]):\n",
        "            idx = np.random.randint(1, np.min([len(p1)-1, len(p2)-1])) # -1 OJO\n",
        "            aux = np.argmin([w_dW1[idx], w_dW2[idx]])\n",
        "            if aux == 0:\n",
        "              c[j].append(p1[idx])\n",
        "            else:\n",
        "              c[j].append(p2[idx])\n",
        "          else:\n",
        "            if len(p1) > len(p2):\n",
        "              idx = np.random.randint(1, len(p1))\n",
        "              c[j].append(p1[idx])\n",
        "            else:\n",
        "              idx = np.random.randint(1, len(p2))\n",
        "              c[j].append(p2[idx])\n",
        "      return c\n",
        "#-------------------------------------------------------------------------------\n",
        "  def mutation(self, mutation_rate):\n",
        "    threshold = np.random.random()\n",
        "    if threshold < mutation_rate:\n",
        "       n_mut_pop = np.int(self.n_pop*mutation_rate)\n",
        "       return np.random.randint(low=self.num_min_layers, high=self.num_max_layers, size=n_mut_pop)\n",
        "    else:\n",
        "       return []\n",
        "#-------------------------------------------------------------------------------\n",
        "  def generational_replacement(self): \n",
        "    next_pop = []\n",
        "    i = 0\n",
        "    next_pop.append(self.best_layers)\n",
        "    while len(next_pop) < self.n_pop :\n",
        "      aux1 = self.crossover(0.8, 2)\n",
        "      aux2 = self.mutation(0.2)\n",
        "      if len(aux1) != 0:\n",
        "        aux1_0 = list(aux1.values())[0]\n",
        "        aux1_1 = list(aux1.values())[1]\n",
        "        next_pop.append(aux1_0)\n",
        "        next_pop.append(aux1_1)\n",
        "      if len(aux2) != 0:\n",
        "        next_pop.append(list(aux2))\n",
        "      i +=1\n",
        "    self.pop_layers = next_pop\n",
        "#-------------------------------------------------------------------------------\n",
        "  def compute_db_weight(self, j):\n",
        "    mean_dW = []\n",
        "    net = self.pop_net[j]\n",
        "    fitness = self.pop_fitness[j]\n",
        "    for i in range(1, net.L):\n",
        "      mean_dW.append(np.mean(net.dW[i]))\n",
        "    return mean_dW/fitness\n",
        "#-------------------------------------------------------------------------------\n",
        "  def run_algo(self, n_stall_generations, max_iters):\n",
        "     # Parameters' initialization\n",
        "     self.best_fitness = 0\n",
        "     stall_generations = 0\n",
        "     iters = 0\n",
        "     # While-loop to find the optimal parameters\n",
        "     while stall_generations < n_stall_generations or iters < max_iters:\n",
        "       iters += 1\n",
        "       pop_fitness = self.fitness(3)\n",
        "       if self.best_fitness < max(pop_fitness):\n",
        "         self.best_fitness = max(pop_fitness)\n",
        "         max_index = pop_fitness.index(self.best_fitness)\n",
        "         self.best_NN = self.pop_net[max_index]\n",
        "         self.best_layers = self.pop_layers[max_index]\n",
        "         stall_generations = 0\n",
        "         print(f'Iter {iters}.The best NN has an accuracy of {self.best_fitness }')\n",
        "       else:\n",
        "         stall_generations += 1\n",
        "         print(f'Iter {iters}.No improvement')\n",
        "\n",
        "       self.generational_replacement()\n",
        "     return self.best_NN\n",
        "    "
      ],
      "execution_count": 99,
      "outputs": []
    },
    {
      "cell_type": "code",
      "metadata": {
        "id": "R_6h6OOFzTxP"
      },
      "source": [
        "# Topological parameters\n",
        "max_layers = 3+2\n",
        "num_max_units = 128\n",
        "input_dim = 28*28\n",
        "output_dim = 10\n",
        "\n",
        "layers = np.zeros(max_layers, dtype='uint32')\n",
        "for i in range(max_layers): \n",
        "  if i == 0:\n",
        "    layers[i] = input_dim\n",
        "  elif i == max_layers-1:\n",
        "    layers[i] = output_dim\n",
        "  else:\n",
        "    layers[i] = num_max_units"
      ],
      "execution_count": 100,
      "outputs": []
    },
    {
      "cell_type": "code",
      "metadata": {
        "id": "IA5zF12ZzTxQ"
      },
      "source": [
        "net = FluidNetwork(layers)"
      ],
      "execution_count": 101,
      "outputs": []
    },
    {
      "cell_type": "code",
      "metadata": {
        "colab": {
          "base_uri": "https://localhost:8080/"
        },
        "id": "PK4QGC6_zTxQ",
        "outputId": "63b18061-3193-4f6e-850f-ac5c5d567681"
      },
      "source": [
        "# Training parameters\n",
        "batch_size = 120\n",
        "epochs = 3\n",
        "steps_per_epoch = int(x_train.shape[0]/batch_size)\n",
        "lr = 3e-3\n",
        "trigger = 0.1\n",
        "print('Steps per epoch', steps_per_epoch)"
      ],
      "execution_count": null,
      "outputs": [
        {
          "output_type": "stream",
          "name": "stdout",
          "text": [
            "Steps per epoch 500\n"
          ]
        }
      ]
    },
    {
      "cell_type": "code",
      "metadata": {
        "id": "kx1BGE4EzTxQ"
      },
      "source": [
        "# COMPROBACIONES:\n",
        "# net = FluidNetwork(layers) \n",
        "# net.new_topology = [784,  200, 1, 300, 30, 40 , 50 , 70, 10]\n",
        "# net.AG_update()\n",
        "# for i in range(1, net.L):\n",
        "# print(net.W[i].numpy().shape)"
      ],
      "execution_count": null,
      "outputs": []
    },
    {
      "cell_type": "code",
      "metadata": {
        "id": "262CZiIlzTxR"
      },
      "source": [
        "history = net.train(\n",
        "    x_train,y_train,\n",
        "    x_test, y_test,\n",
        "    epochs, steps_per_epoch,\n",
        "    batch_size, lr, trigger)"
      ],
      "execution_count": null,
      "outputs": []
    },
    {
      "cell_type": "code",
      "metadata": {
        "colab": {
          "base_uri": "https://localhost:8080/",
          "height": 265
        },
        "id": "_H2IWHv3mZ9i",
        "outputId": "b56f52bc-976d-48fd-deb8-cdc78e9c95bb"
      },
      "source": [
        "net.new_topology = [784, 800, 100, 10]\n",
        "net.AG_update(1)"
      ],
      "execution_count": 108,
      "outputs": [
        {
          "output_type": "display_data",
          "data": {
            "image/png": "[encoded data removed]",
            "text/plain": [
              "<Figure size 432x288 with 1 Axes>"
            ]
          },
          "metadata": {
            "needs_background": "light"
          }
        }
      ]
    },
    {
      "cell_type": "code",
      "metadata": {
        "colab": {
          "base_uri": "https://localhost:8080/",
          "height": 299
        },
        "id": "Fn2bZ6WUzTxR",
        "outputId": "0890d0a5-a246-4081-b564-147b2893577b"
      },
      "source": [
        "plot_results(history)"
      ],
      "execution_count": null,
      "outputs": [
        {
          "output_type": "execute_result",
          "data": {
            "text/plain": [
              "<module 'matplotlib.pyplot' from '/usr/local/lib/python3.7/dist-packages/matplotlib/pyplot.py'>"
            ]
          },
          "metadata": {},
          "execution_count": 223
        },
        {
          "output_type": "display_data",
          "data": {
            "image/png": "[encoded data removed]",
            "text/plain": [
              "<Figure size 864x288 with 2 Axes>"
            ]
          },
          "metadata": {
            "needs_background": "light"
          }
        }
      ]
    },
    {
      "cell_type": "markdown",
      "metadata": {
        "id": "CsgYxvzHCb2J"
      },
      "source": [
        "### GA"
      ]
    },
    {
      "cell_type": "code",
      "metadata": {
        "id": "9GG3KBCtCafP"
      },
      "source": [
        "class GA():\n",
        "  \"Each cromosome represents a possible structure of a new NN\"\n",
        "#-------------------------------------------------------------------------------\n",
        "  def __init__(self, main_fluid_net, sample_params, num_max_units, num_min_units, num_max_layers, num_min_layers,input_dim, output_dim):\n",
        "    self.num_max_units = num_max_units\n",
        "    self.num_min_units = num_min_units\n",
        "    self.num_max_layers = num_max_layers\n",
        "    self.input_dim = input_dim\n",
        "    self.output_dim = output_dim\n",
        "    self.pop_layers = []\n",
        "    self.n_pop = []\n",
        "    self.best_fitness = []\n",
        "    self.best_NN = []\n",
        "    self.pop_net = [] # the diff among pop_layers and pop_net is that the last one also incluse opt weights\n",
        "    self.pop_fitness = []\n",
        "    self.num_min_layers = num_min_layers\n",
        "    self.pop_initial()\n",
        "    self.main_fluid_net = main_fluid_net\n",
        "    self.sample_params = sample_params # % of params to be sample out of a predetermined distribution\n",
        "#-------------------------------------------------------------------------------    \n",
        "  def pop_initial(self):\n",
        "    # n_pop = int(np.ceil((self.input_dim * 50) / (5 + self.input_dim)))\n",
        "    n_pop = 3\n",
        "    n_layers =  np.random.randint(low=self.num_min_layers, high=self.num_max_layers, size=n_pop)\n",
        "    \n",
        "    pop_layers = [] # Pop of differents NN\n",
        "    for i in range(n_pop):\n",
        "      num_units_layer = np.random.randint(low=self.num_min_units, high=self.num_max_units, size=n_layers[i])\n",
        "      pop_layers.append(num_units_layer)\n",
        "\n",
        "    self.pop_initial = pop_layers\n",
        "    self.n_pop = len(self.pop_initial)\n",
        "    self.pop_layers = pop_layers\n",
        "\n",
        "    # return pop_layers\n",
        "#-------------------------------------------------------------------------------\n",
        "  def fitness(self, epochs):\n",
        "    pop_fitness = []\n",
        "    pop_net = []\n",
        "    pop_layers = []\n",
        "    sample_update = np.round(self.sample_params*self.n_pop, 0)\n",
        "    j = 0 # to control sample udpate\n",
        "    for i in range(self.n_pop):\n",
        "      layers = self.pop_layers[i]\n",
        "      if layers[0] != self.input_dim:\n",
        "        layers = np.insert(layers, 0, self.input_dim)\n",
        "      if layers[-1] != self.output_dim:\n",
        "        layers = np.insert(layers, len(layers), self.output_dim)\n",
        "      # Create de NN, starting from the previous step\n",
        "      net = self.main_fluid_net\n",
        "      net.new_topology = layers\n",
        "      # Padding\n",
        "      if j == sample_update:\n",
        "        net.AG_update(1)\n",
        "        j = 0 # start again\n",
        "      else:\n",
        "        net.AG_update(0) # 1: Sample distribution, 0: Normal initialization\n",
        "      # Load data\n",
        "      (x_train, y_train), (x_test, y_test) = load_data()\n",
        "      # Training parameters\n",
        "      batch_size = 120\n",
        "      steps_per_epoch = int(x_train.shape[0]/batch_size)\n",
        "      lr = 3e-3\n",
        "      trigger = np.inf # to avoid an AG's trigger action\n",
        "      # Training loop\n",
        "      print(f'NN structure {i}/{self.n_pop}')\n",
        "      history = net.train(x_train, y_train, x_test, y_test, epochs, steps_per_epoch,\n",
        "        batch_size, lr, trigger)\n",
        "      pop_fitness.append(history['val_acc'][-1])\n",
        "      pop_net.append(net)\n",
        "      pop_layers.append(layers)\n",
        "      j +=1\n",
        "\n",
        "    self.pop_layers = pop_layers\n",
        "    self.pop_fitness = pop_fitness\n",
        "    self.pop_net = pop_net \n",
        "    return pop_fitness\n",
        "#-------------------------------------------------------------------------------\n",
        "  def selection(self):\n",
        "    pop_fitness =  self.pop_fitness\n",
        "    # Although the fitness values (accuracy) are normalised, as they are compared \n",
        "    # with a random threshold between 0-1 we rather apply a min-max scaler.\n",
        "    fitness_pu = np.asarray(pop_fitness)\n",
        "    fitness_pu = (fitness_pu - fitness_pu.min()) / (fitness_pu.max() - fitness_pu.min()) \n",
        "    index = random.sample(range(len(fitness_pu)), len(fitness_pu))\n",
        "\n",
        "    fathers_to_select = []\n",
        "    j = 0\n",
        "    while (len(fathers_to_select) < 2 and j < len(index)):\n",
        "      i = index[j]\n",
        "      threshold = np.random.random()\n",
        "      if fitness_pu[i] > threshold:\n",
        "        fathers_to_select.append(i)\n",
        "      j +=1\n",
        "    return fathers_to_select\n",
        "#-------------------------------------------------------------------------------\n",
        "  def crossover(self, crossover_rate, nchild): # Two children by each recombination\n",
        "    threshold = np.random.random()\n",
        "    if crossover_rate > threshold: # Then crossover operator is computed\n",
        "      # Select crossover point that is not on the end of the string\n",
        "      c = self.permutation(2) # number of children\n",
        "      # Wrap up all children\n",
        "      # c1, c2 = list(c.values())\n",
        "      return c\n",
        "    else:\n",
        "      return []\n",
        "#-------------------------------------------------------------------------------\n",
        "  def permutation(self, nchild):\n",
        "    c = {}\n",
        "    fathers_to_select = self.selection()\n",
        "    if len(fathers_to_select) < 2:\n",
        "      return []\n",
        "    else:\n",
        "      p1 = self.pop_layers[fathers_to_select[0]]\n",
        "      p2 = self.pop_layers[fathers_to_select[1]]\n",
        "      w_dW1 = np.abs(self.compute_db_weight(fathers_to_select[0]))\n",
        "      w_dW2 = np.abs(self.compute_db_weight(fathers_to_select[1]))\n",
        "      for j in range(2):\n",
        "        c[j] = []\n",
        "        n = np.random.randint(self.num_min_layers, (np.max([len(p1), len(p2)]))) # child's length\n",
        "        for i in range(n):\n",
        "          if i < min([len(p1)-1, len(p2)-1]):\n",
        "            idx = np.random.randint(1, np.min([len(p1)-1, len(p2)-1])) # -1 OJO\n",
        "            aux = np.argmin([w_dW1[idx], w_dW2[idx]])\n",
        "            if aux == 0:\n",
        "              c[j].append(p1[idx])\n",
        "            else:\n",
        "              c[j].append(p2[idx])\n",
        "          else:\n",
        "            if len(p1) > len(p2):\n",
        "              idx = np.random.randint(1, len(p1))\n",
        "              c[j].append(p1[idx])\n",
        "            else:\n",
        "              idx = np.random.randint(1, len(p2))\n",
        "              c[j].append(p2[idx])\n",
        "      return c\n",
        "#-------------------------------------------------------------------------------\n",
        "  def mutation(self, mutation_rate):\n",
        "    threshold = np.random.random()\n",
        "    if threshold < mutation_rate:\n",
        "       n_mut_pop = np.int(self.n_pop*mutation_rate)\n",
        "       return np.random.randint(low=self.num_min_layers, high=self.num_max_layers, size=n_mut_pop)\n",
        "    else:\n",
        "       return []\n",
        "#-------------------------------------------------------------------------------\n",
        "  def generational_replacement(self): \n",
        "    next_pop = []\n",
        "    i = 0\n",
        "    next_pop.append(self.best_NN)\n",
        "    while len(next_pop) < self.n_pop :\n",
        "      aux1 = self.crossover(0.8, 2)\n",
        "      aux2 = self.mutation(0.2)\n",
        "      if len(aux1) != 0:\n",
        "        aux1_0 = list(aux1.values())[0]\n",
        "        aux1_1 = list(aux1.values())[1]\n",
        "        next_pop.append(aux1_0)\n",
        "        next_pop.append(aux1_1)\n",
        "      if len(aux2) != 0:\n",
        "        next_pop.append(list(aux2))\n",
        "      i +=1\n",
        "    self.pop_layers = next_pop\n",
        "#-------------------------------------------------------------------------------\n",
        "  def compute_db_weight(self, j):\n",
        "    mean_dW = []\n",
        "    net = self.pop_net[j]\n",
        "    fitness = self.pop_fitness[j]\n",
        "    for i in range(1, net.L):\n",
        "      mean_dW.append(np.mean(net.dW[i]))\n",
        "    return mean_dW/fitness\n",
        "#-------------------------------------------------------------------------------\n",
        "  def run_algo(self, n_stall_generations, max_iters):\n",
        "     # Parameters' initialization\n",
        "     self.best_fitness = 0\n",
        "     stall_generations = 0\n",
        "     iters = 0\n",
        "     # While-loop to find the optimal parameters\n",
        "     while stall_generations < n_stall_generations or iters < max_iters:\n",
        "       iters += 1\n",
        "       pop_fitness = self.fitness(3)\n",
        "       if self.best_fitness < max(pop_fitness):\n",
        "         self.best_fitness = max(pop_fitness)\n",
        "         max_index = pop_fitness.index(self.best_fitness)\n",
        "         self.best_NN = self.pop_net[max_index]\n",
        "         stall_generations = 0\n",
        "         print(f'Iter {iters}.The best NN has an accuracy of {self.best_fitness }')\n",
        "       else:\n",
        "         stall_generations += 1\n",
        "         print(f'Iter {iters}.No improvement')\n",
        "\n",
        "       self.generational_replacement()\n",
        "     return self.best_NN\n",
        "    "
      ],
      "execution_count": null,
      "outputs": []
    },
    {
      "cell_type": "code",
      "metadata": {
        "id": "PEKYJcR6X-Jh"
      },
      "source": [
        "num_max_units = 128\n",
        "num_min_units = 10\n",
        "num_max_layers = 5\n",
        "num_min_layers = 2\n",
        "input_dim = 28*28\n",
        "output_dim = 10\n",
        "sample_update = 0.1"
      ],
      "execution_count": null,
      "outputs": []
    },
    {
      "cell_type": "code",
      "metadata": {
        "id": "yXR3njMZUc9L"
      },
      "source": [
        "algo = GA(net, sample_update, num_max_units, num_min_units, num_max_layers, num_min_layers, input_dim, output_dim)"
      ],
      "execution_count": null,
      "outputs": []
    },
    {
      "cell_type": "code",
      "metadata": {
        "colab": {
          "base_uri": "https://localhost:8080/"
        },
        "id": "Yh-sJMv_YOqN",
        "outputId": "0f1ba476-a6bf-45f6-c78f-f0e368949cd3"
      },
      "source": [
        "algo.run_algo(1, 1)"
      ],
      "execution_count": null,
      "outputs": [
        {
          "output_type": "stream",
          "name": "stdout",
          "text": [
            "NN structure 0/3\n",
            "Epoch0...........Val acc: 0.1021\n",
            "Epoch1...........Val acc: 0.1015\n",
            "Epoch2...........Val acc: 0.1014\n",
            "NN structure 1/3\n",
            "Epoch0...........Val acc: 0.1012\n",
            "Epoch1...........Val acc: 0.1009\n",
            "Epoch2...........Val acc: 0.101\n",
            "NN structure 2/3\n",
            "Epoch0...........Val acc: 0.1103\n",
            "Epoch1...........Val acc: 0.1161\n",
            "Epoch2...........Val acc: 0.1202\n",
            "Iter 1.The best NN has an accuracy of 0.1202\n"
          ]
        },
        {
          "output_type": "execute_result",
          "data": {
            "text/plain": [
              "<__main__.FluidNetwork at 0x7f151b87c5d0>"
            ]
          },
          "metadata": {},
          "execution_count": 209
        }
      ]
    },
    {
      "cell_type": "markdown",
      "metadata": {
        "id": "Bffq_iOOqshZ"
      },
      "source": [
        "## Samplear distribucion de pesos"
      ]
    },
    {
      "cell_type": "code",
      "metadata": {
        "id": "x07fVKfS1D1N"
      },
      "source": [
        "def sample_distribution(param, layer, shape):\n",
        "  'Param: W (1) /b (0), layer: number of weight, size: tensor shape'\n",
        "  # Find best distribution to fit in dataset\n",
        "  if param == 1:\n",
        "    dataset = pd.DataFrame(net.W[layer].numpy())\n",
        "  else:\n",
        "    dataset = pd.DataFrame(net.b[layer].numpy())\n",
        "\n",
        "  f = Fitter(dataset,distributions= get_common_distributions()) # only common distribution out of the 80 are tested\n",
        "  f.fit()\n",
        "  summary = pd.DataFrame(f.summary(method='bic')) \n",
        "  dist_name = summary['bic'].keys()[0] # best dist according to bic values\n",
        "  # best_params = list(f.get_best(method='bic').values())[0] # best params \n",
        "  best_params = f.fitted_param[dist_name]\n",
        "  # Invoke distribution object\n",
        "  tfd = tfp.distributions\n",
        "  # Switch-case sentence\n",
        "  if dist_name == 'cauchy':\n",
        "    return tfd.Cauchy(loc=best_params[0], scale=best_params[1]).sample(shape)\n",
        "  elif dist_name == 'chi2':\n",
        "    return tfd.Chi2(best_params[0]).sample(shape)\n",
        "  elif dist_name == 'expon':\n",
        "    return tfd.Exponential(np.abs(best_params[0])).sample(shape)\n",
        "  elif dist_name == 'exponpow':\n",
        "    return tfd.ExponentiallyModifiedGaussian(loc=best_params[0],\n",
        "                                             scale=best_params[1],\n",
        "                                             rate=best_params[2]).sample(shape)\n",
        "  elif dist_name == 'gamma':\n",
        "    return tfd.Gamma(concentration==best_params[0], rate=best_params[1],\n",
        "                                          log_rate=best_params[2]).sample(shape)\n",
        "  elif dist_name == 'lognorm':\n",
        "    return tfd.LogNormal(loc=best_params[0], scale=best_params[1]).sample(shape)\n",
        "  elif dist_name == 'norm':\n",
        "    return tfd.Normal(loc=best_params[0], scale=best_params[1]).sample(shape)\n",
        "  elif dist_name == 'powerlaw': # Its not defined\n",
        "    return tfd.Normal(loc=best_params[0], scale=best_params[1]).sample(shape)\n",
        "  elif dist_name == 'rayleigh':\n",
        "    return tfp.random.rayleigh(loc=best_params[0], scale=best_params[1]).sample(shape)\n",
        "  else: # uniform\n",
        "    return tfd.Uniform(low=best_params[0], high=best_params[1]).sample(shape)"
      ],
      "execution_count": null,
      "outputs": []
    },
    {
      "cell_type": "code",
      "metadata": {
        "colab": {
          "base_uri": "https://localhost:8080/",
          "height": 265
        },
        "id": "Gmp-mv1L5Px7",
        "outputId": "4bdeb39e-73be-434a-dc7e-554c06675f1a"
      },
      "source": [
        "sample_distriibution(1, 3, (3,1))"
      ],
      "execution_count": null,
      "outputs": [
        {
          "output_type": "display_data",
          "data": {
            "image/png": "[encoded data removed]",
            "text/plain": [
              "<Figure size 432x288 with 1 Axes>"
            ]
          },
          "metadata": {
            "needs_background": "light"
          }
        }
      ]
    },
    {
      "cell_type": "code",
      "metadata": {
        "id": "1gAXu9CrBYb1"
      },
      "source": [
        ""
      ],
      "execution_count": null,
      "outputs": []
    }
  ]
}